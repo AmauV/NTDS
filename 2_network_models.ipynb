{
 "cells": [
  {
   "cell_type": "markdown",
   "metadata": {},
   "source": [
    "# [NTDS'18] milestone 2: network models\n",
    "[ntds'18]: https://github.com/mdeff/ntds_2018\n",
    "\n",
    "[Hermina Petric Maretic](https://people.epfl.ch/hermina.petricmaretic), [EPFL LTS4](https://lts4.epfl.ch)"
   ]
  },
  {
   "cell_type": "markdown",
   "metadata": {},
   "source": [
    "## Students\n",
    "\n",
    "* Team: 3\n",
    "* Students: Baptiste Hériard-Dubreuil, Jean-Baptiste Membrado, Guilhem Noiraud, Amaury Véron\n",
    "* Dataset: Flight routes"
   ]
  },
  {
   "cell_type": "markdown",
   "metadata": {},
   "source": [
    "## Rules\n",
    "\n",
    "* Milestones have to be completed by teams. No collaboration between teams is allowed.\n",
    "* Textual answers shall be short. Typically one to two sentences.\n",
    "* Code has to be clean.\n",
    "* In the first part, you cannot import any other library than we imported. In the second part, you are allowed to import any library you want.\n",
    "* When submitting, the notebook is executed and the results are stored. I.e., if you open the notebook again it should show numerical results and plots. We won't be able to execute your notebooks.\n",
    "* The notebook is re-executed from a blank state before submission. That is to be sure it is reproducible. You can click \"Kernel\" then \"Restart & Run All\" in Jupyter."
   ]
  },
  {
   "cell_type": "markdown",
   "metadata": {},
   "source": [
    "## Objective\n",
    "\n",
    "The purpose of this milestone is to explore various random network models, analyse their properties and compare them to your network. In the first part of the milestone you will implement two random graph models and try to fit them to your network. In this part you are not allowed to use any additional package. In the second part of the milestone you will choose a third random graph model that you think shares some properties with your network. You will be allowed to use additional packages to construct this network, but you must explain your network choice. Finally, make your code as clean as possible, and keep your textual answers short."
   ]
  },
  {
   "cell_type": "markdown",
   "metadata": {},
   "source": [
    "## Part 0\n",
    "\n",
    "Import the adjacency matrix of your graph that you constructed in milestone 1, as well as the number of nodes and edges of your network."
   ]
  },
  {
   "cell_type": "code",
   "execution_count": 19,
   "metadata": {},
   "outputs": [],
   "source": [
    "import numpy as np\n",
    "adjacency =  np.load(\"adjacency.npy\")\n",
    "n_nodes =  len(adjacency[0])\n",
    "n_edges =  sum(sum(adjacency))/2 #each node is count two times"
   ]
  },
  {
   "cell_type": "markdown",
   "metadata": {},
   "source": [
    "## Part 1\n",
    "\n",
    "**For the computation of this part of the milestone you are only allowed to use the packages that have been imported in the cell below.**"
   ]
  },
  {
   "cell_type": "code",
   "execution_count": 20,
   "metadata": {},
   "outputs": [],
   "source": [
    "%matplotlib inline\n",
    "\n",
    "import random\n",
    "\n",
    "import numpy as np\n",
    "import pandas as pd\n",
    "import matplotlib.pyplot as plt\n",
    "import scipy"
   ]
  },
  {
   "cell_type": "markdown",
   "metadata": {},
   "source": [
    "### Question 1\n",
    "\n",
    "Create a function that constructs an Erdős–Rényi graph."
   ]
  },
  {
   "cell_type": "code",
   "execution_count": 21,
   "metadata": {},
   "outputs": [],
   "source": [
    "def erdos_renyi(n, p, seed=None):\n",
    "    \"\"\"Create an instance from the Erdos-Renyi graph model.\n",
    "    \n",
    "    Parameters\n",
    "    ----------\n",
    "    n: int\n",
    "        Size of the graph.\n",
    "    p: float\n",
    "        Edge probability. A number between 0 and 1.\n",
    "    seed: int (optional)\n",
    "        Seed for the random number generator. To get reproducible results.\n",
    "    \n",
    "    Returns\n",
    "    -------\n",
    "    adjacency\n",
    "        The adjacency matrix of a graph.\n",
    "    \"\"\"\n",
    "    \n",
    "    np.random.seed(seed)\n",
    "    adjacency = np.random.rand(n,n)\n",
    "    \n",
    "    for i in range(n):\n",
    "        for j in range(n):\n",
    "            if adjacency[i][j]<p:\n",
    "                adjacency[i][j] = 1\n",
    "            else:\n",
    "                adjacency[i][j] = 0\n",
    "    \n",
    "    return adjacency"
   ]
  },
  {
   "cell_type": "code",
   "execution_count": 22,
   "metadata": {},
   "outputs": [
    {
     "data": {
      "text/plain": [
       "Text(0.5, 1.05, 'Erdos-Renyi (5, 0.6)')"
      ]
     },
     "execution_count": 22,
     "metadata": {},
     "output_type": "execute_result"
    },
    {
     "data": {
      "image/png": "[encoded data removed]",
      "text/plain": [
       "<Figure size 432x288 with 1 Axes>"
      ]
     },
     "metadata": {},
     "output_type": "display_data"
    }
   ],
   "source": [
    "er = erdos_renyi(5, 0.6, 9765)\n",
    "plt.spy(er)\n",
    "plt.title('Erdos-Renyi (5, 0.6)')"
   ]
  },
  {
   "cell_type": "code",
   "execution_count": 23,
   "metadata": {},
   "outputs": [
    {
     "data": {
      "text/plain": [
       "Text(0.5, 1.05, 'Erdos-Renyi (10, 0.4)')"
      ]
     },
     "execution_count": 23,
     "metadata": {},
     "output_type": "execute_result"
    },
    {
     "data": {
      "image/png": "[encoded data removed]",
      "text/plain": [
       "<Figure size 432x288 with 1 Axes>"
      ]
     },
     "metadata": {},
     "output_type": "display_data"
    }
   ],
   "source": [
    "er = erdos_renyi(10, 0.4, 7648)\n",
    "plt.spy(er)\n",
    "plt.title('Erdos-Renyi (10, 0.4)')"
   ]
  },
  {
   "cell_type": "markdown",
   "metadata": {},
   "source": [
    "### Question 2\n",
    "\n",
    "Use the function to create a random Erdos-Renyi graph. Choose the parameters such that number of nodes is the same as in your graph, and the number of edges similar. You don't need to set the random seed. Comment on your choice of parameters."
   ]
  },
  {
   "cell_type": "code",
   "execution_count": 24,
   "metadata": {},
   "outputs": [
    {
     "data": {
      "text/plain": [
       "Text(0.5, 1.05, 'Erdös-Rényi graph')"
      ]
     },
     "execution_count": 24,
     "metadata": {},
     "output_type": "execute_result"
    },
    {
     "data": {
      "image/png": "[encoded data removed]",
      "text/plain": [
       "<Figure size 432x288 with 1 Axes>"
      ]
     },
     "metadata": {},
     "output_type": "display_data"
    }
   ],
   "source": [
    "n_edges_max = n_nodes*(n_nodes-1)/2\n",
    "er_planes = erdos_renyi(n_nodes, n_edges/n_edges_max,5000) #we put a seed to have less changes while doing commits in GitHub\n",
    "plt.spy(er_planes)\n",
    "plt.title('Erdös-Rényi graph')"
   ]
  },
  {
   "cell_type": "markdown",
   "metadata": {},
   "source": [
    "**The first parameter of our function is the number of nodes of the adjacency matrix we created in the last milestone. To set the probability of an edge (second parameter of the function), we took the ratio of the number of edges in our adjacency matrix divided by the maximum number of edges for an undirected graph.**"
   ]
  },
  {
   "cell_type": "markdown",
   "metadata": {},
   "source": [
    "### Question 3\n",
    "\n",
    "Create a function that constructs a Barabási-Albert graph."
   ]
  },
  {
   "cell_type": "code",
   "execution_count": 25,
   "metadata": {},
   "outputs": [],
   "source": [
    "def barabasi_albert(n, m, seed=None):\n",
    "    \"\"\"Create an instance from the Barabasi-Albert graph model.\n",
    "    \n",
    "    Parameters\n",
    "    ----------\n",
    "    n: int\n",
    "        Size of the graph.\n",
    "    m: int\n",
    "        Number of edges to attach from a new node to existing nodes.\n",
    "    seed: int (optional)\n",
    "        Seed for the random number generator. To get reproducible results.\n",
    "    \n",
    "    Returns\n",
    "    -------\n",
    "    adjacency\n",
    "        The adjacency matrix of a graph.\n",
    "    \"\"\"\n",
    "    \n",
    "    # BA model uses preferential attachment\n",
    "    # We begin with m nodes that are linked and keep adding new nodes until we have a graph of size n\n",
    "    # At each step, we add m edges to existing nodes\n",
    "    \n",
    "    np.random.seed(seed)\n",
    "    \n",
    "    adjacency = np.zeros((n, n))\n",
    "    degrees = np.zeros(n)\n",
    "    total_degrees = 0\n",
    "    \n",
    "    \n",
    "    # Initially, we add m nodes to the model (2 nodes if m==1)\n",
    "    if m == 1:\n",
    "        initial_nodes_number = 2\n",
    "    elif m > 1:\n",
    "        initial_nodes_number = m\n",
    "    else:\n",
    "        return \"m is not valid\"\n",
    "\n",
    "    #Those nodes are all connected\n",
    "    for i in range(initial_nodes_number):\n",
    "        node_degree = 0\n",
    "        for j in range(initial_nodes_number):\n",
    "            if (i != j):\n",
    "                adjacency[i, j] = 1\n",
    "                node_degree += 1\n",
    "                total_degrees += 1\n",
    "        degrees[i] = node_degree\n",
    "    \n",
    "    #Addition of the n-m missing nodes to the graph\n",
    "    for node in range(initial_nodes_number,n):\n",
    "        connected_nodes = []\n",
    "        while len(connected_nodes)<m:\n",
    "            rnd = np.random.randint(1,total_degrees)\n",
    "            s = 0\n",
    "            for i in range(node):\n",
    "                s += degrees[i]\n",
    "                if rnd <= s:\n",
    "                    potential_node_to_connect = i\n",
    "                    #test if the founded candidate has already been visited or not\n",
    "                    if potential_node_to_connect in connected_nodes:\n",
    "                        continue\n",
    "                    else:\n",
    "                        break\n",
    "            #Creation of the new edge between two nodes\n",
    "            connected_node = potential_node_to_connect\n",
    "            connected_nodes.append(connected_node)\n",
    "            adjacency[node,connected_node] = 1\n",
    "            adjacency[connected_node,node] = 1\n",
    "            degrees[connected_node] += 1\n",
    "            degrees[node] += 1\n",
    "        total_degrees += 2*m\n",
    "    \n",
    "    return adjacency"
   ]
  },
  {
   "cell_type": "code",
   "execution_count": 26,
   "metadata": {},
   "outputs": [
    {
     "data": {
      "text/plain": [
       "Text(0.5, 1.05, 'Barabasi-Albert (5, 1)')"
      ]
     },
     "execution_count": 26,
     "metadata": {},
     "output_type": "execute_result"
    },
    {
     "data": {
      "image/png": "[encoded data removed]",
      "text/plain": [
       "<Figure size 432x288 with 1 Axes>"
      ]
     },
     "metadata": {},
     "output_type": "display_data"
    }
   ],
   "source": [
    "ba = barabasi_albert(5, 1, 9087)\n",
    "plt.spy(ba)\n",
    "plt.title('Barabasi-Albert (5, 1)')"
   ]
  },
  {
   "cell_type": "code",
   "execution_count": 27,
   "metadata": {},
   "outputs": [
    {
     "data": {
      "text/plain": [
       "Text(0.5, 1.05, 'Barabasi-Albert (10, 2)')"
      ]
     },
     "execution_count": 27,
     "metadata": {},
     "output_type": "execute_result"
    },
    {
     "data": {
      "image/png": "[encoded data removed]",
      "text/plain": [
       "<Figure size 432x288 with 1 Axes>"
      ]
     },
     "metadata": {},
     "output_type": "display_data"
    }
   ],
   "source": [
    "ba = barabasi_albert(10, 2, 8708)\n",
    "plt.spy(ba)\n",
    "plt.title('Barabasi-Albert (10, 2)')"
   ]
  },
  {
   "cell_type": "markdown",
   "metadata": {},
   "source": [
    "### Question 4\n",
    "\n",
    "Use the function to create a random Barabási-Albert graph. Choose the parameters such that number of nodes is the same as in your graph, and the number of edges similar. You don't need to set the random seed. Comment on your choice of parameters."
   ]
  },
  {
   "cell_type": "code",
   "execution_count": 28,
   "metadata": {},
   "outputs": [
    {
     "data": {
      "text/plain": [
       "Text(0.5, 1.05, 'Barabási-Albert graph')"
      ]
     },
     "execution_count": 28,
     "metadata": {},
     "output_type": "execute_result"
    },
    {
     "data": {
      "image/png": "[encoded data removed]",
      "text/plain": [
       "<Figure size 432x288 with 1 Axes>"
      ]
     },
     "metadata": {},
     "output_type": "display_data"
    }
   ],
   "source": [
    "ba_planes = barabasi_albert(n_nodes, 6, 5001) #we put a seed to have less changes while doing commits in GitHub\n",
    "plt.spy(ba_planes)\n",
    "plt.title('Barabási-Albert graph')"
   ]
  },
  {
   "cell_type": "markdown",
   "metadata": {},
   "source": [
    "**The final number of nodes corresponds to n_nodes, of course. Since the mean number of edges per node is 11.21, we have to find this in our model. One edge in Barabasi-Albert counts two times so we have to take the nearest integer of 11.21/2 which is 6.**"
   ]
  },
  {
   "cell_type": "markdown",
   "metadata": {},
   "source": [
    "### Question 5\n",
    "\n",
    "Compare the number of edges in all three networks (your real network, the Erdős–Rényi network, and the Barabási-Albert netowk)."
   ]
  },
  {
   "cell_type": "code",
   "execution_count": 29,
   "metadata": {},
   "outputs": [
    {
     "name": "stdout",
     "output_type": "stream",
     "text": [
      "There is a  -0.17 % difference between the number of edges in our matrix and the Erdös-Rényi one.\n",
      "There is a  4.68 % difference between the number of edges in our matrix and the Barabási-Albert one.\n"
     ]
    }
   ],
   "source": [
    "n_edges_er = sum(sum(er_planes))\n",
    "n_edges_ba = sum(sum(ba_planes))\n",
    "delta_er = (n_edges_er-n_edges*2)/(n_edges*2)\n",
    "delta_ba = (n_edges_ba-n_edges*2)/(n_edges*2)\n",
    "print(\"There is a \",round(delta_er*100,2),\"% difference between the number of edges in our matrix and the Erdös-Rényi one.\")\n",
    "print(\"There is a \",round(delta_ba*100,2),\"% difference between the number of edges in our matrix and the Barabási-Albert one.\")"
   ]
  },
  {
   "cell_type": "markdown",
   "metadata": {},
   "source": [
    "### Question 6\n",
    "\n",
    "Implement a function that computes the [Kullback–Leibler (KL) divergence](https://en.wikipedia.org/wiki/Kullback%E2%80%93Leibler_divergence) between two probability distributions.\n",
    "We'll use it to compare the degree distributions of networks."
   ]
  },
  {
   "cell_type": "code",
   "execution_count": 30,
   "metadata": {},
   "outputs": [],
   "source": [
    "def kl_divergence(p, q):\n",
    "    \"\"\"Compute the KL divergence between probability distributions of degrees of two networks.\n",
    "    \n",
    "    Parameters\n",
    "    ----------\n",
    "    p: np.array\n",
    "        Probability distribution of degrees of the 1st graph.\n",
    "    q: np.array\n",
    "        Probability distribution of degrees of the 2nd graph.\n",
    "    \n",
    "    Returns\n",
    "    -------\n",
    "    kl\n",
    "        The KL divergence between the two distributions.\n",
    "    \"\"\"\n",
    "    kl = 0\n",
    "    for i in range(len(p)):\n",
    "        if p[i] != 0 and q[i] != 0:\n",
    "            kl += p[i] * np.log(p[i]/q[i])\n",
    "    \n",
    "    return kl"
   ]
  },
  {
   "cell_type": "code",
   "execution_count": 31,
   "metadata": {},
   "outputs": [
    {
     "data": {
      "text/plain": [
       "0.09151622184943575"
      ]
     },
     "execution_count": 31,
     "metadata": {},
     "output_type": "execute_result"
    }
   ],
   "source": [
    "p_test = np.array([0.2, 0.2, 0.2, 0.4])\n",
    "q_test = np.array([0.3, 0.3, 0.1, 0.3])\n",
    "kl_divergence(p_test, q_test)"
   ]
  },
  {
   "cell_type": "markdown",
   "metadata": {},
   "source": [
    "### Question 7\n",
    "\n",
    "Compare the degree distribution of your network to each of the two synthetic ones, in terms of KL divergence. **Hint:** Make sure you normalise your degree distributions to make them valid probability distributions."
   ]
  },
  {
   "cell_type": "code",
   "execution_count": 46,
   "metadata": {},
   "outputs": [
    {
     "name": "stdout",
     "output_type": "stream",
     "text": [
      "KL divergence between reference and Erdös-Rényi model =  1.7911714526058016\n",
      "KL divergence between reference and Barabási-Albert model =  0.5542748370941034\n"
     ]
    }
   ],
   "source": [
    "#Computation of the degrees\n",
    "degree_adjacency = np.zeros(n_nodes, dtype=int)\n",
    "degree_er = np.zeros(n_nodes, dtype=int)\n",
    "degree_ba = np.zeros(n_nodes, dtype=int)\n",
    "\n",
    "for i in range(n_nodes):\n",
    "    degree_adjacency[i] = sum(adjacency[i])\n",
    "    degree_er[i] = sum(er_planes[i])\n",
    "    degree_ba[i] = sum(ba_planes[i])\n",
    "\n",
    "q=1/7\n",
    "N = int(q*25) + 1  # Compute the degree max\n",
    "p_adj = np.zeros(N)\n",
    "p_er = np.zeros(N)\n",
    "p_ba = np.zeros(N)\n",
    "\n",
    "for i in range(n_nodes):\n",
    "    p_adj[int(min(q*degree_adjacency[i], q*25))] += 1   # We divide degrees in 4 intervalls to have non zero probabilities.\n",
    "    p_er[int(min(q*degree_er[i], q*25))] += 1           # We have to handle the fact that E-R has no degree > 25 \n",
    "    p_ba[int(min(q*degree_ba[i], q*25))] += 1           # (by observation) and that B-A has no degree < 6 (by construction)\n",
    "    \n",
    "p_adj /= sum(p_adj)\n",
    "p_er /= sum(p_er)\n",
    "p_ba /= sum(p_ba)\n",
    "\n",
    "#KL divergence computation\n",
    "print('KL divergence between reference and Erdös-Rényi model = ',kl_divergence(p_adj, p_er))\n",
    "print('KL divergence between reference and Barabási-Albert model = ',kl_divergence(p_adj, p_ba))"
   ]
  },
  {
   "cell_type": "markdown",
   "metadata": {},
   "source": [
    "### Question 8\n",
    "\n",
    "Plot the degree distribution historgrams for all three networks. Are they consistent with the KL divergence results? Explain."
   ]
  },
  {
   "cell_type": "code",
   "execution_count": 15,
   "metadata": {},
   "outputs": [
    {
     "data": {
      "image/png": "[encoded data removed]",
      "text/plain": [
       "<Figure size 1080x576 with 1 Axes>"
      ]
     },
     "metadata": {},
     "output_type": "display_data"
    },
    {
     "data": {
      "image/png": "[encoded data removed]",
      "text/plain": [
       "<Figure size 1080x576 with 1 Axes>"
      ]
     },
     "metadata": {},
     "output_type": "display_data"
    },
    {
     "data": {
      "image/png": "[encoded data removed]",
      "text/plain": [
       "<Figure size 1080x576 with 1 Axes>"
      ]
     },
     "metadata": {},
     "output_type": "display_data"
    },
    {
     "data": {
      "image/png": "[encoded data removed]",
      "text/plain": [
       "<Figure size 1080x576 with 1 Axes>"
      ]
     },
     "metadata": {},
     "output_type": "display_data"
    }
   ],
   "source": [
    "#Computation of the weights\n",
    "weights_adjacency = np.ones_like(degree_adjacency) / float(n_nodes)\n",
    "weights_er = np.ones_like(degree_er) / float(n_nodes)\n",
    "weights_ba = np.ones_like(degree_ba) / float(n_nodes)\n",
    "\n",
    "#Plot\n",
    "#Just adj\n",
    "plt.figure(figsize=(15,8))\n",
    "plt.hist(degree_adjacency, weights=weights_adjacency, bins=int(np.sqrt(n_nodes)), color='b')\n",
    "plt.title('Adjacency matrix')\n",
    "plt.show()\n",
    "\n",
    "#Just ER\n",
    "plt.figure(figsize=(15,8))\n",
    "plt.hist(degree_er, weights=weights_er, bins=int(np.sqrt(n_nodes)), color='g')\n",
    "plt.title('Erdös-Rényi matrix')\n",
    "plt.show()\n",
    "\n",
    "#Just BA\n",
    "plt.figure(figsize=(15,8))\n",
    "plt.hist(degree_ba, weights=weights_ba, bins=int(np.sqrt(n_nodes)), color='k')\n",
    "plt.title('Barabási-Albert matrix')\n",
    "plt.show()\n",
    "\n",
    "#All together\n",
    "plt.figure(figsize=(15,8))\n",
    "plt.hist([degree_adjacency, degree_er,degree_ba], weights=[weights_adjacency, weights_er,weights_ba], bins=int(np.sqrt(n_nodes)), label=['Adjacency matrix','Erdös-Renyi matrix','Barabási-Albert matrix'])\n",
    "plt.legend(loc='upper right')\n",
    "plt.title('Representation of the airlines traffic')\n",
    "plt.ylabel('Proportion');\n",
    "plt.xlabel('Number of flights');\n",
    "plt.show()"
   ]
  },
  {
   "cell_type": "markdown",
   "metadata": {},
   "source": [
    "**The histogram from the Barabási-Albert graph is much closer to the original graph than the Erdös-Rényi graph.This is consistent with the computed KL divergences.**"
   ]
  },
  {
   "cell_type": "markdown",
   "metadata": {},
   "source": [
    "### Question 9\n",
    "\n",
    "Imagine you got equal degree distributions. Would that guarantee you got the same graph? Explain."
   ]
  },
  {
   "cell_type": "markdown",
   "metadata": {},
   "source": [
    "**Equal degree distributions do not mean at all the same graph because we only have an information on the number of connexions per node, but we don't know how they are made. A simple counter-example can show the difference. In an hexagone, all nodes have two links. Two triangles will show the exact same degree distribution (6 nodes with two links each), but the graphs are very different.**"
   ]
  },
  {
   "cell_type": "markdown",
   "metadata": {},
   "source": [
    "## Part 2\n",
    "\n",
    "**You are allowed to use any additional library here (e.g., NetworkX, PyGSP, etc.).** Be careful not to include something here and use it in part 1!"
   ]
  },
  {
   "cell_type": "code",
   "execution_count": 51,
   "metadata": {},
   "outputs": [],
   "source": [
    "import networkx as nx"
   ]
  },
  {
   "cell_type": "markdown",
   "metadata": {},
   "source": [
    "### Question 10\n",
    "\n",
    "Choose a random network model that fits you network well. Explain your choice. \n",
    "\n",
    "**Hint:** Check lecture notes for different network models and their properties. Your choice should be made based on at least one property you'd expect to be similar."
   ]
  },
  {
   "cell_type": "markdown",
   "metadata": {},
   "source": [
    "**Your answer here.**"
   ]
  },
  {
   "cell_type": "code",
   "execution_count": null,
   "metadata": {},
   "outputs": [],
   "source": []
  },
  {
   "cell_type": "markdown",
   "metadata": {},
   "source": [
    "### Question 11\n",
    "\n",
    "Explain (in short) how the chosen model works."
   ]
  },
  {
   "cell_type": "markdown",
   "metadata": {},
   "source": [
    "**Your answer here.**"
   ]
  },
  {
   "cell_type": "markdown",
   "metadata": {},
   "source": [
    "### Question 12\n",
    "\n",
    "Create a random graph from that model, such that the number of nodes is the same as in your graph."
   ]
  },
  {
   "cell_type": "code",
   "execution_count": 52,
   "metadata": {},
   "outputs": [],
   "source": [
    "nx_ba_graph = nx.barabasi_albert_graph(n_nodes, 6, seed=None)"
   ]
  },
  {
   "cell_type": "code",
   "execution_count": 53,
   "metadata": {},
   "outputs": [],
   "source": [
    "#pl_graph = nx.powerlaw_cluster_graph(n_nodes, 6, 0.2, seed=None)"
   ]
  },
  {
   "cell_type": "code",
   "execution_count": 54,
   "metadata": {},
   "outputs": [],
   "source": [
    "nx_ba_degrees = sorted([d for n, d in nx_ba_graph.degree()], reverse=True)"
   ]
  },
  {
   "cell_type": "code",
   "execution_count": 55,
   "metadata": {
    "scrolled": true
   },
   "outputs": [
    {
     "data": {
      "image/png": "[encoded data removed]",
      "text/plain": [
       "<Figure size 1080x432 with 1 Axes>"
      ]
     },
     "metadata": {},
     "output_type": "display_data"
    }
   ],
   "source": [
    "#Computation of the weights\n",
    "weights_graph = np.ones_like(nx_ba_degrees) / float(n_nodes)\n",
    "\n",
    "plt.figure(figsize=(15,6))\n",
    "plt.hist(nx_ba_degrees, weights=weights_graph, bins=int(np.sqrt(n_nodes)), color='b')\n",
    "plt.title('Degree distribution of the generated Barabasi-Albert graph')\n",
    "plt.xlabel('Degrees')\n",
    "plt.ylabel('Frequence')\n",
    "plt.show()"
   ]
  },
  {
   "cell_type": "markdown",
   "metadata": {},
   "source": [
    "### Question 13\n",
    "\n",
    "Check the properties you expected to be similar, and compare to your network."
   ]
  },
  {
   "cell_type": "markdown",
   "metadata": {},
   "source": [
    "**- First, let's fit a power-law model to the graph we just generated and then compare the parameters of the model with those of our flight routes graph.**"
   ]
  },
  {
   "cell_type": "code",
   "execution_count": 56,
   "metadata": {},
   "outputs": [
    {
     "data": {
      "text/plain": [
       "array([-2.92777435, 12.10498198])"
      ]
     },
     "execution_count": 56,
     "metadata": {},
     "output_type": "execute_result"
    },
    {
     "data": {
      "image/png": "[encoded data removed]",
      "text/plain": [
       "<Figure size 432x288 with 1 Axes>"
      ]
     },
     "metadata": {},
     "output_type": "display_data"
    }
   ],
   "source": [
    "# Here we compute the parameters of the power law representing our distribution\n",
    "degrees_unique, degrees_freq = np.unique(nx_ba_degrees, return_counts=True)\n",
    "\n",
    "idx_log = [k for k in range(len(degrees_unique)) if (degrees_unique[k] > 1\n",
    "                                                     and degrees_unique[k] < 50    #Avoid border effects\n",
    "                                                     and degrees_freq[k] > 0) ]\n",
    "# Linear regression\n",
    "p = np.polyfit(np.log(degrees_unique[idx_log]), np.log(degrees_freq[idx_log]), 1)\n",
    "\n",
    "plt.plot(degrees_unique, degrees_freq, '.')\n",
    "plt.plot(degrees_unique[idx_log], np.exp(p[0]*np.log(degrees_unique[idx_log]) + p[1]))\n",
    "plt.xscale('log')\n",
    "plt.yscale('log')\n",
    "plt.title('Log-log representation of the airlines traffic')\n",
    "plt.ylabel('Proportion');\n",
    "plt.xlabel('Number of flights');\n",
    "\n",
    "p #Parameters of the power law, gamma is the first coefficient."
   ]
  },
  {
   "cell_type": "markdown",
   "metadata": {},
   "source": [
    "**In the previous assignment we had array([-1.59209779,  7.58711237]). developper, comparer....**"
   ]
  },
  {
   "cell_type": "markdown",
   "metadata": {},
   "source": [
    "**- Now, let's measure the KL divergence.**"
   ]
  },
  {
   "cell_type": "code",
   "execution_count": 58,
   "metadata": {},
   "outputs": [
    {
     "name": "stdout",
     "output_type": "stream",
     "text": [
      "[0.24542454 0.54785479 0.11581158 0.09090909]\n",
      "KL divergence between reference and Barabási-Albert model generated with NetworkX=  0.5671328555675679\n"
     ]
    }
   ],
   "source": [
    "#Let's first compute the probability distribution of degrees for the new graph\n",
    "\n",
    "p_nx_ba = np.zeros(N)\n",
    "\n",
    "for i in range(n_nodes):\n",
    "    p_nx_ba[int(min(q*nx_ba_degrees[i], q*25))] += 1\n",
    "    \n",
    "p_nx_ba /= sum(p_nx_ba)\n",
    "             \n",
    "\n",
    "print(p_nx_ba)\n",
    "\n",
    "#KL divergence computation\n",
    "print('KL divergence between reference and Barabási-Albert model generated with NetworkX= ',kl_divergence(p_adj, p_nx_ba))"
   ]
  },
  {
   "cell_type": "markdown",
   "metadata": {},
   "source": [
    "**This is not too much, quite good.....**"
   ]
  },
  {
   "cell_type": "markdown",
   "metadata": {},
   "source": [
    "**- Finally, we can compare the clustering coefficients.**"
   ]
  },
  {
   "cell_type": "code",
   "execution_count": 59,
   "metadata": {},
   "outputs": [
    {
     "name": "stdout",
     "output_type": "stream",
     "text": [
      "0.01856\n"
     ]
    }
   ],
   "source": [
    "C_average = nx.average_clustering(nx_ba_graph)\n",
    "print(round(C_average, 5))"
   ]
  },
  {
   "cell_type": "markdown",
   "metadata": {},
   "source": [
    "**In our flight routes graph, we had an average clustering coefficient equal to 0.494. assez different la...**"
   ]
  },
  {
   "cell_type": "markdown",
   "metadata": {},
   "source": [
    "Are the results what you expected? Explain."
   ]
  },
  {
   "cell_type": "markdown",
   "metadata": {},
   "source": [
    "**The results are not as good as expected.\n",
    "One way to improve them would be to compare the generated networks with the largest connected component of our original network since those algorithms only create connected graphs.**"
   ]
  },
  {
   "cell_type": "code",
   "execution_count": 60,
   "metadata": {},
   "outputs": [],
   "source": [
    "def connected_graph(adjacency):\n",
    "    \"\"\"Determines whether a graph is connected.\n",
    "    \n",
    "    Parameters\n",
    "    ----------\n",
    "    adjacency: numpy array\n",
    "        The (weighted) adjacency matrix of a graph.\n",
    "    \n",
    "    Returns\n",
    "    -------\n",
    "    bool\n",
    "        True if the graph is connected, False otherwise.\n",
    "    \"\"\"\n",
    "    \n",
    "    n_nodes = adjacency.shape[0]\n",
    "    start_node = int(np.random.rand() * n_nodes)\n",
    "    distance_from_start_node = bfs(adjacency, start_node)                   # Compute BFS\n",
    "    \n",
    "    connected = not(sum(np.array(distance_from_start_node) == np.Inf) > 0)  # Count if there is any unlabelled node\n",
    "    \n",
    "    return connected"
   ]
  },
  {
   "cell_type": "code",
   "execution_count": 63,
   "metadata": {},
   "outputs": [],
   "source": [
    "#Breadth first search algorithm\n",
    "\n",
    "#Remark : the BFS compute the shortest path for the hop-distance\n",
    "\n",
    "def bfs(adjacency, start_node):\n",
    "    distance_from_start_node = np.Inf * np.ones(adjacency.shape[0])   # Unlabelled are set to inf\n",
    "    distance_from_start_node[start_node] = 0\n",
    "    queue = [(start_node, 0)]\n",
    "    \n",
    "    while queue:\n",
    "        current_node = queue.pop(0)\n",
    "        link_nodes = link_nodes_unlabelled(adjacency, current_node, distance_from_start_node)\n",
    "        for node in link_nodes:\n",
    "            distance_from_start_node[node[0]] = node[1]\n",
    "        queue += link_nodes\n",
    "    \n",
    "    return distance_from_start_node"
   ]
  },
  {
   "cell_type": "code",
   "execution_count": 64,
   "metadata": {},
   "outputs": [],
   "source": [
    "#Function that returns new nodes linked to current_node and their hop-distance to origin.\n",
    "\n",
    "def link_nodes_unlabelled(adjacency, current_node, distance_from_start_node):\n",
    "    link_nodes = []\n",
    "    for idx in range(adjacency.shape[0]):\n",
    "        if adjacency[current_node[0],idx] > 0 and distance_from_start_node[idx] == np.Inf:\n",
    "            link_nodes.append((idx, current_node[1]+1))     # Add unlabelled nodes linked to the current node with label +1\n",
    "    return link_nodes"
   ]
  },
  {
   "cell_type": "code",
   "execution_count": 67,
   "metadata": {},
   "outputs": [
    {
     "data": {
      "text/plain": [
       "True"
      ]
     },
     "execution_count": 67,
     "metadata": {},
     "output_type": "execute_result"
    }
   ],
   "source": []
  },
  {
   "cell_type": "code",
   "execution_count": null,
   "metadata": {},
   "outputs": [],
   "source": []
  }
 ],
 "metadata": {
  "kernelspec": {
   "display_name": "Python 3",
   "language": "python",
   "name": "python3"
  },
  "language_info": {
   "codemirror_mode": {
    "name": "ipython",
    "version": 3
   },
   "file_extension": ".py",
   "mimetype": "text/x-python",
   "name": "python",
   "nbconvert_exporter": "python",
   "pygments_lexer": "ipython3",
   "version": "3.7.0"
  }
 },
 "nbformat": 4,
 "nbformat_minor": 2
}
