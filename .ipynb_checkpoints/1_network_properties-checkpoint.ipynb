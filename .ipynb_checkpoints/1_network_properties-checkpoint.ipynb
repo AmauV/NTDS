{
 "cells": [
  {
   "cell_type": "markdown",
   "metadata": {},
   "source": [
    "# NTDS'18 milestone 1: network collection and properties\n",
    "[Effrosyni Simou](https://lts4.epfl.ch/simou), [EPFL LTS4](https://lts4.epfl.ch)"
   ]
  },
  {
   "cell_type": "markdown",
   "metadata": {},
   "source": [
    "## Students\n",
    "\n",
    "* Team: 3\n",
    "* Students: Baptiste Hériard-Dubreuil, Jean-Baptiste Membrado, Guilhem Noiraud, Amaury Véron\n",
    "* Dataset: Flight routes"
   ]
  },
  {
   "cell_type": "markdown",
   "metadata": {},
   "source": [
    "## Rules\n",
    "\n",
    "* Milestones have to be completed by teams. No collaboration between teams is allowed.\n",
    "* Textual answers shall be short. Typically one to three sentences.\n",
    "* Code has to be clean.\n",
    "* You cannot import any other library than we imported.\n",
    "* When submitting, the notebook is executed and the results are stored. I.e., if you open the notebook again it should show numerical results and plots. We won't be able to execute your notebooks.\n",
    "* The notebook is re-executed from a blank state before submission. That is to be sure it is reproducible. You can click \"Kernel\" then \"Restart & Run All\" in Jupyter."
   ]
  },
  {
   "cell_type": "markdown",
   "metadata": {},
   "source": [
    "## Objective "
   ]
  },
  {
   "cell_type": "markdown",
   "metadata": {},
   "source": [
    "The purpose of this milestone is to start getting acquainted to the network that you will use for this class. In the first part of the milestone you will import your data using [Pandas](http://pandas.pydata.org) and you will create the adjacency matrix using [Numpy](http://www.numpy.org). This part is project specific. In the second part you will have to compute some basic properties of your network. **For the computation of the properties you are only allowed to use the packages that have been imported in the cell below.** You are not allowed to use any graph-specific toolboxes for this milestone (such as networkx and PyGSP). Furthermore, the aim is not to blindly compute the network properties, but to also start to think about what kind of network you will be working with this semester. "
   ]
  },
  {
   "cell_type": "code",
   "execution_count": 18,
   "metadata": {},
   "outputs": [],
   "source": [
    "import numpy as np\n",
    "import pandas as pd\n",
    "import matplotlib.pyplot as plt"
   ]
  },
  {
   "cell_type": "markdown",
   "metadata": {},
   "source": [
    "## Part 1 - Import your data and manipulate them. "
   ]
  },
  {
   "cell_type": "markdown",
   "metadata": {},
   "source": [
    "###  A. Load your data in a Panda dataframe."
   ]
  },
  {
   "cell_type": "markdown",
   "metadata": {},
   "source": [
    "First, you should define and understand what are your nodes, what features you have and what are your labels. Please provide below a Panda dataframe where each row corresponds to a node with its features and labels. For example, in the the case of the Free Music Archive (FMA) Project, each row of the dataframe would be of the following form:\n",
    "\n",
    "\n",
    "| Track   |  Feature 1  | Feature 2 | . . . | Feature 518|  Label 1 |  Label 2 |. . .|Label 16|\n",
    "|:-------:|:-----------:|:---------:|:-----:|:----------:|:--------:|:--------:|:---:|:------:|\n",
    "|         |             |           |       |            |          |          |     |        |\n",
    "\n",
    "It is possible that in some of the projects either the features or the labels are not available. This is OK, in that case just make sure that you create a dataframe where each of the rows corresponds to a node and its associated features or labels."
   ]
  },
  {
   "cell_type": "code",
   "execution_count": 19,
   "metadata": {},
   "outputs": [
    {
     "data": {
      "text/html": [
       "<div>\n",
       "<style scoped>\n",
       "    .dataframe tbody tr th:only-of-type {\n",
       "        vertical-align: middle;\n",
       "    }\n",
       "\n",
       "    .dataframe tbody tr th {\n",
       "        vertical-align: top;\n",
       "    }\n",
       "\n",
       "    .dataframe thead th {\n",
       "        text-align: right;\n",
       "    }\n",
       "</style>\n",
       "<table border=\"1\" class=\"dataframe\">\n",
       "  <thead>\n",
       "    <tr style=\"text-align: right;\">\n",
       "      <th></th>\n",
       "      <th>airline</th>\n",
       "      <th>airline_id</th>\n",
       "      <th>source_airport</th>\n",
       "      <th>source_airport_id</th>\n",
       "      <th>destination_airport</th>\n",
       "      <th>destination_airport_id</th>\n",
       "      <th>codeshare</th>\n",
       "      <th>stops</th>\n",
       "      <th>equipment</th>\n",
       "    </tr>\n",
       "  </thead>\n",
       "  <tbody>\n",
       "    <tr>\n",
       "      <th>0</th>\n",
       "      <td>2B</td>\n",
       "      <td>410</td>\n",
       "      <td>AER</td>\n",
       "      <td>2965</td>\n",
       "      <td>KZN</td>\n",
       "      <td>2990</td>\n",
       "      <td>NaN</td>\n",
       "      <td>0</td>\n",
       "      <td>CR2</td>\n",
       "    </tr>\n",
       "    <tr>\n",
       "      <th>1</th>\n",
       "      <td>2B</td>\n",
       "      <td>410</td>\n",
       "      <td>ASF</td>\n",
       "      <td>2966</td>\n",
       "      <td>KZN</td>\n",
       "      <td>2990</td>\n",
       "      <td>NaN</td>\n",
       "      <td>0</td>\n",
       "      <td>CR2</td>\n",
       "    </tr>\n",
       "    <tr>\n",
       "      <th>2</th>\n",
       "      <td>2B</td>\n",
       "      <td>410</td>\n",
       "      <td>ASF</td>\n",
       "      <td>2966</td>\n",
       "      <td>MRV</td>\n",
       "      <td>2962</td>\n",
       "      <td>NaN</td>\n",
       "      <td>0</td>\n",
       "      <td>CR2</td>\n",
       "    </tr>\n",
       "    <tr>\n",
       "      <th>3</th>\n",
       "      <td>2B</td>\n",
       "      <td>410</td>\n",
       "      <td>CEK</td>\n",
       "      <td>2968</td>\n",
       "      <td>KZN</td>\n",
       "      <td>2990</td>\n",
       "      <td>NaN</td>\n",
       "      <td>0</td>\n",
       "      <td>CR2</td>\n",
       "    </tr>\n",
       "    <tr>\n",
       "      <th>4</th>\n",
       "      <td>2B</td>\n",
       "      <td>410</td>\n",
       "      <td>CEK</td>\n",
       "      <td>2968</td>\n",
       "      <td>OVB</td>\n",
       "      <td>4078</td>\n",
       "      <td>NaN</td>\n",
       "      <td>0</td>\n",
       "      <td>CR2</td>\n",
       "    </tr>\n",
       "    <tr>\n",
       "      <th>5</th>\n",
       "      <td>2B</td>\n",
       "      <td>410</td>\n",
       "      <td>DME</td>\n",
       "      <td>4029</td>\n",
       "      <td>KZN</td>\n",
       "      <td>2990</td>\n",
       "      <td>NaN</td>\n",
       "      <td>0</td>\n",
       "      <td>CR2</td>\n",
       "    </tr>\n",
       "    <tr>\n",
       "      <th>6</th>\n",
       "      <td>2B</td>\n",
       "      <td>410</td>\n",
       "      <td>DME</td>\n",
       "      <td>4029</td>\n",
       "      <td>NBC</td>\n",
       "      <td>6969</td>\n",
       "      <td>NaN</td>\n",
       "      <td>0</td>\n",
       "      <td>CR2</td>\n",
       "    </tr>\n",
       "    <tr>\n",
       "      <th>7</th>\n",
       "      <td>2B</td>\n",
       "      <td>410</td>\n",
       "      <td>DME</td>\n",
       "      <td>4029</td>\n",
       "      <td>TGK</td>\n",
       "      <td>\\N</td>\n",
       "      <td>NaN</td>\n",
       "      <td>0</td>\n",
       "      <td>CR2</td>\n",
       "    </tr>\n",
       "    <tr>\n",
       "      <th>8</th>\n",
       "      <td>2B</td>\n",
       "      <td>410</td>\n",
       "      <td>DME</td>\n",
       "      <td>4029</td>\n",
       "      <td>UUA</td>\n",
       "      <td>6160</td>\n",
       "      <td>NaN</td>\n",
       "      <td>0</td>\n",
       "      <td>CR2</td>\n",
       "    </tr>\n",
       "    <tr>\n",
       "      <th>9</th>\n",
       "      <td>2B</td>\n",
       "      <td>410</td>\n",
       "      <td>EGO</td>\n",
       "      <td>6156</td>\n",
       "      <td>KGD</td>\n",
       "      <td>2952</td>\n",
       "      <td>NaN</td>\n",
       "      <td>0</td>\n",
       "      <td>CR2</td>\n",
       "    </tr>\n",
       "  </tbody>\n",
       "</table>\n",
       "</div>"
      ],
      "text/plain": [
       "  airline airline_id source_airport source_airport_id destination_airport  \\\n",
       "0      2B        410            AER              2965                 KZN   \n",
       "1      2B        410            ASF              2966                 KZN   \n",
       "2      2B        410            ASF              2966                 MRV   \n",
       "3      2B        410            CEK              2968                 KZN   \n",
       "4      2B        410            CEK              2968                 OVB   \n",
       "5      2B        410            DME              4029                 KZN   \n",
       "6      2B        410            DME              4029                 NBC   \n",
       "7      2B        410            DME              4029                 TGK   \n",
       "8      2B        410            DME              4029                 UUA   \n",
       "9      2B        410            EGO              6156                 KGD   \n",
       "\n",
       "  destination_airport_id codeshare  stops equipment  \n",
       "0                   2990       NaN      0       CR2  \n",
       "1                   2990       NaN      0       CR2  \n",
       "2                   2962       NaN      0       CR2  \n",
       "3                   2990       NaN      0       CR2  \n",
       "4                   4078       NaN      0       CR2  \n",
       "5                   2990       NaN      0       CR2  \n",
       "6                   6969       NaN      0       CR2  \n",
       "7                     \\N       NaN      0       CR2  \n",
       "8                   6160       NaN      0       CR2  \n",
       "9                   2952       NaN      0       CR2  "
      ]
     },
     "execution_count": 19,
     "metadata": {},
     "output_type": "execute_result"
    }
   ],
   "source": [
    "# the pandas dataframe with the features and labels\n",
    "features = pd.read_csv(\"routes.dat\", names = [\"airline\",\n",
    "                                              \"airline_id\",\n",
    "                                              \"source_airport\",\n",
    "                                              \"source_airport_id\",\n",
    "                                              \"destination_airport\",\n",
    "                                              \"destination_airport_id\",\n",
    "                                              \"codeshare\",\n",
    "                                              \"stops\",\n",
    "                                              \"equipment\"])\n",
    "features.head(10)"
   ]
  },
  {
   "cell_type": "markdown",
   "metadata": {},
   "source": [
    "### B. Create the adjacency matrix of your network."
   ]
  },
  {
   "cell_type": "markdown",
   "metadata": {},
   "source": [
    "Remember that there are edges connecting the attributed nodes that you organized in the dataframe above. The connectivity of the network is captured by the adjacency matrix $W$. If $N$ is the number of nodes, the adjacency matrix is an $N \\times N$ matrix where the value of $W(i,j)$ is the weight of the edge connecting node $i$ to node $j$.  \n",
    "\n",
    "There are two possible scenarios for your adjacency matrix construction, as you already learned in the tutorial by Benjamin:\n",
    "\n",
    "1) The edges are given to you explicitly. In this case you should simply load the file containing the edge information and parse it in order to create your adjacency matrix. See how to do that in the  [graph from edge list]() demo.\n",
    "\n",
    "2) The edges are not given to you. In that case you will have to create a feature graph. In order to do that you will have to chose a distance that will quantify how similar two nodes are based on the values in their corresponding feature vectors. In the [graph from features]() demo Benjamin showed you how to build feature graphs when using Euclidean distances between feature vectors. Be curious and explore other distances as well! For instance, in the case of high-dimensional feature vectors, you might want to consider using the cosine distance. Once you compute the distances between your nodes you will have a fully connected network. Do not forget to sparsify by keeping the most important edges in your network.\n",
    "\n",
    "Follow the appropriate steps for the construction of the adjacency matrix of your network and provide it in the Numpy array ``adjacency`` below: "
   ]
  },
  {
   "cell_type": "code",
   "execution_count": 20,
   "metadata": {},
   "outputs": [
    {
     "data": {
      "text/html": [
       "<div>\n",
       "<style scoped>\n",
       "    .dataframe tbody tr th:only-of-type {\n",
       "        vertical-align: middle;\n",
       "    }\n",
       "\n",
       "    .dataframe tbody tr th {\n",
       "        vertical-align: top;\n",
       "    }\n",
       "\n",
       "    .dataframe thead th {\n",
       "        text-align: right;\n",
       "    }\n",
       "</style>\n",
       "<table border=\"1\" class=\"dataframe\">\n",
       "  <thead>\n",
       "    <tr style=\"text-align: right;\">\n",
       "      <th></th>\n",
       "      <th>airport_id</th>\n",
       "      <th>airport</th>\n",
       "    </tr>\n",
       "  </thead>\n",
       "  <tbody>\n",
       "    <tr>\n",
       "      <th>0</th>\n",
       "      <td>2965</td>\n",
       "      <td>AER</td>\n",
       "    </tr>\n",
       "    <tr>\n",
       "      <th>1</th>\n",
       "      <td>2966</td>\n",
       "      <td>ASF</td>\n",
       "    </tr>\n",
       "    <tr>\n",
       "      <th>3</th>\n",
       "      <td>2968</td>\n",
       "      <td>CEK</td>\n",
       "    </tr>\n",
       "    <tr>\n",
       "      <th>5</th>\n",
       "      <td>4029</td>\n",
       "      <td>DME</td>\n",
       "    </tr>\n",
       "    <tr>\n",
       "      <th>9</th>\n",
       "      <td>6156</td>\n",
       "      <td>EGO</td>\n",
       "    </tr>\n",
       "  </tbody>\n",
       "</table>\n",
       "</div>"
      ],
      "text/plain": [
       "  airport_id airport\n",
       "0       2965     AER\n",
       "1       2966     ASF\n",
       "3       2968     CEK\n",
       "5       4029     DME\n",
       "9       6156     EGO"
      ]
     },
     "execution_count": 20,
     "metadata": {},
     "output_type": "execute_result"
    }
   ],
   "source": [
    "source_airports = features[[\"source_airport_id\", \"source_airport\"]]\n",
    "source_airports.columns = [\"airport_id\", \"airport\"]\n",
    "\n",
    "destination_airports =  features[[\"destination_airport_id\", \"destination_airport\"]]\n",
    "destination_airports.columns = [\"airport_id\", \"airport\"]\n",
    "\n",
    "nodes = pd.concat([source_airports,destination_airports], axis = 0).drop_duplicates()\n",
    "nodes.replace(to_replace='\\\\N', value=np.NaN, inplace=True)\n",
    "nodes.dropna(axis=0, inplace=True)\n",
    "\n",
    "edges = features[[\"source_airport_id\", \"destination_airport_id\"]]\n",
    "edges = edges.replace(to_replace='\\\\N', value=np.NaN)\n",
    "edges = edges.dropna(axis=0)\n",
    "\n",
    "nodes.head()"
   ]
  },
  {
   "cell_type": "code",
   "execution_count": 21,
   "metadata": {},
   "outputs": [
    {
     "data": {
      "text/html": [
       "<div>\n",
       "<style scoped>\n",
       "    .dataframe tbody tr th:only-of-type {\n",
       "        vertical-align: middle;\n",
       "    }\n",
       "\n",
       "    .dataframe tbody tr th {\n",
       "        vertical-align: top;\n",
       "    }\n",
       "\n",
       "    .dataframe thead th {\n",
       "        text-align: right;\n",
       "    }\n",
       "</style>\n",
       "<table border=\"1\" class=\"dataframe\">\n",
       "  <thead>\n",
       "    <tr style=\"text-align: right;\">\n",
       "      <th></th>\n",
       "      <th>source_airport_id</th>\n",
       "      <th>destination_airport_id</th>\n",
       "    </tr>\n",
       "  </thead>\n",
       "  <tbody>\n",
       "    <tr>\n",
       "      <th>0</th>\n",
       "      <td>2965</td>\n",
       "      <td>2990</td>\n",
       "    </tr>\n",
       "    <tr>\n",
       "      <th>1</th>\n",
       "      <td>2966</td>\n",
       "      <td>2990</td>\n",
       "    </tr>\n",
       "    <tr>\n",
       "      <th>2</th>\n",
       "      <td>2966</td>\n",
       "      <td>2962</td>\n",
       "    </tr>\n",
       "    <tr>\n",
       "      <th>3</th>\n",
       "      <td>2968</td>\n",
       "      <td>2990</td>\n",
       "    </tr>\n",
       "    <tr>\n",
       "      <th>4</th>\n",
       "      <td>2968</td>\n",
       "      <td>4078</td>\n",
       "    </tr>\n",
       "  </tbody>\n",
       "</table>\n",
       "</div>"
      ],
      "text/plain": [
       "  source_airport_id destination_airport_id\n",
       "0              2965                   2990\n",
       "1              2966                   2990\n",
       "2              2966                   2962\n",
       "3              2968                   2990\n",
       "4              2968                   4078"
      ]
     },
     "execution_count": 21,
     "metadata": {},
     "output_type": "execute_result"
    }
   ],
   "source": [
    "edges.head()"
   ]
  },
  {
   "cell_type": "code",
   "execution_count": 22,
   "metadata": {},
   "outputs": [
    {
     "data": {
      "text/html": [
       "<div>\n",
       "<style scoped>\n",
       "    .dataframe tbody tr th:only-of-type {\n",
       "        vertical-align: middle;\n",
       "    }\n",
       "\n",
       "    .dataframe tbody tr th {\n",
       "        vertical-align: top;\n",
       "    }\n",
       "\n",
       "    .dataframe thead th {\n",
       "        text-align: right;\n",
       "    }\n",
       "</style>\n",
       "<table border=\"1\" class=\"dataframe\">\n",
       "  <thead>\n",
       "    <tr style=\"text-align: right;\">\n",
       "      <th></th>\n",
       "      <th>node_idx</th>\n",
       "    </tr>\n",
       "    <tr>\n",
       "      <th>airport_id</th>\n",
       "      <th></th>\n",
       "    </tr>\n",
       "  </thead>\n",
       "  <tbody>\n",
       "    <tr>\n",
       "      <th>2965</th>\n",
       "      <td>0</td>\n",
       "    </tr>\n",
       "    <tr>\n",
       "      <th>2966</th>\n",
       "      <td>1</td>\n",
       "    </tr>\n",
       "    <tr>\n",
       "      <th>2968</th>\n",
       "      <td>2</td>\n",
       "    </tr>\n",
       "    <tr>\n",
       "      <th>4029</th>\n",
       "      <td>3</td>\n",
       "    </tr>\n",
       "    <tr>\n",
       "      <th>6156</th>\n",
       "      <td>4</td>\n",
       "    </tr>\n",
       "  </tbody>\n",
       "</table>\n",
       "</div>"
      ],
      "text/plain": [
       "            node_idx\n",
       "airport_id          \n",
       "2965               0\n",
       "2966               1\n",
       "2968               2\n",
       "4029               3\n",
       "6156               4"
      ]
     },
     "execution_count": 22,
     "metadata": {},
     "output_type": "execute_result"
    }
   ],
   "source": [
    "# Create a conversion table from airport_id to node index.\n",
    "\n",
    "airport_id2idx = pd.DataFrame(nodes.airport_id.unique())\n",
    "airport_id2idx.reset_index(level = 0, inplace = True)\n",
    "airport_id2idx.columns = [\"node_idx\", \"airport_id\"]\n",
    "airport_id2idx.set_index(\"airport_id\", inplace = True)\n",
    "airport_id2idx.head()"
   ]
  },
  {
   "cell_type": "code",
   "execution_count": 23,
   "metadata": {},
   "outputs": [],
   "source": [
    "airport_id2idx.to_csv(\"airport_id2idx.csv\")"
   ]
  },
  {
   "cell_type": "code",
   "execution_count": 24,
   "metadata": {},
   "outputs": [],
   "source": [
    "edges = pd.merge(edges, airport_id2idx,\n",
    "                 left_on = \"source_airport_id\",\n",
    "                 right_index = True,\n",
    "                 sort = False)"
   ]
  },
  {
   "cell_type": "code",
   "execution_count": 25,
   "metadata": {},
   "outputs": [
    {
     "data": {
      "text/html": [
       "<div>\n",
       "<style scoped>\n",
       "    .dataframe tbody tr th:only-of-type {\n",
       "        vertical-align: middle;\n",
       "    }\n",
       "\n",
       "    .dataframe tbody tr th {\n",
       "        vertical-align: top;\n",
       "    }\n",
       "\n",
       "    .dataframe thead th {\n",
       "        text-align: right;\n",
       "    }\n",
       "</style>\n",
       "<table border=\"1\" class=\"dataframe\">\n",
       "  <thead>\n",
       "    <tr style=\"text-align: right;\">\n",
       "      <th></th>\n",
       "      <th>source_airport_id</th>\n",
       "      <th>destination_airport_id</th>\n",
       "      <th>node_idx</th>\n",
       "    </tr>\n",
       "  </thead>\n",
       "  <tbody>\n",
       "    <tr>\n",
       "      <th>0</th>\n",
       "      <td>2965</td>\n",
       "      <td>2990</td>\n",
       "      <td>0</td>\n",
       "    </tr>\n",
       "    <tr>\n",
       "      <th>2816</th>\n",
       "      <td>2965</td>\n",
       "      <td>2979</td>\n",
       "      <td>0</td>\n",
       "    </tr>\n",
       "    <tr>\n",
       "      <th>3867</th>\n",
       "      <td>2965</td>\n",
       "      <td>1735</td>\n",
       "      <td>0</td>\n",
       "    </tr>\n",
       "    <tr>\n",
       "      <th>13786</th>\n",
       "      <td>2965</td>\n",
       "      <td>2954</td>\n",
       "      <td>0</td>\n",
       "    </tr>\n",
       "    <tr>\n",
       "      <th>31979</th>\n",
       "      <td>2965</td>\n",
       "      <td>2983</td>\n",
       "      <td>0</td>\n",
       "    </tr>\n",
       "  </tbody>\n",
       "</table>\n",
       "</div>"
      ],
      "text/plain": [
       "      source_airport_id destination_airport_id  node_idx\n",
       "0                  2965                   2990         0\n",
       "2816               2965                   2979         0\n",
       "3867               2965                   1735         0\n",
       "13786              2965                   2954         0\n",
       "31979              2965                   2983         0"
      ]
     },
     "execution_count": 25,
     "metadata": {},
     "output_type": "execute_result"
    }
   ],
   "source": [
    "edges.head()"
   ]
  },
  {
   "cell_type": "code",
   "execution_count": 26,
   "metadata": {},
   "outputs": [],
   "source": [
    "edges = pd.merge(edges, airport_id2idx,\n",
    "                 left_on = \"destination_airport_id\",\n",
    "                 right_index = True,\n",
    "                 sort = False,\n",
    "                 suffixes = (\"_source\", \"_destination\"))\n",
    "\n",
    "edges = edges.drop_duplicates()  # Avoid multilinks"
   ]
  },
  {
   "cell_type": "code",
   "execution_count": 27,
   "metadata": {},
   "outputs": [
    {
     "data": {
      "text/html": [
       "<div>\n",
       "<style scoped>\n",
       "    .dataframe tbody tr th:only-of-type {\n",
       "        vertical-align: middle;\n",
       "    }\n",
       "\n",
       "    .dataframe tbody tr th {\n",
       "        vertical-align: top;\n",
       "    }\n",
       "\n",
       "    .dataframe thead th {\n",
       "        text-align: right;\n",
       "    }\n",
       "</style>\n",
       "<table border=\"1\" class=\"dataframe\">\n",
       "  <thead>\n",
       "    <tr style=\"text-align: right;\">\n",
       "      <th></th>\n",
       "      <th>source_airport_id</th>\n",
       "      <th>destination_airport_id</th>\n",
       "      <th>node_idx_source</th>\n",
       "      <th>node_idx_destination</th>\n",
       "    </tr>\n",
       "  </thead>\n",
       "  <tbody>\n",
       "    <tr>\n",
       "      <th>0</th>\n",
       "      <td>2965</td>\n",
       "      <td>2990</td>\n",
       "      <td>0</td>\n",
       "      <td>7</td>\n",
       "    </tr>\n",
       "    <tr>\n",
       "      <th>1</th>\n",
       "      <td>2966</td>\n",
       "      <td>2990</td>\n",
       "      <td>1</td>\n",
       "      <td>7</td>\n",
       "    </tr>\n",
       "    <tr>\n",
       "      <th>3</th>\n",
       "      <td>2968</td>\n",
       "      <td>2990</td>\n",
       "      <td>2</td>\n",
       "      <td>7</td>\n",
       "    </tr>\n",
       "    <tr>\n",
       "      <th>5</th>\n",
       "      <td>4029</td>\n",
       "      <td>2990</td>\n",
       "      <td>3</td>\n",
       "      <td>7</td>\n",
       "    </tr>\n",
       "    <tr>\n",
       "      <th>10</th>\n",
       "      <td>6156</td>\n",
       "      <td>2990</td>\n",
       "      <td>4</td>\n",
       "      <td>7</td>\n",
       "    </tr>\n",
       "  </tbody>\n",
       "</table>\n",
       "</div>"
      ],
      "text/plain": [
       "   source_airport_id destination_airport_id  node_idx_source  \\\n",
       "0               2965                   2990                0   \n",
       "1               2966                   2990                1   \n",
       "3               2968                   2990                2   \n",
       "5               4029                   2990                3   \n",
       "10              6156                   2990                4   \n",
       "\n",
       "    node_idx_destination  \n",
       "0                      7  \n",
       "1                      7  \n",
       "3                      7  \n",
       "5                      7  \n",
       "10                     7  "
      ]
     },
     "execution_count": 27,
     "metadata": {},
     "output_type": "execute_result"
    }
   ],
   "source": [
    "edges.head()"
   ]
  },
  {
   "cell_type": "code",
   "execution_count": 28,
   "metadata": {},
   "outputs": [
    {
     "data": {
      "text/plain": [
       "3333"
      ]
     },
     "execution_count": 28,
     "metadata": {},
     "output_type": "execute_result"
    }
   ],
   "source": [
    "n_nodes = np.size(nodes[\"airport_id\"])\n",
    "adjacency_initial = np.zeros((n_nodes, n_nodes), dtype = int)\n",
    "n_nodes"
   ]
  },
  {
   "cell_type": "code",
   "execution_count": 29,
   "metadata": {},
   "outputs": [],
   "source": [
    "for idx, row in edges.iterrows():\n",
    "    i, j = int(row.node_idx_source), int(row.node_idx_destination)\n",
    "    adjacency_initial[i, j] = 1"
   ]
  },
  {
   "cell_type": "code",
   "execution_count": 30,
   "metadata": {},
   "outputs": [
    {
     "data": {
      "text/plain": [
       "array([[0, 0, 0, 1, 0, 0, 0, 1, 1, 0, 0, 0, 0, 0, 1],\n",
       "       [0, 0, 0, 1, 0, 0, 0, 1, 1, 1, 0, 0, 0, 0, 0],\n",
       "       [0, 0, 0, 1, 0, 0, 0, 1, 1, 0, 0, 0, 0, 1, 0],\n",
       "       [1, 1, 1, 0, 1, 1, 1, 1, 1, 1, 1, 1, 1, 1, 1],\n",
       "       [0, 0, 0, 1, 0, 0, 1, 1, 1, 0, 0, 0, 0, 0, 0],\n",
       "       [0, 0, 0, 1, 0, 0, 0, 0, 1, 1, 1, 0, 0, 1, 1],\n",
       "       [0, 0, 0, 1, 1, 0, 0, 0, 1, 0, 0, 0, 0, 0, 0],\n",
       "       [1, 1, 1, 1, 1, 0, 0, 0, 1, 0, 0, 0, 0, 0, 1],\n",
       "       [1, 1, 1, 1, 1, 1, 1, 1, 0, 1, 1, 0, 0, 1, 1],\n",
       "       [0, 1, 0, 1, 0, 1, 0, 0, 1, 0, 0, 0, 0, 0, 1],\n",
       "       [0, 0, 0, 1, 0, 1, 0, 0, 1, 0, 0, 0, 0, 0, 1],\n",
       "       [0, 0, 0, 1, 0, 0, 0, 0, 0, 0, 0, 0, 0, 1, 1],\n",
       "       [0, 0, 0, 1, 0, 0, 0, 0, 0, 0, 0, 0, 0, 1, 1],\n",
       "       [0, 0, 1, 1, 0, 1, 0, 0, 1, 0, 0, 1, 1, 0, 1],\n",
       "       [1, 0, 0, 1, 0, 1, 0, 1, 1, 1, 1, 1, 1, 1, 0]])"
      ]
     },
     "execution_count": 30,
     "metadata": {},
     "output_type": "execute_result"
    }
   ],
   "source": [
    "adjacency_initial[:15, :15]"
   ]
  },
  {
   "cell_type": "code",
   "execution_count": 31,
   "metadata": {},
   "outputs": [
    {
     "data": {
      "text/plain": [
       "(3333, 3333)"
      ]
     },
     "execution_count": 31,
     "metadata": {},
     "output_type": "execute_result"
    }
   ],
   "source": [
    "adjacency_initial.shape"
   ]
  },
  {
   "cell_type": "markdown",
   "metadata": {},
   "source": [
    "## Part 2"
   ]
  },
  {
   "cell_type": "markdown",
   "metadata": {},
   "source": [
    "Execute the cell below to plot the (weighted) adjacency matrix of your network."
   ]
  },
  {
   "cell_type": "code",
   "execution_count": 32,
   "metadata": {},
   "outputs": [
    {
     "data": {
      "image/png": "[encoded data removed]",
      "text/plain": [
       "<Figure size 432x288 with 1 Axes>"
      ]
     },
     "metadata": {},
     "output_type": "display_data"
    }
   ],
   "source": [
    "plt.spy(adjacency_initial, markersize=1)\n",
    "plt.title('adjacency matrix');"
   ]
  },
  {
   "cell_type": "markdown",
   "metadata": {},
   "source": [
    "### Question 1\n",
    "\n",
    "What is the maximum number of links $L_{max}$ in a network with $N$ nodes (where $N$ is the number of nodes in your network)? How many links $L$ are there in your collected network? Comment on the sparsity of your network."
   ]
  },
  {
   "cell_type": "code",
   "execution_count": 33,
   "metadata": {},
   "outputs": [
    {
     "data": {
      "text/plain": [
       "37274"
      ]
     },
     "execution_count": 33,
     "metadata": {},
     "output_type": "execute_result"
    }
   ],
   "source": [
    "# Each row in the dataset is a link\n",
    "n_links = edges.shape[0]\n",
    "n_links"
   ]
  },
  {
   "cell_type": "markdown",
   "metadata": {},
   "source": [
    "**There are 37505 links in the collected network. The maximum number of links in a network with N nodes is $N(N-1)$ (as this network is a directed network). In our case, for $N=3425$, we have $L_{max}=11727200$. This network is sparse : less than $0.32\\%$ of the possible links are filled.**"
   ]
  },
  {
   "cell_type": "markdown",
   "metadata": {},
   "source": [
    "### Question 2\n",
    "\n",
    "Is your graph directed or undirected? If it is directed, convert it to an undirected graph by symmetrizing the adjacency matrix."
   ]
  },
  {
   "cell_type": "markdown",
   "metadata": {},
   "source": [
    "**It is directed as a journey between two airports is not necessarily done in both ways.**"
   ]
  },
  {
   "cell_type": "code",
   "execution_count": 34,
   "metadata": {
    "scrolled": false
   },
   "outputs": [
    {
     "name": "stdout",
     "output_type": "stream",
     "text": [
      "directed = True\n"
     ]
    }
   ],
   "source": [
    "# First we test if the graph is directed or not\n",
    "\n",
    "# We use the numpy function allclose that tests if two arrays are element-wise equal to each other\n",
    "# To test if the adjacency matrix is symmetric, we test if the matrix and its transposed are equal\n",
    "# If they are equal, then the graph is undirected, and we set the directed boolean to False\n",
    "\n",
    "directed = not(np.allclose(adjacency_initial, adjacency_initial.T))\n",
    "\n",
    "print('directed = ' +str(directed))\n",
    "\n",
    "# If the underlying graph is directed, then we create another array storing \n",
    "# the symmetrized version of the adjacency matrix\n",
    "# We keep the non-symmetric adjacency matrix under the matrix adjacency_initial\n",
    "\n",
    "adjacency_undirected = adjacency_initial\n",
    "if directed:\n",
    "    for i in range(n_nodes):\n",
    "        for j in range(n_nodes):\n",
    "            if adjacency_initial[j][i] > 0:\n",
    "                adjacency_undirected[i][j] = adjacency_initial[j][i]"
   ]
  },
  {
   "cell_type": "markdown",
   "metadata": {},
   "source": [
    "### Question 3\n",
    "\n",
    "In the cell below save the features dataframe and the **symmetrized** adjacency matrix. You can use the Pandas ``to_csv`` to save the ``features`` and Numpy's ``save`` to save the ``adjacency``. We will reuse those in the following milestones."
   ]
  },
  {
   "cell_type": "code",
   "execution_count": 35,
   "metadata": {},
   "outputs": [],
   "source": [
    "adjacency = adjacency_undirected"
   ]
  },
  {
   "cell_type": "code",
   "execution_count": 36,
   "metadata": {},
   "outputs": [],
   "source": [
    "df_adjacency = pd.DataFrame(adjacency)"
   ]
  },
  {
   "cell_type": "code",
   "execution_count": 37,
   "metadata": {},
   "outputs": [],
   "source": [
    "airport_id2idx.reset_index(inplace=True)"
   ]
  },
  {
   "cell_type": "code",
   "execution_count": 38,
   "metadata": {},
   "outputs": [
    {
     "data": {
      "text/html": [
       "<div>\n",
       "<style scoped>\n",
       "    .dataframe tbody tr th:only-of-type {\n",
       "        vertical-align: middle;\n",
       "    }\n",
       "\n",
       "    .dataframe tbody tr th {\n",
       "        vertical-align: top;\n",
       "    }\n",
       "\n",
       "    .dataframe thead th {\n",
       "        text-align: right;\n",
       "    }\n",
       "</style>\n",
       "<table border=\"1\" class=\"dataframe\">\n",
       "  <thead>\n",
       "    <tr style=\"text-align: right;\">\n",
       "      <th></th>\n",
       "      <th>airport_id</th>\n",
       "      <th>node_idx</th>\n",
       "    </tr>\n",
       "  </thead>\n",
       "  <tbody>\n",
       "    <tr>\n",
       "      <th>0</th>\n",
       "      <td>2965</td>\n",
       "      <td>0</td>\n",
       "    </tr>\n",
       "    <tr>\n",
       "      <th>1</th>\n",
       "      <td>2966</td>\n",
       "      <td>1</td>\n",
       "    </tr>\n",
       "    <tr>\n",
       "      <th>2</th>\n",
       "      <td>2968</td>\n",
       "      <td>2</td>\n",
       "    </tr>\n",
       "    <tr>\n",
       "      <th>3</th>\n",
       "      <td>4029</td>\n",
       "      <td>3</td>\n",
       "    </tr>\n",
       "    <tr>\n",
       "      <th>4</th>\n",
       "      <td>6156</td>\n",
       "      <td>4</td>\n",
       "    </tr>\n",
       "  </tbody>\n",
       "</table>\n",
       "</div>"
      ],
      "text/plain": [
       "  airport_id  node_idx\n",
       "0       2965         0\n",
       "1       2966         1\n",
       "2       2968         2\n",
       "3       4029         3\n",
       "4       6156         4"
      ]
     },
     "execution_count": 38,
     "metadata": {},
     "output_type": "execute_result"
    }
   ],
   "source": [
    "airport_id2idx.head()"
   ]
  },
  {
   "cell_type": "code",
   "execution_count": 39,
   "metadata": {},
   "outputs": [],
   "source": [
    "df_adjacency.columns = airport_id2idx.airport_id\n",
    "df_adjacency.set_index(airport_id2idx.airport_id, inplace=True)"
   ]
  },
  {
   "cell_type": "code",
   "execution_count": 40,
   "metadata": {},
   "outputs": [
    {
     "data": {
      "text/html": [
       "<div>\n",
       "<style scoped>\n",
       "    .dataframe tbody tr th:only-of-type {\n",
       "        vertical-align: middle;\n",
       "    }\n",
       "\n",
       "    .dataframe tbody tr th {\n",
       "        vertical-align: top;\n",
       "    }\n",
       "\n",
       "    .dataframe thead th {\n",
       "        text-align: right;\n",
       "    }\n",
       "</style>\n",
       "<table border=\"1\" class=\"dataframe\">\n",
       "  <thead>\n",
       "    <tr style=\"text-align: right;\">\n",
       "      <th>airport_id</th>\n",
       "      <th>2965</th>\n",
       "      <th>2966</th>\n",
       "      <th>2968</th>\n",
       "      <th>4029</th>\n",
       "      <th>6156</th>\n",
       "      <th>2922</th>\n",
       "      <th>2952</th>\n",
       "      <th>2990</th>\n",
       "      <th>2948</th>\n",
       "      <th>2962</th>\n",
       "      <th>...</th>\n",
       "      <th>9758</th>\n",
       "      <th>4336</th>\n",
       "      <th>1040</th>\n",
       "      <th>2697</th>\n",
       "      <th>1463</th>\n",
       "      <th>8259</th>\n",
       "      <th>7370</th>\n",
       "      <th>6372</th>\n",
       "      <th>4125</th>\n",
       "      <th>7369</th>\n",
       "    </tr>\n",
       "    <tr>\n",
       "      <th>airport_id</th>\n",
       "      <th></th>\n",
       "      <th></th>\n",
       "      <th></th>\n",
       "      <th></th>\n",
       "      <th></th>\n",
       "      <th></th>\n",
       "      <th></th>\n",
       "      <th></th>\n",
       "      <th></th>\n",
       "      <th></th>\n",
       "      <th></th>\n",
       "      <th></th>\n",
       "      <th></th>\n",
       "      <th></th>\n",
       "      <th></th>\n",
       "      <th></th>\n",
       "      <th></th>\n",
       "      <th></th>\n",
       "      <th></th>\n",
       "      <th></th>\n",
       "      <th></th>\n",
       "    </tr>\n",
       "  </thead>\n",
       "  <tbody>\n",
       "    <tr>\n",
       "      <th>2965</th>\n",
       "      <td>0</td>\n",
       "      <td>0</td>\n",
       "      <td>0</td>\n",
       "      <td>1</td>\n",
       "      <td>0</td>\n",
       "      <td>0</td>\n",
       "      <td>0</td>\n",
       "      <td>1</td>\n",
       "      <td>1</td>\n",
       "      <td>0</td>\n",
       "      <td>...</td>\n",
       "      <td>0</td>\n",
       "      <td>0</td>\n",
       "      <td>0</td>\n",
       "      <td>0</td>\n",
       "      <td>0</td>\n",
       "      <td>0</td>\n",
       "      <td>0</td>\n",
       "      <td>0</td>\n",
       "      <td>0</td>\n",
       "      <td>0</td>\n",
       "    </tr>\n",
       "    <tr>\n",
       "      <th>2966</th>\n",
       "      <td>0</td>\n",
       "      <td>0</td>\n",
       "      <td>0</td>\n",
       "      <td>1</td>\n",
       "      <td>0</td>\n",
       "      <td>0</td>\n",
       "      <td>0</td>\n",
       "      <td>1</td>\n",
       "      <td>1</td>\n",
       "      <td>1</td>\n",
       "      <td>...</td>\n",
       "      <td>0</td>\n",
       "      <td>0</td>\n",
       "      <td>0</td>\n",
       "      <td>0</td>\n",
       "      <td>0</td>\n",
       "      <td>0</td>\n",
       "      <td>0</td>\n",
       "      <td>0</td>\n",
       "      <td>0</td>\n",
       "      <td>0</td>\n",
       "    </tr>\n",
       "    <tr>\n",
       "      <th>2968</th>\n",
       "      <td>0</td>\n",
       "      <td>0</td>\n",
       "      <td>0</td>\n",
       "      <td>1</td>\n",
       "      <td>0</td>\n",
       "      <td>0</td>\n",
       "      <td>0</td>\n",
       "      <td>1</td>\n",
       "      <td>1</td>\n",
       "      <td>0</td>\n",
       "      <td>...</td>\n",
       "      <td>0</td>\n",
       "      <td>0</td>\n",
       "      <td>0</td>\n",
       "      <td>0</td>\n",
       "      <td>0</td>\n",
       "      <td>0</td>\n",
       "      <td>0</td>\n",
       "      <td>0</td>\n",
       "      <td>0</td>\n",
       "      <td>0</td>\n",
       "    </tr>\n",
       "    <tr>\n",
       "      <th>4029</th>\n",
       "      <td>1</td>\n",
       "      <td>1</td>\n",
       "      <td>1</td>\n",
       "      <td>0</td>\n",
       "      <td>1</td>\n",
       "      <td>1</td>\n",
       "      <td>1</td>\n",
       "      <td>1</td>\n",
       "      <td>1</td>\n",
       "      <td>1</td>\n",
       "      <td>...</td>\n",
       "      <td>0</td>\n",
       "      <td>0</td>\n",
       "      <td>0</td>\n",
       "      <td>0</td>\n",
       "      <td>0</td>\n",
       "      <td>0</td>\n",
       "      <td>0</td>\n",
       "      <td>0</td>\n",
       "      <td>0</td>\n",
       "      <td>0</td>\n",
       "    </tr>\n",
       "    <tr>\n",
       "      <th>6156</th>\n",
       "      <td>0</td>\n",
       "      <td>0</td>\n",
       "      <td>0</td>\n",
       "      <td>1</td>\n",
       "      <td>0</td>\n",
       "      <td>0</td>\n",
       "      <td>1</td>\n",
       "      <td>1</td>\n",
       "      <td>1</td>\n",
       "      <td>0</td>\n",
       "      <td>...</td>\n",
       "      <td>0</td>\n",
       "      <td>0</td>\n",
       "      <td>0</td>\n",
       "      <td>0</td>\n",
       "      <td>0</td>\n",
       "      <td>0</td>\n",
       "      <td>0</td>\n",
       "      <td>0</td>\n",
       "      <td>0</td>\n",
       "      <td>0</td>\n",
       "    </tr>\n",
       "  </tbody>\n",
       "</table>\n",
       "<p>5 rows × 3333 columns</p>\n",
       "</div>"
      ],
      "text/plain": [
       "airport_id  2965  2966  2968  4029  6156  2922  2952  2990  2948  2962  ...   \\\n",
       "airport_id                                                              ...    \n",
       "2965           0     0     0     1     0     0     0     1     1     0  ...    \n",
       "2966           0     0     0     1     0     0     0     1     1     1  ...    \n",
       "2968           0     0     0     1     0     0     0     1     1     0  ...    \n",
       "4029           1     1     1     0     1     1     1     1     1     1  ...    \n",
       "6156           0     0     0     1     0     0     1     1     1     0  ...    \n",
       "\n",
       "airport_id  9758  4336  1040  2697  1463  8259  7370  6372  4125  7369  \n",
       "airport_id                                                              \n",
       "2965           0     0     0     0     0     0     0     0     0     0  \n",
       "2966           0     0     0     0     0     0     0     0     0     0  \n",
       "2968           0     0     0     0     0     0     0     0     0     0  \n",
       "4029           0     0     0     0     0     0     0     0     0     0  \n",
       "6156           0     0     0     0     0     0     0     0     0     0  \n",
       "\n",
       "[5 rows x 3333 columns]"
      ]
     },
     "execution_count": 40,
     "metadata": {},
     "output_type": "execute_result"
    }
   ],
   "source": [
    "df_adjacency.head()"
   ]
  },
  {
   "cell_type": "code",
   "execution_count": 41,
   "metadata": {},
   "outputs": [],
   "source": [
    "features.to_csv(\"./features\")"
   ]
  },
  {
   "cell_type": "code",
   "execution_count": 42,
   "metadata": {},
   "outputs": [],
   "source": [
    "df_adjacency.to_csv(\"df_adjacency.csv\")"
   ]
  },
  {
   "cell_type": "code",
   "execution_count": 43,
   "metadata": {},
   "outputs": [],
   "source": [
    "np.save(\"./adjacency\", adjacency)"
   ]
  },
  {
   "cell_type": "markdown",
   "metadata": {},
   "source": [
    "### Question 4\n",
    "\n",
    "Are the edges of your graph weighted?"
   ]
  },
  {
   "cell_type": "markdown",
   "metadata": {},
   "source": [
    "**No, since it just represents the existence of a path with a 0 or a 1. We do not consider the stops as weights at the moment.**"
   ]
  },
  {
   "cell_type": "markdown",
   "metadata": {},
   "source": [
    "### Question 5\n",
    "\n",
    "What is the degree distibution of your network? "
   ]
  },
  {
   "cell_type": "markdown",
   "metadata": {},
   "source": [
    "**Since the degree distribution is linear in a log scaled graph, we have $p_{k}\\sim k^{-\\gamma}$ with $\\gamma=1.6$. This $\\gamma$ is very low ($\\gamma < 2$). This can only be explained as we have a finite network of small size ($N\\sim 10^{3}$).**"
   ]
  },
  {
   "cell_type": "code",
   "execution_count": 44,
   "metadata": {},
   "outputs": [],
   "source": [
    "degree = np.zeros(n_nodes)\n",
    "\n",
    "for i in range(n_nodes):\n",
    "    degree[i] = sum(adjacency_undirected[i])\n",
    "    \n",
    "assert len(degree) == n_nodes"
   ]
  },
  {
   "cell_type": "markdown",
   "metadata": {},
   "source": [
    "Execute the cell below to see the histogram of the degree distribution."
   ]
  },
  {
   "cell_type": "code",
   "execution_count": 45,
   "metadata": {},
   "outputs": [
    {
     "data": {
      "image/png": "[encoded data removed]",
      "text/plain": [
       "<Figure size 1200x480 with 1 Axes>"
      ]
     },
     "metadata": {},
     "output_type": "display_data"
    }
   ],
   "source": [
    "weights = np.ones_like(degree) / float(n_nodes)\n",
    "\n",
    "plt.figure(num=None, figsize=(15, 6), dpi=80, facecolor='w', edgecolor='k')\n",
    "\n",
    "plt.title('Log-log representation of the airlines traffic')\n",
    "plt.ylabel('Proportion');\n",
    "plt.xlabel('Number of flights');\n",
    "plt.hist(degree, weights=weights, bins = int(np.sqrt(n_nodes)));"
   ]
  },
  {
   "cell_type": "code",
   "execution_count": 46,
   "metadata": {},
   "outputs": [
    {
     "data": {
      "text/plain": [
       "array([-1.59209779,  7.58711237])"
      ]
     },
     "execution_count": 46,
     "metadata": {},
     "output_type": "execute_result"
    },
    {
     "data": {
      "image/png": "[encoded data removed]",
      "text/plain": [
       "<Figure size 432x288 with 1 Axes>"
      ]
     },
     "metadata": {},
     "output_type": "display_data"
    }
   ],
   "source": [
    "# Here we compute the parameters of the power law representing our distribution\n",
    "degrees_unique, degrees_freq = np.unique(degree, return_counts=True)\n",
    "\n",
    "idx_log = [k for k in range(len(degrees_unique)) if (degrees_unique[k] > 1\n",
    "                                                     and degrees_unique[k] < 50    #Avoid border effects\n",
    "                                                     and degrees_freq[k] > 0) ]\n",
    "# Linear regression\n",
    "p = np.polyfit(np.log(degrees_unique[idx_log]), np.log(degrees_freq[idx_log]), 1)\n",
    "\n",
    "plt.plot(degrees_unique, degrees_freq, '.')\n",
    "plt.plot(degrees_unique[idx_log], np.exp(p[0]*np.log(degrees_unique[idx_log]) + p[1]))\n",
    "plt.xscale('log')\n",
    "plt.yscale('log')\n",
    "plt.title('Log-log representation of the airlines traffic')\n",
    "plt.ylabel('Proportion');\n",
    "plt.xlabel('Number of flights');\n",
    "\n",
    "p #Parameters of the power law, gamma is the first coefficient."
   ]
  },
  {
   "cell_type": "markdown",
   "metadata": {},
   "source": [
    "What is the average degree?"
   ]
  },
  {
   "cell_type": "markdown",
   "metadata": {},
   "source": [
    "**The average degree is 11.45**"
   ]
  },
  {
   "cell_type": "code",
   "execution_count": 47,
   "metadata": {},
   "outputs": [
    {
     "data": {
      "text/plain": [
       "11.45"
      ]
     },
     "execution_count": 47,
     "metadata": {},
     "output_type": "execute_result"
    }
   ],
   "source": [
    "avg_degree = np.mean(degree)\n",
    "round(avg_degree, 2)"
   ]
  },
  {
   "cell_type": "markdown",
   "metadata": {},
   "source": [
    "### Question 6\n",
    "\n",
    "Comment on the degree distribution of your network."
   ]
  },
  {
   "cell_type": "markdown",
   "metadata": {},
   "source": [
    "**Most airports are linked to a few others. There a few hubs with many connections, more than 150.**\n",
    "\n",
    "**We are in a connected regime since we have $\\langle k \\rangle > ln(N)$.**\n",
    "\n",
    "**Our network is a scale-free network since it follows a power law distribution, as shown in question 5.**"
   ]
  },
  {
   "cell_type": "markdown",
   "metadata": {},
   "source": [
    "### Question 7\n",
    "\n",
    "Write a function that takes as input the adjacency matrix of a graph and determines whether the graph is connected or not."
   ]
  },
  {
   "cell_type": "code",
   "execution_count": 48,
   "metadata": {},
   "outputs": [],
   "source": [
    "#Function that returns new nodes linked to current_node and their hop-distance to origin.\n",
    "\n",
    "def link_nodes_unlabelled(adjacency, current_node, distance_from_start_node):\n",
    "    link_nodes = []\n",
    "    for idx in range(adjacency.shape[0]):\n",
    "        if adjacency[current_node[0],idx] > 0 and distance_from_start_node[idx] == np.Inf:\n",
    "            link_nodes.append((idx, current_node[1]+1))     # Add unlabelled nodes linked to the current node with label +1\n",
    "    return link_nodes"
   ]
  },
  {
   "cell_type": "code",
   "execution_count": 49,
   "metadata": {},
   "outputs": [],
   "source": [
    "#Breadth first search algorithm\n",
    "\n",
    "#Remark : the BFS compute the shortest path for the hop-distance\n",
    "\n",
    "def bfs(adjacency, start_node):\n",
    "    distance_from_start_node = np.Inf * np.ones(adjacency.shape[0])   # Unlabelled are set to inf\n",
    "    distance_from_start_node[start_node] = 0\n",
    "    queue = [(start_node, 0)]\n",
    "    \n",
    "    while queue:\n",
    "        current_node = queue.pop(0)\n",
    "        link_nodes = link_nodes_unlabelled(adjacency, current_node, distance_from_start_node)\n",
    "        for node in link_nodes:\n",
    "            distance_from_start_node[node[0]] = node[1]\n",
    "        queue += link_nodes\n",
    "    \n",
    "    return distance_from_start_node"
   ]
  },
  {
   "cell_type": "code",
   "execution_count": 50,
   "metadata": {},
   "outputs": [],
   "source": [
    "def connected_graph(adjacency):\n",
    "    \"\"\"Determines whether a graph is connected.\n",
    "    \n",
    "    Parameters\n",
    "    ----------\n",
    "    adjacency: numpy array\n",
    "        The (weighted) adjacency matrix of a graph.\n",
    "    \n",
    "    Returns\n",
    "    -------\n",
    "    bool\n",
    "        True if the graph is connected, False otherwise.\n",
    "    \"\"\"\n",
    "    \n",
    "    n_nodes = adjacency.shape[0]\n",
    "    start_node = int(np.random.rand() * n_nodes)\n",
    "    distance_from_start_node = bfs(adjacency, start_node)                   # Compute BFS\n",
    "    \n",
    "    connected = not(sum(np.array(distance_from_start_node) == np.Inf) > 0)  # Count if there is any unlabelled node\n",
    "    \n",
    "    return connected"
   ]
  },
  {
   "cell_type": "markdown",
   "metadata": {},
   "source": [
    "Is your graph connected? Run the ``connected_graph`` function to determine your answer."
   ]
  },
  {
   "cell_type": "code",
   "execution_count": 51,
   "metadata": {},
   "outputs": [
    {
     "data": {
      "text/plain": [
       "False"
      ]
     },
     "execution_count": 51,
     "metadata": {},
     "output_type": "execute_result"
    }
   ],
   "source": [
    "connected_graph(adjacency_undirected)"
   ]
  },
  {
   "cell_type": "markdown",
   "metadata": {},
   "source": [
    "**The graph is not connected.**"
   ]
  },
  {
   "cell_type": "markdown",
   "metadata": {},
   "source": [
    "### Question 8\n",
    "\n",
    "Write a function that extracts the connected components of a graph."
   ]
  },
  {
   "cell_type": "code",
   "execution_count": 62,
   "metadata": {},
   "outputs": [],
   "source": [
    "def find_components(adjacency):\n",
    "    \"\"\"Find the connected components of a graph.\n",
    "    \n",
    "    Parameters\n",
    "    ----------\n",
    "    adjacency: numpy array\n",
    "        The (weighted) adjacency matrix of a graph.\n",
    "    \n",
    "    Returns\n",
    "    -------\n",
    "    list of numpy arrays\n",
    "        A list of adjacency matrices, one per connected component.\n",
    "    \"\"\"\n",
    "    \n",
    "    components = []\n",
    "    n_nodes = adjacency.shape[0]\n",
    "    n = 1\n",
    "    unseen_nodes = [i for i in range(n_nodes)]\n",
    "    a=[]\n",
    "    while unseen_nodes:\n",
    "        connected_components = []\n",
    "        current_node = np.random.choice(unseen_nodes)   # Choose a random unseen node\n",
    "        distance_from_start_node = bfs(adjacency, current_node)  # Compute BFS from this node\n",
    "        \n",
    "        for idx, dist in enumerate(distance_from_start_node):\n",
    "            if dist != np.Inf:     # The connected nodes (from a source) are the labelled nodes !\n",
    "                connected_components.append(idx)\n",
    "        \n",
    "        unseen_nodes = [e for e in unseen_nodes if e not in connected_components] # Update unseen nodes\n",
    "        if len(connected_components) > 1: #don't take links with a NaN\n",
    "            components.append(adjacency[connected_components, :][:, connected_components]) # Add adjacency of the component\n",
    "        a.append(connected_components)\n",
    "    return a"
   ]
  },
  {
   "cell_type": "markdown",
   "metadata": {},
   "source": [
    "How many connected components is your network composed of? What is the size of the largest connected component? Run the ``find_components`` function to determine your answer. "
   ]
  },
  {
   "cell_type": "code",
   "execution_count": 68,
   "metadata": {},
   "outputs": [],
   "source": [
    "connected_components = find_components(adjacency_undirected)[0]"
   ]
  },
  {
   "cell_type": "code",
   "execution_count": 85,
   "metadata": {},
   "outputs": [],
   "source": [
    "biggest_cluster = adjacency[connected_components, :][:, connected_components]"
   ]
  },
  {
   "cell_type": "code",
   "execution_count": 86,
   "metadata": {},
   "outputs": [
    {
     "data": {
      "text/plain": [
       "(3304, 3304)"
      ]
     },
     "execution_count": 86,
     "metadata": {},
     "output_type": "execute_result"
    }
   ],
   "source": [
    "biggest_cluster.shape"
   ]
  },
  {
   "cell_type": "code",
   "execution_count": 92,
   "metadata": {},
   "outputs": [
    {
     "data": {
      "text/html": [
       "<div>\n",
       "<style scoped>\n",
       "    .dataframe tbody tr th:only-of-type {\n",
       "        vertical-align: middle;\n",
       "    }\n",
       "\n",
       "    .dataframe tbody tr th {\n",
       "        vertical-align: top;\n",
       "    }\n",
       "\n",
       "    .dataframe thead th {\n",
       "        text-align: right;\n",
       "    }\n",
       "</style>\n",
       "<table border=\"1\" class=\"dataframe\">\n",
       "  <thead>\n",
       "    <tr style=\"text-align: right;\">\n",
       "      <th></th>\n",
       "      <th>airport_id</th>\n",
       "      <th>node_idx</th>\n",
       "    </tr>\n",
       "  </thead>\n",
       "  <tbody>\n",
       "    <tr>\n",
       "      <th>0</th>\n",
       "      <td>2965</td>\n",
       "      <td>0</td>\n",
       "    </tr>\n",
       "    <tr>\n",
       "      <th>1</th>\n",
       "      <td>2966</td>\n",
       "      <td>1</td>\n",
       "    </tr>\n",
       "    <tr>\n",
       "      <th>2</th>\n",
       "      <td>2968</td>\n",
       "      <td>2</td>\n",
       "    </tr>\n",
       "    <tr>\n",
       "      <th>3</th>\n",
       "      <td>4029</td>\n",
       "      <td>3</td>\n",
       "    </tr>\n",
       "    <tr>\n",
       "      <th>4</th>\n",
       "      <td>6156</td>\n",
       "      <td>4</td>\n",
       "    </tr>\n",
       "  </tbody>\n",
       "</table>\n",
       "</div>"
      ],
      "text/plain": [
       "  airport_id  node_idx\n",
       "0       2965         0\n",
       "1       2966         1\n",
       "2       2968         2\n",
       "3       4029         3\n",
       "4       6156         4"
      ]
     },
     "execution_count": 92,
     "metadata": {},
     "output_type": "execute_result"
    }
   ],
   "source": [
    "airport_id2idx.head()"
   ]
  },
  {
   "cell_type": "code",
   "execution_count": 94,
   "metadata": {},
   "outputs": [],
   "source": [
    "airport_id2idx = airport_id2idx.iloc[connected_components]"
   ]
  },
  {
   "cell_type": "code",
   "execution_count": 102,
   "metadata": {},
   "outputs": [],
   "source": [
    "df_biggest_cluster = pd.DataFrame(biggest_cluster)"
   ]
  },
  {
   "cell_type": "code",
   "execution_count": 103,
   "metadata": {},
   "outputs": [],
   "source": [
    "df_biggest_cluster.columns = airport_id2idx.airport_id\n",
    "df_biggest_cluster.set_index(airport_id2idx.airport_id, inplace=True)"
   ]
  },
  {
   "cell_type": "code",
   "execution_count": 105,
   "metadata": {},
   "outputs": [
    {
     "data": {
      "text/plain": [
       "(3304, 3304)"
      ]
     },
     "execution_count": 105,
     "metadata": {},
     "output_type": "execute_result"
    }
   ],
   "source": [
    "df_biggest_cluster.shape"
   ]
  },
  {
   "cell_type": "code",
   "execution_count": 109,
   "metadata": {},
   "outputs": [],
   "source": [
    "np.save(\"./biggest_cluster\", biggest_cluster)\n",
    "df_biggest_cluster.to_csv(\"df_biggest_cluster.csv\")"
   ]
  },
  {
   "cell_type": "code",
   "execution_count": 55,
   "metadata": {},
   "outputs": [
    {
     "data": {
      "text/plain": [
       "7"
      ]
     },
     "execution_count": 55,
     "metadata": {},
     "output_type": "execute_result"
    }
   ],
   "source": [
    "len(components) #Number of components"
   ]
  },
  {
   "cell_type": "code",
   "execution_count": 56,
   "metadata": {},
   "outputs": [],
   "source": [
    "#Size of each connected component\n",
    "size_components = []\n",
    "for conn_comp in components:\n",
    "    size_components.append(conn_comp.shape[0])"
   ]
  },
  {
   "cell_type": "code",
   "execution_count": 57,
   "metadata": {},
   "outputs": [
    {
     "data": {
      "text/plain": [
       "3304"
      ]
     },
     "execution_count": 57,
     "metadata": {},
     "output_type": "execute_result"
    }
   ],
   "source": [
    "max(size_components) #Size of the largest component"
   ]
  },
  {
   "cell_type": "markdown",
   "metadata": {},
   "source": [
    "**There are 7 connected components in the network.**\n",
    "\n",
    "**The size of the largest connected component is 3308 (out of 3425 airports).**"
   ]
  },
  {
   "cell_type": "markdown",
   "metadata": {},
   "source": [
    "### Question 9\n",
    "\n",
    "Write a function that takes as input the adjacency matrix and a node (`source`) and returns the length of the shortest path between that node and all nodes in the graph using Dijkstra's algorithm. **For the purposes of this assignment we are interested in the hop distance between nodes, not in the sum of weights. **\n",
    "\n",
    "Hint: You might want to mask the adjacency matrix in the function ``compute_shortest_path_lengths`` in order to make sure you obtain a binary adjacency matrix. "
   ]
  },
  {
   "cell_type": "code",
   "execution_count": null,
   "metadata": {},
   "outputs": [],
   "source": [
    "def compute_shortest_path_lengths(adjacency, source):\n",
    "    \"\"\"Computes the shortest path length between a source node and all nodes.\n",
    "    \n",
    "    Parameters\n",
    "    ----------\n",
    "    adjacency: numpy array\n",
    "        The (weighted) adjacency matrix of a graph.\n",
    "    source: int\n",
    "        The source node. A number between 0 and n_nodes-1.\n",
    "    \n",
    "    Returns\n",
    "    -------\n",
    "    list of ints\n",
    "        The length of the shortest path from source to all nodes. Returned list should be of length n_nodes.\n",
    "    \"\"\"\n",
    "\n",
    "    queue = [source]\n",
    "    distances = np.full(len(adjacency[0]), np.Inf)\n",
    "    parents = np.full(len(adjacency[0]), None)\n",
    "    distances[source] = 0\n",
    "    parents[source] = source\n",
    "    while len(queue) > 0:\n",
    "        elem = queue.pop(0)\n",
    "        for i in range(len(adjacency[elem])):\n",
    "            weight = adjacency[elem,i]   # Find the weight\n",
    "            new_dist = weight + distances[elem] # Update all the weight ith this one\n",
    "            if (weight > 0):  # If there was a connection\n",
    "                if (distances[i] == np.Inf): # If it is unlabelled yet\n",
    "                    queue += [i]\n",
    "                    distances[i] = new_dist\n",
    "                    parents[i] = elem\n",
    "                elif (distances[i] > new_dist): # If we found a better path\n",
    "                    distances[i] = new_dist\n",
    "                    parents[i] = elem\n",
    "    return distances.tolist()\n",
    "\n",
    "#print(compute_shortest_path_lengths(adjacency_undirected,0))"
   ]
  },
  {
   "cell_type": "markdown",
   "metadata": {},
   "source": [
    "**We don't need to mask the adjacency matrix since it is already unweighted.**"
   ]
  },
  {
   "cell_type": "markdown",
   "metadata": {},
   "source": [
    "### Question 10\n",
    "\n",
    "The diameter of the graph is the length of the longest shortest path between any pair of nodes. Use the above developed function to compute the diameter of the graph (or the diameter of the largest connected component of the graph if the graph is not connected). If your graph (or largest connected component) is very large, computing the diameter will take very long. In that case downsample your graph so that it has 1.000 nodes. There are many ways to reduce the size of a graph. For the purposes of this milestone you can chose to randomly select 1.000 nodes. "
   ]
  },
  {
   "cell_type": "markdown",
   "metadata": {},
   "source": [
    "**Since our graph has no weights, Dijkstra and BFS algorithms are equivalent. \n",
    "BFS~O(M) with M the number of edges and Dijkstra~O(NxN) with N the number of nodes.\n",
    "For computational reasons (our adjacency matrix is sparse), we have chosen to use BFS instead of Dijkstra.**"
   ]
  },
  {
   "cell_type": "code",
   "execution_count": null,
   "metadata": {},
   "outputs": [],
   "source": [
    "#First we find the biggest cluster in our network, also needed in question 14\n",
    "index_biggest = np.argmax(size_components)\n",
    "biggest_cluster, size_biggest = components[index_biggest], size_components[index_biggest]\n",
    "\n",
    "def longest_shortest_path(adjacency):\n",
    "    \"\"\"\n",
    "    Computes the maximum distance between two nodes in the graph\n",
    "    \n",
    "    Parameters\n",
    "    ----------\n",
    "    adjacency : numpy array\n",
    "        the adjacency matrix representing the graph\n",
    "    \n",
    "    Returns\n",
    "    -------\n",
    "    longest_shortest_path : int\n",
    "        the length of the shortest path between two nodes that are distant at the maximum distance\n",
    "        in the graph\n",
    "    \n",
    "    \"\"\"\n",
    "    \n",
    "    \n",
    "    max_foreach_node = []\n",
    "    size = len(adjacency[0])\n",
    "    print(size)\n",
    "    for node_idx in range(size):   # For all nodes\n",
    "        print(node_idx)\n",
    "        shortest_path_lengths = bfs(adjacency, node_idx).tolist()  # Compute bfs\n",
    "        max_foreach_node.append(max(shortest_path_lengths))  # Keep the longest distance from this node to all others\n",
    "    \n",
    "    longest_shortest_path = max(max_foreach_node) # Find the longest distance among the previouses\n",
    "    return longest_shortest_path\n",
    "\n",
    "#Uncomment to run the cell. Warning: it lasts between 3 and 4 hours. \n",
    "#print(longest_shortest_path(biggest_cluster))\n",
    "\n",
    "#Final result\n",
    "print(13.0)"
   ]
  },
  {
   "cell_type": "markdown",
   "metadata": {},
   "source": [
    "**The longest shortest path between any pair of nodes in the graph is of length 13.**"
   ]
  },
  {
   "cell_type": "markdown",
   "metadata": {},
   "source": [
    "### Question 11\n",
    "\n",
    "Write a function that takes as input the adjacency matrix, a path length, and two nodes (`source` and `target`), and returns the number of paths of the given length between them."
   ]
  },
  {
   "cell_type": "markdown",
   "metadata": {},
   "source": [
    "**11.1 : Find the number of paths of a given length between two nodes, with edge and node repetition allowed.**"
   ]
  },
  {
   "cell_type": "code",
   "execution_count": null,
   "metadata": {},
   "outputs": [],
   "source": [
    "def compute_paths_with_repetitions(adjacency, source, target, length):\n",
    "    paths = np.zeros(np.shape(adjacency)[0])\n",
    "    paths[source] = 1\n",
    "    \n",
    "    for l in range(length):\n",
    "        paths = adjacency.dot(paths)   # Apply connectedness to previous connected nodes and sum it for all nodes\n",
    "    \n",
    "    return int(paths[target])"
   ]
  },
  {
   "cell_type": "code",
   "execution_count": null,
   "metadata": {},
   "outputs": [],
   "source": [
    "print(compute_paths_with_repetitions(adjacency_undirected, 0, 10, 1))\n",
    "print(compute_paths_with_repetitions(adjacency_undirected, 6, 7, 2))\n",
    "print(compute_paths_with_repetitions(adjacency_undirected, 0, 10, 3))\n",
    "print(compute_paths_with_repetitions(adjacency_undirected, 15, 93, 4))\n",
    "print(compute_paths_with_repetitions(adjacency_undirected, 21, 72, 8))"
   ]
  },
  {
   "cell_type": "markdown",
   "metadata": {},
   "source": [
    "**11.2 : Find the number of paths of a given length between two nodes, with edge and node repetitions  NOT allowed.**"
   ]
  },
  {
   "cell_type": "code",
   "execution_count": null,
   "metadata": {},
   "outputs": [],
   "source": [
    "import itertools as it"
   ]
  },
  {
   "cell_type": "code",
   "execution_count": null,
   "metadata": {},
   "outputs": [],
   "source": [
    "def compute_paths(adjacency, source, target, length):\n",
    "    \"\"\"Compute the number of paths of a given length between a source and target node.\n",
    "    \n",
    "    Parameters\n",
    "    ----------\n",
    "    adjacency: numpy array\n",
    "        The (weighted) adjacency matrix of a graph.\n",
    "    source: int\n",
    "        The source node. A number between 0 and n_nodes-1.\n",
    "    target: int\n",
    "        The target node. A number between 0 and n_nodes-1.\n",
    "    length: int\n",
    "        The path length to be considered.\n",
    "    \n",
    "    Returns\n",
    "    -------\n",
    "    int\n",
    "        The number of paths.\n",
    "    \"\"\"\n",
    "    \n",
    "    if length == 1:\n",
    "        n_paths = adjacency[source, target]\n",
    "    else:    \n",
    "        n_paths = 0\n",
    "\n",
    "        inter_nodes = list(range(n_nodes))\n",
    "        inter_nodes.remove(source)\n",
    "        inter_nodes.remove(target)    # keep only intermediary nodes\n",
    "\n",
    "        all_paths = list(it.permutations(inter_nodes, length - 1))    # -1 because we have already the first and last node\n",
    "\n",
    "        for path in all_paths:\n",
    "            exists_path = adjacency[source, path[0]]   # evaluation of first link in path\n",
    "\n",
    "            for idx in range(len(path) - 1):   # evaluation of intermediary links\n",
    "                exists_path *= adjacency[path[idx], path[idx+1]]\n",
    "\n",
    "            exists_path *= adjacency[target, path[-1]]   # evaluation of last link in path\n",
    "\n",
    "            n_paths += exists_path \n",
    "    \n",
    "    return n_paths"
   ]
  },
  {
   "cell_type": "markdown",
   "metadata": {},
   "source": [
    "Test your function on 5 pairs of nodes, with different lengths."
   ]
  },
  {
   "cell_type": "code",
   "execution_count": null,
   "metadata": {},
   "outputs": [],
   "source": [
    "print(compute_paths(adjacency_undirected, 0, 10, 1))\n",
    "print(compute_paths(adjacency_undirected, 6, 7, 2))\n",
    "print(compute_paths(adjacency_undirected, 0, 10, 3))\n",
    "print(compute_paths(adjacency_undirected, 23, 67, 2))"
   ]
  },
  {
   "cell_type": "markdown",
   "metadata": {},
   "source": [
    "### Question 12\n",
    "\n",
    "How many paths of length 3 are there in your graph? Hint: calling the `compute_paths` function on every pair of node is not an efficient way to do it."
   ]
  },
  {
   "cell_type": "markdown",
   "metadata": {},
   "source": [
    "**12.1 Compute the number of paths of length 3 allowing repetitions of edges and nodes.**"
   ]
  },
  {
   "cell_type": "code",
   "execution_count": null,
   "metadata": {},
   "outputs": [],
   "source": [
    "def compute_number_of_paths_with_repetition(adjacency, length):\n",
    "    \"\"\"\n",
    "    Computes the number of paths of a certain length with repetitions allowed\n",
    "    \n",
    "    Parameters\n",
    "    ----------\n",
    "    adjacency : numpy array\n",
    "        the adjacency matrix representing the graph\n",
    "    length : int\n",
    "        the length of the paths we count\n",
    "        \n",
    "    Returns\n",
    "    -------\n",
    "    the number of paths of length 'length' in the graph : int\n",
    "    \"\"\"\n",
    "    \n",
    "    paths = np.ones(np.shape(adjacency)[0])\n",
    "    \n",
    "    for l in range(length):\n",
    "        paths = adjacency.dot(paths)   # Sum the elements of the adjacency matrix to the power length\n",
    "    \n",
    "    return int(sum(paths))"
   ]
  },
  {
   "cell_type": "code",
   "execution_count": null,
   "metadata": {},
   "outputs": [],
   "source": [
    "compute_number_of_paths_with_repetition(adjacency_undirected, 3)"
   ]
  },
  {
   "cell_type": "markdown",
   "metadata": {},
   "source": [
    "**12.1 Compute the number of paths of length 3 forbidding repetitions of edges and nodes.**"
   ]
  },
  {
   "cell_type": "code",
   "execution_count": null,
   "metadata": {},
   "outputs": [],
   "source": [
    "def limited_bfs(adjacency, start_node, distance):\n",
    "\n",
    "    \"\"\"\n",
    "    This function is used to compute all the nodes at a certain distance to node start_node.\n",
    "    We call this function on every node of the graph to count how many paths of length 3 are there in the graph.\n",
    "    \n",
    "    Parameters\n",
    "    ----------\n",
    "    adjacency : numpy array\n",
    "        the adjacency matrix of the graph\n",
    "    start_node : int\n",
    "        the node on which we want to compute the algorithm on\n",
    "    distance : int\n",
    "        the length of the paths we want to count\n",
    "        \n",
    "    Returns\n",
    "    -------\n",
    "    nodes_at_distance : int\n",
    "        the number of nodes of which there is a path of length 'distance'\n",
    "        between start_node and those nodes\n",
    "    \"\"\"\n",
    "    \n",
    "    distance_from_start_node = np.Inf*np.ones(adjacency.shape[0])\n",
    "    distance_from_start_node[start_node] = 0\n",
    "    queue = [(start_node, 0)]\n",
    "    \n",
    "    nodes_at_distance = []\n",
    "    \n",
    "    while queue:\n",
    "        current_node = queue.pop(0)\n",
    "        # This test allows us to immediately remove all nodes that are up to \n",
    "        if(current_node[1] > distance):\n",
    "            continue\n",
    "            \n",
    "        if(current_node[1] == distance): # If we found a path of the right distance\n",
    "            nodes_at_distance.append(current_node[0])\n",
    "        \n",
    "        link_nodes = link_nodes_unlabelled(adjacency, current_node, distance_from_start_node)\n",
    "        for node in link_nodes:\n",
    "            distance_from_start_node[node[0]] = node[1]\n",
    "\n",
    "        queue += link_nodes\n",
    "    \n",
    "    return nodes_at_distance"
   ]
  },
  {
   "cell_type": "code",
   "execution_count": null,
   "metadata": {},
   "outputs": [],
   "source": [
    "# Idea : calling a bfs algorithm on every node and counting how many nodes are at distance 3 to this node\n",
    "# Not computed here since it is very long to compute.\n",
    "\n",
    "# distance = 3\n",
    "# total_number = 0\n",
    "# N = adjacency_undirected.shape[0]\n",
    "# \n",
    "# for i in range(N):\n",
    "#     total_number = total_number + len(limited_bfs(adjacency_undirected, i, distance))\n",
    "# \n",
    "# print(total_number)"
   ]
  },
  {
   "cell_type": "markdown",
   "metadata": {},
   "source": [
    "### Question 13\n",
    "\n",
    "Write a function that takes as input the adjacency matrix of your graph (or of the largest connected component of your graph) and a node and returns the clustering coefficient of that node. "
   ]
  },
  {
   "cell_type": "code",
   "execution_count": null,
   "metadata": {},
   "outputs": [],
   "source": [
    "def compute_clustering_coefficient(adjacency, node):\n",
    "    \"\"\"Compute the clustering coefficient of a node.\n",
    "    \n",
    "    Parameters\n",
    "    ----------\n",
    "    adjacency: numpy array\n",
    "        The (weighted) adjacency matrix of a graph.\n",
    "    node: int\n",
    "        The node whose clustering coefficient will be computed. A number between 0 and n_nodes-1.\n",
    "    \n",
    "    Returns\n",
    "    -------\n",
    "    float\n",
    "        The clustering coefficient of the node. A number between 0 and 1.\n",
    "    \"\"\"\n",
    "    \n",
    "    neighbour = limited_bfs(adjacency,node,1) # Compute the neighbours of node\n",
    "    k = len(neighbour)\n",
    "    if k == 0 or k == 1:\n",
    "        return 0\n",
    "    else:\n",
    "        L=0\n",
    "        for i in neighbour:\n",
    "            for j in neighbour:\n",
    "                if adjacency[i, j] > 0:  # For each connected neighbour, add its weight\n",
    "                    L += adjacency[i, j]\n",
    "        clustering_coeff = L/(k*(k-1)) # not 2L because each edge is alrealy counted two times\n",
    "    return clustering_coeff"
   ]
  },
  {
   "cell_type": "markdown",
   "metadata": {},
   "source": [
    "### Question 14\n",
    "\n",
    "What is the average clustering coefficient of your graph (or of the largest connected component of your graph if your graph is disconnected)? Use the function ``compute_clustering_coefficient`` to determine your answer."
   ]
  },
  {
   "cell_type": "code",
   "execution_count": null,
   "metadata": {},
   "outputs": [],
   "source": [
    "#Then we compute the different cluster coefficients and the average.\n",
    "C_coeffs = [compute_clustering_coefficient(biggest_cluster, i) for i in range(size_biggest)]\n",
    "C_average = sum(C_coeffs)/size_biggest"
   ]
  },
  {
   "cell_type": "code",
   "execution_count": null,
   "metadata": {
    "scrolled": true
   },
   "outputs": [],
   "source": [
    "print(round(C_average, 3))"
   ]
  },
  {
   "cell_type": "markdown",
   "metadata": {},
   "source": [
    "**The average cluster coefficient is 0,498.**"
   ]
  }
 ],
 "metadata": {
  "kernelspec": {
   "display_name": "Python 3",
   "language": "python",
   "name": "python3"
  },
  "language_info": {
   "codemirror_mode": {
    "name": "ipython",
    "version": 3
   },
   "file_extension": ".py",
   "mimetype": "text/x-python",
   "name": "python",
   "nbconvert_exporter": "python",
   "pygments_lexer": "ipython3",
   "version": "3.7.0"
  }
 },
 "nbformat": 4,
 "nbformat_minor": 2
}
