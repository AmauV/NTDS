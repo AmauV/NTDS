{
 "cells": [
  {
   "cell_type": "markdown",
   "metadata": {},
   "source": [
    "lien pas mal sur eigenmaps: https://www.youtube.com/watch?v=BgMFBqrtCwo"
   ]
  },
  {
   "cell_type": "markdown",
   "metadata": {},
   "source": [
    "**J'ai tenté plusieurs trucs. Actuellement, il faudrait en priorité faire un airport_in_bg2 pour virer plein de variables redondantes (et pas forcément 100% justes). Poursuivre l'algorithme de vérification aussi. A ce sujet, au vu de ce qu'est l'Inde, l'Atlantique et autres mini clusters je pense qu'on peut éventuellement les drop car on les récupèrera jamais en faisant du clustering. Soit on les ignore et le clustering les mettra dans un cluster européen, américain ou autre, soit on les vire mais faudrait éviter sachant qu'on a déjà viré près de 200 noeuds. J'ai aussi commenté certains blocs inutiles mais à terme on aura beaaaaaaaucoup de lignes inutiles à virer, car beaucoup de variables seront inutiles :p**\n",
    "\n",
    "**Plusieurs pistes pour le projet déjà explorées mais pas convaincantes à l'heure actuelle (entre autres à cause des trucs qui s'avèrent être faux) :**\n",
    "\n",
    "**1 - kmeans peut prendre pas mal de paramètres, dont un set de centres initiaux pour le clustering. ça fait effet pour avoir testé. Par contre, il faudrait trouver des infos qui relient à des aéroports bien choisis (genre le plus gros de chaque continent) et mettre ça en init. Plus bas il y a node_tuned, ce sont les noeuds initiaux (la plupart les gros hubs, sinon des noeuds bien choisis).**\n",
    "\n",
    "**2 - en supprimant la ligne edges.drop_duplicates() on peut modifier les poids aussi en fonction du trafic entre deux aéroports (en faisant weighted_matrix_inv[i, j] += np.exp(-dist/sigma)), ça peut rapprocher artificiellement deux aéroports ultraconnectés mais je ne sais pas si c'est ouf vu que ça devrait rapprocher des gros aéroports éloignés**\n",
    "\n",
    "**3 - Il existe un truc qui s'appelle community qui a l'air stylé par rapport au rendu de kmeans (http://cjauvin.blogspot.com/2014/03/k-means-vs-louvain.html) mais j'ai pas réussi à l'installer correctement. Ce site (https://bitbucket.org/taynaud/python-louvain/issues/23/module-has-no-attribute-best_partition) peut aider à installer en installant python-louvain a la mano mais je suis une quiche pour faire ça haha**"
   ]
  },
  {
   "cell_type": "markdown",
   "metadata": {},
   "source": [
    "# [NTDS'18] Project\n",
    "[ntds'18]: https://github.com/mdeff/ntds_2018"
   ]
  },
  {
   "cell_type": "markdown",
   "metadata": {},
   "source": [
    "## Students\n",
    "\n",
    "* Team: 3\n",
    "* Students: Baptiste Hériard-Dubreuil, Jean-Baptiste Membrado, Guilhem Noiraud, Amaury Véron\n",
    "* Dataset: Flight routes"
   ]
  },
  {
   "cell_type": "code",
   "execution_count": 1,
   "metadata": {},
   "outputs": [],
   "source": [
    "%matplotlib inline"
   ]
  },
  {
   "cell_type": "code",
   "execution_count": 2,
   "metadata": {},
   "outputs": [],
   "source": [
    "import numpy as np\n",
    "import matplotlib.pyplot as plt\n",
    "import pandas as pd\n",
    "from geopy import distance\n",
    "from scipy import sparse\n",
    "import scipy.sparse.linalg\n",
    "from pyunlocbox import functions, solvers\n",
    "import networkx as nx\n",
    "from sklearn.cluster import KMeans\n",
    "import folium"
   ]
  },
  {
   "cell_type": "markdown",
   "metadata": {},
   "source": [
    "### Add geographic coordinates to our features"
   ]
  },
  {
   "cell_type": "markdown",
   "metadata": {},
   "source": [
    "*Dataset of routes*"
   ]
  },
  {
   "cell_type": "code",
   "execution_count": 3,
   "metadata": {},
   "outputs": [
    {
     "data": {
      "text/html": [
       "<div>\n",
       "<style scoped>\n",
       "    .dataframe tbody tr th:only-of-type {\n",
       "        vertical-align: middle;\n",
       "    }\n",
       "\n",
       "    .dataframe tbody tr th {\n",
       "        vertical-align: top;\n",
       "    }\n",
       "\n",
       "    .dataframe thead th {\n",
       "        text-align: right;\n",
       "    }\n",
       "</style>\n",
       "<table border=\"1\" class=\"dataframe\">\n",
       "  <thead>\n",
       "    <tr style=\"text-align: right;\">\n",
       "      <th></th>\n",
       "      <th>airline</th>\n",
       "      <th>airline_id</th>\n",
       "      <th>source_airport</th>\n",
       "      <th>source_airport_id</th>\n",
       "      <th>destination_airport</th>\n",
       "      <th>destination_airport_id</th>\n",
       "      <th>codeshare</th>\n",
       "      <th>stops</th>\n",
       "      <th>equipment</th>\n",
       "    </tr>\n",
       "  </thead>\n",
       "  <tbody>\n",
       "    <tr>\n",
       "      <th>0</th>\n",
       "      <td>2B</td>\n",
       "      <td>410</td>\n",
       "      <td>AER</td>\n",
       "      <td>2965</td>\n",
       "      <td>KZN</td>\n",
       "      <td>2990</td>\n",
       "      <td>NaN</td>\n",
       "      <td>0</td>\n",
       "      <td>CR2</td>\n",
       "    </tr>\n",
       "    <tr>\n",
       "      <th>1</th>\n",
       "      <td>2B</td>\n",
       "      <td>410</td>\n",
       "      <td>ASF</td>\n",
       "      <td>2966</td>\n",
       "      <td>KZN</td>\n",
       "      <td>2990</td>\n",
       "      <td>NaN</td>\n",
       "      <td>0</td>\n",
       "      <td>CR2</td>\n",
       "    </tr>\n",
       "    <tr>\n",
       "      <th>2</th>\n",
       "      <td>2B</td>\n",
       "      <td>410</td>\n",
       "      <td>ASF</td>\n",
       "      <td>2966</td>\n",
       "      <td>MRV</td>\n",
       "      <td>2962</td>\n",
       "      <td>NaN</td>\n",
       "      <td>0</td>\n",
       "      <td>CR2</td>\n",
       "    </tr>\n",
       "    <tr>\n",
       "      <th>3</th>\n",
       "      <td>2B</td>\n",
       "      <td>410</td>\n",
       "      <td>CEK</td>\n",
       "      <td>2968</td>\n",
       "      <td>KZN</td>\n",
       "      <td>2990</td>\n",
       "      <td>NaN</td>\n",
       "      <td>0</td>\n",
       "      <td>CR2</td>\n",
       "    </tr>\n",
       "    <tr>\n",
       "      <th>4</th>\n",
       "      <td>2B</td>\n",
       "      <td>410</td>\n",
       "      <td>CEK</td>\n",
       "      <td>2968</td>\n",
       "      <td>OVB</td>\n",
       "      <td>4078</td>\n",
       "      <td>NaN</td>\n",
       "      <td>0</td>\n",
       "      <td>CR2</td>\n",
       "    </tr>\n",
       "  </tbody>\n",
       "</table>\n",
       "</div>"
      ],
      "text/plain": [
       "  airline airline_id source_airport source_airport_id destination_airport  \\\n",
       "0      2B        410            AER              2965                 KZN   \n",
       "1      2B        410            ASF              2966                 KZN   \n",
       "2      2B        410            ASF              2966                 MRV   \n",
       "3      2B        410            CEK              2968                 KZN   \n",
       "4      2B        410            CEK              2968                 OVB   \n",
       "\n",
       "  destination_airport_id codeshare  stops equipment  \n",
       "0                   2990       NaN      0       CR2  \n",
       "1                   2990       NaN      0       CR2  \n",
       "2                   2962       NaN      0       CR2  \n",
       "3                   2990       NaN      0       CR2  \n",
       "4                   4078       NaN      0       CR2  "
      ]
     },
     "execution_count": 3,
     "metadata": {},
     "output_type": "execute_result"
    }
   ],
   "source": [
    "features = pd.read_csv(\"routes.dat\", names = [\"airline\",\n",
    "                                              \"airline_id\",\n",
    "                                              \"source_airport\",\n",
    "                                              \"source_airport_id\",\n",
    "                                              \"destination_airport\",\n",
    "                                              \"destination_airport_id\",\n",
    "                                              \"codeshare\",\n",
    "                                              \"stops\",\n",
    "                                              \"equipment\"])\n",
    "features.head()"
   ]
  },
  {
   "cell_type": "markdown",
   "metadata": {},
   "source": [
    "*Get nodes and edges*"
   ]
  },
  {
   "cell_type": "code",
   "execution_count": 4,
   "metadata": {},
   "outputs": [
    {
     "data": {
      "text/html": [
       "<div>\n",
       "<style scoped>\n",
       "    .dataframe tbody tr th:only-of-type {\n",
       "        vertical-align: middle;\n",
       "    }\n",
       "\n",
       "    .dataframe tbody tr th {\n",
       "        vertical-align: top;\n",
       "    }\n",
       "\n",
       "    .dataframe thead th {\n",
       "        text-align: right;\n",
       "    }\n",
       "</style>\n",
       "<table border=\"1\" class=\"dataframe\">\n",
       "  <thead>\n",
       "    <tr style=\"text-align: right;\">\n",
       "      <th></th>\n",
       "      <th>airport_id</th>\n",
       "      <th>airport</th>\n",
       "    </tr>\n",
       "  </thead>\n",
       "  <tbody>\n",
       "    <tr>\n",
       "      <th>0</th>\n",
       "      <td>2965</td>\n",
       "      <td>AER</td>\n",
       "    </tr>\n",
       "    <tr>\n",
       "      <th>1</th>\n",
       "      <td>2966</td>\n",
       "      <td>ASF</td>\n",
       "    </tr>\n",
       "    <tr>\n",
       "      <th>3</th>\n",
       "      <td>2968</td>\n",
       "      <td>CEK</td>\n",
       "    </tr>\n",
       "    <tr>\n",
       "      <th>5</th>\n",
       "      <td>4029</td>\n",
       "      <td>DME</td>\n",
       "    </tr>\n",
       "    <tr>\n",
       "      <th>9</th>\n",
       "      <td>6156</td>\n",
       "      <td>EGO</td>\n",
       "    </tr>\n",
       "  </tbody>\n",
       "</table>\n",
       "</div>"
      ],
      "text/plain": [
       "   airport_id airport\n",
       "0        2965     AER\n",
       "1        2966     ASF\n",
       "3        2968     CEK\n",
       "5        4029     DME\n",
       "9        6156     EGO"
      ]
     },
     "execution_count": 4,
     "metadata": {},
     "output_type": "execute_result"
    }
   ],
   "source": [
    "source_airports = features[[\"source_airport_id\", \"source_airport\"]]\n",
    "source_airports.columns = [\"airport_id\", \"airport\"]\n",
    "\n",
    "destination_airports =  features[[\"destination_airport_id\", \"destination_airport\"]]\n",
    "destination_airports.columns = [\"airport_id\", \"airport\"]\n",
    "\n",
    "nodes = pd.concat([source_airports,destination_airports], axis = 0).drop_duplicates()\n",
    "nodes.replace(to_replace='\\\\N', value=np.NaN, inplace=True)\n",
    "nodes.dropna(axis=0, inplace=True)\n",
    "nodes[\"airport_id\"] = nodes[\"airport_id\"].apply(int)   #Convert IDs to int to allow merge\n",
    "\n",
    "edges = features[[\"source_airport_id\", \"destination_airport_id\"]]\n",
    "edges = edges.replace(to_replace='\\\\N', value=np.NaN)\n",
    "edges = edges.dropna(axis=0)\n",
    "edges[\"source_airport_id\"] = edges[\"source_airport_id\"].apply(int)   #Convert IDs to int to allow merge\n",
    "edges[\"destination_airport_id\"] = edges[\"destination_airport_id\"].apply(int)   #Convert IDs to int to allow merge\n",
    "\n",
    "nodes.head()"
   ]
  },
  {
   "cell_type": "code",
   "execution_count": 5,
   "metadata": {},
   "outputs": [
    {
     "data": {
      "text/html": [
       "<div>\n",
       "<style scoped>\n",
       "    .dataframe tbody tr th:only-of-type {\n",
       "        vertical-align: middle;\n",
       "    }\n",
       "\n",
       "    .dataframe tbody tr th {\n",
       "        vertical-align: top;\n",
       "    }\n",
       "\n",
       "    .dataframe thead th {\n",
       "        text-align: right;\n",
       "    }\n",
       "</style>\n",
       "<table border=\"1\" class=\"dataframe\">\n",
       "  <thead>\n",
       "    <tr style=\"text-align: right;\">\n",
       "      <th></th>\n",
       "      <th>source_airport_id</th>\n",
       "      <th>destination_airport_id</th>\n",
       "    </tr>\n",
       "  </thead>\n",
       "  <tbody>\n",
       "    <tr>\n",
       "      <th>0</th>\n",
       "      <td>2965</td>\n",
       "      <td>2990</td>\n",
       "    </tr>\n",
       "    <tr>\n",
       "      <th>1</th>\n",
       "      <td>2966</td>\n",
       "      <td>2990</td>\n",
       "    </tr>\n",
       "    <tr>\n",
       "      <th>2</th>\n",
       "      <td>2966</td>\n",
       "      <td>2962</td>\n",
       "    </tr>\n",
       "    <tr>\n",
       "      <th>3</th>\n",
       "      <td>2968</td>\n",
       "      <td>2990</td>\n",
       "    </tr>\n",
       "    <tr>\n",
       "      <th>4</th>\n",
       "      <td>2968</td>\n",
       "      <td>4078</td>\n",
       "    </tr>\n",
       "  </tbody>\n",
       "</table>\n",
       "</div>"
      ],
      "text/plain": [
       "   source_airport_id  destination_airport_id\n",
       "0               2965                    2990\n",
       "1               2966                    2990\n",
       "2               2966                    2962\n",
       "3               2968                    2990\n",
       "4               2968                    4078"
      ]
     },
     "execution_count": 5,
     "metadata": {},
     "output_type": "execute_result"
    }
   ],
   "source": [
    "edges.head()"
   ]
  },
  {
   "cell_type": "markdown",
   "metadata": {},
   "source": [
    "*Dataset of information about airports*"
   ]
  },
  {
   "cell_type": "code",
   "execution_count": 6,
   "metadata": {},
   "outputs": [],
   "source": [
    "airports = pd.read_csv(\"airports.dat\", names = [\"airport_id\", \"Name\", \"City\", \"Country\", \"IATA\", \"ICAO\", \"Latitude\", \"Longitude\", \"Altitude\", \"Timezone\", \"DST\", \"TzDatabase\", \"Type\", \"Source\"])"
   ]
  },
  {
   "cell_type": "code",
   "execution_count": 7,
   "metadata": {},
   "outputs": [
    {
     "data": {
      "text/html": [
       "<div>\n",
       "<style scoped>\n",
       "    .dataframe tbody tr th:only-of-type {\n",
       "        vertical-align: middle;\n",
       "    }\n",
       "\n",
       "    .dataframe tbody tr th {\n",
       "        vertical-align: top;\n",
       "    }\n",
       "\n",
       "    .dataframe thead th {\n",
       "        text-align: right;\n",
       "    }\n",
       "</style>\n",
       "<table border=\"1\" class=\"dataframe\">\n",
       "  <thead>\n",
       "    <tr style=\"text-align: right;\">\n",
       "      <th></th>\n",
       "      <th>airport_id</th>\n",
       "      <th>Name</th>\n",
       "      <th>City</th>\n",
       "      <th>Country</th>\n",
       "      <th>IATA</th>\n",
       "      <th>ICAO</th>\n",
       "      <th>Latitude</th>\n",
       "      <th>Longitude</th>\n",
       "      <th>Altitude</th>\n",
       "      <th>Timezone</th>\n",
       "      <th>DST</th>\n",
       "      <th>TzDatabase</th>\n",
       "      <th>Type</th>\n",
       "      <th>Source</th>\n",
       "    </tr>\n",
       "  </thead>\n",
       "  <tbody>\n",
       "    <tr>\n",
       "      <th>0</th>\n",
       "      <td>1</td>\n",
       "      <td>Goroka Airport</td>\n",
       "      <td>Goroka</td>\n",
       "      <td>Papua New Guinea</td>\n",
       "      <td>GKA</td>\n",
       "      <td>AYGA</td>\n",
       "      <td>-6.081690</td>\n",
       "      <td>145.391998</td>\n",
       "      <td>5282</td>\n",
       "      <td>10</td>\n",
       "      <td>U</td>\n",
       "      <td>Pacific/Port_Moresby</td>\n",
       "      <td>airport</td>\n",
       "      <td>OurAirports</td>\n",
       "    </tr>\n",
       "    <tr>\n",
       "      <th>1</th>\n",
       "      <td>2</td>\n",
       "      <td>Madang Airport</td>\n",
       "      <td>Madang</td>\n",
       "      <td>Papua New Guinea</td>\n",
       "      <td>MAG</td>\n",
       "      <td>AYMD</td>\n",
       "      <td>-5.207080</td>\n",
       "      <td>145.789001</td>\n",
       "      <td>20</td>\n",
       "      <td>10</td>\n",
       "      <td>U</td>\n",
       "      <td>Pacific/Port_Moresby</td>\n",
       "      <td>airport</td>\n",
       "      <td>OurAirports</td>\n",
       "    </tr>\n",
       "    <tr>\n",
       "      <th>2</th>\n",
       "      <td>3</td>\n",
       "      <td>Mount Hagen Kagamuga Airport</td>\n",
       "      <td>Mount Hagen</td>\n",
       "      <td>Papua New Guinea</td>\n",
       "      <td>HGU</td>\n",
       "      <td>AYMH</td>\n",
       "      <td>-5.826790</td>\n",
       "      <td>144.296005</td>\n",
       "      <td>5388</td>\n",
       "      <td>10</td>\n",
       "      <td>U</td>\n",
       "      <td>Pacific/Port_Moresby</td>\n",
       "      <td>airport</td>\n",
       "      <td>OurAirports</td>\n",
       "    </tr>\n",
       "    <tr>\n",
       "      <th>3</th>\n",
       "      <td>4</td>\n",
       "      <td>Nadzab Airport</td>\n",
       "      <td>Nadzab</td>\n",
       "      <td>Papua New Guinea</td>\n",
       "      <td>LAE</td>\n",
       "      <td>AYNZ</td>\n",
       "      <td>-6.569803</td>\n",
       "      <td>146.725977</td>\n",
       "      <td>239</td>\n",
       "      <td>10</td>\n",
       "      <td>U</td>\n",
       "      <td>Pacific/Port_Moresby</td>\n",
       "      <td>airport</td>\n",
       "      <td>OurAirports</td>\n",
       "    </tr>\n",
       "    <tr>\n",
       "      <th>4</th>\n",
       "      <td>5</td>\n",
       "      <td>Port Moresby Jacksons International Airport</td>\n",
       "      <td>Port Moresby</td>\n",
       "      <td>Papua New Guinea</td>\n",
       "      <td>POM</td>\n",
       "      <td>AYPY</td>\n",
       "      <td>-9.443380</td>\n",
       "      <td>147.220001</td>\n",
       "      <td>146</td>\n",
       "      <td>10</td>\n",
       "      <td>U</td>\n",
       "      <td>Pacific/Port_Moresby</td>\n",
       "      <td>airport</td>\n",
       "      <td>OurAirports</td>\n",
       "    </tr>\n",
       "  </tbody>\n",
       "</table>\n",
       "</div>"
      ],
      "text/plain": [
       "   airport_id                                         Name          City  \\\n",
       "0           1                               Goroka Airport        Goroka   \n",
       "1           2                               Madang Airport        Madang   \n",
       "2           3                 Mount Hagen Kagamuga Airport   Mount Hagen   \n",
       "3           4                               Nadzab Airport        Nadzab   \n",
       "4           5  Port Moresby Jacksons International Airport  Port Moresby   \n",
       "\n",
       "            Country IATA  ICAO  Latitude   Longitude  Altitude Timezone DST  \\\n",
       "0  Papua New Guinea  GKA  AYGA -6.081690  145.391998      5282       10   U   \n",
       "1  Papua New Guinea  MAG  AYMD -5.207080  145.789001        20       10   U   \n",
       "2  Papua New Guinea  HGU  AYMH -5.826790  144.296005      5388       10   U   \n",
       "3  Papua New Guinea  LAE  AYNZ -6.569803  146.725977       239       10   U   \n",
       "4  Papua New Guinea  POM  AYPY -9.443380  147.220001       146       10   U   \n",
       "\n",
       "             TzDatabase     Type       Source  \n",
       "0  Pacific/Port_Moresby  airport  OurAirports  \n",
       "1  Pacific/Port_Moresby  airport  OurAirports  \n",
       "2  Pacific/Port_Moresby  airport  OurAirports  \n",
       "3  Pacific/Port_Moresby  airport  OurAirports  \n",
       "4  Pacific/Port_Moresby  airport  OurAirports  "
      ]
     },
     "execution_count": 7,
     "metadata": {},
     "output_type": "execute_result"
    }
   ],
   "source": [
    "airports.head()"
   ]
  },
  {
   "cell_type": "markdown",
   "metadata": {},
   "source": [
    "*Add Latitudes and Longitudes to nodes DataFrame*"
   ]
  },
  {
   "cell_type": "code",
   "execution_count": 8,
   "metadata": {},
   "outputs": [],
   "source": [
    "nodes = nodes.merge(airports[[\"airport_id\", \"Latitude\", \"Longitude\", \"TzDatabase\"]], how='left', on='airport_id')\n",
    "nodes[\"TzDatabase\"] = nodes[\"TzDatabase\"].apply(lambda x: str(x).split(\"/\")[0])\n",
    "nodes.columns = [\"airport_id\", \"airport\", \"Latitude\", \"Longitude\", \"Continent\"]\n",
    "nodes.set_index(\"airport_id\", inplace=True)"
   ]
  },
  {
   "cell_type": "code",
   "execution_count": 9,
   "metadata": {},
   "outputs": [
    {
     "data": {
      "text/html": [
       "<div>\n",
       "<style scoped>\n",
       "    .dataframe tbody tr th:only-of-type {\n",
       "        vertical-align: middle;\n",
       "    }\n",
       "\n",
       "    .dataframe tbody tr th {\n",
       "        vertical-align: top;\n",
       "    }\n",
       "\n",
       "    .dataframe thead th {\n",
       "        text-align: right;\n",
       "    }\n",
       "</style>\n",
       "<table border=\"1\" class=\"dataframe\">\n",
       "  <thead>\n",
       "    <tr style=\"text-align: right;\">\n",
       "      <th></th>\n",
       "      <th>airport</th>\n",
       "      <th>Latitude</th>\n",
       "      <th>Longitude</th>\n",
       "      <th>Continent</th>\n",
       "    </tr>\n",
       "    <tr>\n",
       "      <th>airport_id</th>\n",
       "      <th></th>\n",
       "      <th></th>\n",
       "      <th></th>\n",
       "      <th></th>\n",
       "    </tr>\n",
       "  </thead>\n",
       "  <tbody>\n",
       "    <tr>\n",
       "      <th>2965</th>\n",
       "      <td>AER</td>\n",
       "      <td>43.449902</td>\n",
       "      <td>39.956600</td>\n",
       "      <td>Europe</td>\n",
       "    </tr>\n",
       "    <tr>\n",
       "      <th>2966</th>\n",
       "      <td>ASF</td>\n",
       "      <td>46.283298</td>\n",
       "      <td>48.006302</td>\n",
       "      <td>Europe</td>\n",
       "    </tr>\n",
       "    <tr>\n",
       "      <th>2968</th>\n",
       "      <td>CEK</td>\n",
       "      <td>55.305801</td>\n",
       "      <td>61.503300</td>\n",
       "      <td>Asia</td>\n",
       "    </tr>\n",
       "    <tr>\n",
       "      <th>4029</th>\n",
       "      <td>DME</td>\n",
       "      <td>55.408798</td>\n",
       "      <td>37.906300</td>\n",
       "      <td>Europe</td>\n",
       "    </tr>\n",
       "    <tr>\n",
       "      <th>6156</th>\n",
       "      <td>EGO</td>\n",
       "      <td>50.643799</td>\n",
       "      <td>36.590099</td>\n",
       "      <td>Europe</td>\n",
       "    </tr>\n",
       "  </tbody>\n",
       "</table>\n",
       "</div>"
      ],
      "text/plain": [
       "           airport   Latitude  Longitude Continent\n",
       "airport_id                                        \n",
       "2965           AER  43.449902  39.956600    Europe\n",
       "2966           ASF  46.283298  48.006302    Europe\n",
       "2968           CEK  55.305801  61.503300      Asia\n",
       "4029           DME  55.408798  37.906300    Europe\n",
       "6156           EGO  50.643799  36.590099    Europe"
      ]
     },
     "execution_count": 9,
     "metadata": {},
     "output_type": "execute_result"
    }
   ],
   "source": [
    "nodes.head()"
   ]
  },
  {
   "cell_type": "code",
   "execution_count": null,
   "metadata": {},
   "outputs": [],
   "source": []
  },
  {
   "cell_type": "code",
   "execution_count": 10,
   "metadata": {},
   "outputs": [],
   "source": [
    "#REVOIR PTETRE MIEUX\n",
    "\n",
    "nodes.dropna(inplace=True)"
   ]
  },
  {
   "cell_type": "markdown",
   "metadata": {},
   "source": [
    "*Convert airports IDs to node index*"
   ]
  },
  {
   "cell_type": "code",
   "execution_count": 11,
   "metadata": {},
   "outputs": [
    {
     "data": {
      "text/html": [
       "<div>\n",
       "<style scoped>\n",
       "    .dataframe tbody tr th:only-of-type {\n",
       "        vertical-align: middle;\n",
       "    }\n",
       "\n",
       "    .dataframe tbody tr th {\n",
       "        vertical-align: top;\n",
       "    }\n",
       "\n",
       "    .dataframe thead th {\n",
       "        text-align: right;\n",
       "    }\n",
       "</style>\n",
       "<table border=\"1\" class=\"dataframe\">\n",
       "  <thead>\n",
       "    <tr style=\"text-align: right;\">\n",
       "      <th></th>\n",
       "      <th>node_idx</th>\n",
       "    </tr>\n",
       "    <tr>\n",
       "      <th>airport_id</th>\n",
       "      <th></th>\n",
       "    </tr>\n",
       "  </thead>\n",
       "  <tbody>\n",
       "    <tr>\n",
       "      <th>2965</th>\n",
       "      <td>0</td>\n",
       "    </tr>\n",
       "    <tr>\n",
       "      <th>2966</th>\n",
       "      <td>1</td>\n",
       "    </tr>\n",
       "    <tr>\n",
       "      <th>2968</th>\n",
       "      <td>2</td>\n",
       "    </tr>\n",
       "    <tr>\n",
       "      <th>4029</th>\n",
       "      <td>3</td>\n",
       "    </tr>\n",
       "    <tr>\n",
       "      <th>6156</th>\n",
       "      <td>4</td>\n",
       "    </tr>\n",
       "  </tbody>\n",
       "</table>\n",
       "</div>"
      ],
      "text/plain": [
       "            node_idx\n",
       "airport_id          \n",
       "2965               0\n",
       "2966               1\n",
       "2968               2\n",
       "4029               3\n",
       "6156               4"
      ]
     },
     "execution_count": 11,
     "metadata": {},
     "output_type": "execute_result"
    }
   ],
   "source": [
    "# Conversion table from airport_id to node index.\n",
    "airport_id2idx = pd.DataFrame(nodes.index.unique())\n",
    "airport_id2idx.reset_index(level = 0, inplace = True)\n",
    "airport_id2idx.columns = [\"node_idx\", \"airport_id\"]\n",
    "airport_id2idx.set_index(\"airport_id\", inplace = True)\n",
    "airport_id2idx.head()"
   ]
  },
  {
   "cell_type": "code",
   "execution_count": 12,
   "metadata": {},
   "outputs": [],
   "source": [
    "edges = pd.merge(edges, airport_id2idx,\n",
    "                 left_on = \"source_airport_id\",\n",
    "                 right_index = True,\n",
    "                 sort = False)"
   ]
  },
  {
   "cell_type": "code",
   "execution_count": 13,
   "metadata": {},
   "outputs": [],
   "source": [
    "edges = pd.merge(edges, airport_id2idx,\n",
    "                 left_on = \"destination_airport_id\",\n",
    "                 right_index = True,\n",
    "                 sort = False,\n",
    "                 suffixes = (\"_source\", \"_destination\"))\n",
    "\n",
    "edges = edges.drop_duplicates()  # Avoid multilinks"
   ]
  },
  {
   "cell_type": "code",
   "execution_count": 14,
   "metadata": {},
   "outputs": [
    {
     "data": {
      "text/html": [
       "<div>\n",
       "<style scoped>\n",
       "    .dataframe tbody tr th:only-of-type {\n",
       "        vertical-align: middle;\n",
       "    }\n",
       "\n",
       "    .dataframe tbody tr th {\n",
       "        vertical-align: top;\n",
       "    }\n",
       "\n",
       "    .dataframe thead th {\n",
       "        text-align: right;\n",
       "    }\n",
       "</style>\n",
       "<table border=\"1\" class=\"dataframe\">\n",
       "  <thead>\n",
       "    <tr style=\"text-align: right;\">\n",
       "      <th></th>\n",
       "      <th>source_airport_id</th>\n",
       "      <th>destination_airport_id</th>\n",
       "      <th>node_idx_source</th>\n",
       "      <th>node_idx_destination</th>\n",
       "    </tr>\n",
       "  </thead>\n",
       "  <tbody>\n",
       "    <tr>\n",
       "      <th>0</th>\n",
       "      <td>2965</td>\n",
       "      <td>2990</td>\n",
       "      <td>0</td>\n",
       "      <td>7</td>\n",
       "    </tr>\n",
       "    <tr>\n",
       "      <th>1</th>\n",
       "      <td>2966</td>\n",
       "      <td>2990</td>\n",
       "      <td>1</td>\n",
       "      <td>7</td>\n",
       "    </tr>\n",
       "    <tr>\n",
       "      <th>3</th>\n",
       "      <td>2968</td>\n",
       "      <td>2990</td>\n",
       "      <td>2</td>\n",
       "      <td>7</td>\n",
       "    </tr>\n",
       "    <tr>\n",
       "      <th>5</th>\n",
       "      <td>4029</td>\n",
       "      <td>2990</td>\n",
       "      <td>3</td>\n",
       "      <td>7</td>\n",
       "    </tr>\n",
       "    <tr>\n",
       "      <th>10</th>\n",
       "      <td>6156</td>\n",
       "      <td>2990</td>\n",
       "      <td>4</td>\n",
       "      <td>7</td>\n",
       "    </tr>\n",
       "  </tbody>\n",
       "</table>\n",
       "</div>"
      ],
      "text/plain": [
       "    source_airport_id  destination_airport_id  node_idx_source  \\\n",
       "0                2965                    2990                0   \n",
       "1                2966                    2990                1   \n",
       "3                2968                    2990                2   \n",
       "5                4029                    2990                3   \n",
       "10               6156                    2990                4   \n",
       "\n",
       "    node_idx_destination  \n",
       "0                      7  \n",
       "1                      7  \n",
       "3                      7  \n",
       "5                      7  \n",
       "10                     7  "
      ]
     },
     "execution_count": 14,
     "metadata": {},
     "output_type": "execute_result"
    }
   ],
   "source": [
    "edges.head()"
   ]
  },
  {
   "cell_type": "markdown",
   "metadata": {},
   "source": [
    "*Create adjacency matrix*"
   ]
  },
  {
   "cell_type": "code",
   "execution_count": 15,
   "metadata": {},
   "outputs": [],
   "source": [
    "n_nodes = nodes.shape[0]"
   ]
  },
  {
   "cell_type": "markdown",
   "metadata": {},
   "source": [
    "*Create weighted matrix*"
   ]
  },
  {
   "cell_type": "code",
   "execution_count": 16,
   "metadata": {},
   "outputs": [],
   "source": [
    "#Weighted matrix with heat kernel as weights\n",
    "\n",
    "sigma = 1751 #1751 = mean distance, sigma is tunable and changes the results\n",
    "weighted_matrix_inv = np.zeros((n_nodes, n_nodes))\n",
    "\n",
    "dists = []\n",
    "\n",
    "for idx, row in edges.iterrows():\n",
    "    i, j = int(row.node_idx_source), int(row.node_idx_destination)\n",
    "    \n",
    "    if i != j:\n",
    "        source_coords = (nodes.loc[row.source_airport_id][\"Latitude\"], nodes.loc[row.source_airport_id][\"Longitude\"])    \n",
    "        dest_coords = (nodes.loc[row.destination_airport_id][\"Latitude\"], nodes.loc[row.destination_airport_id][\"Longitude\"])\n",
    "        dist = distance.geodesic(source_coords, dest_coords).km\n",
    "        dists.append(dist)\n",
    "        weighted_matrix_inv[i, j] = np.exp(-dist/sigma)\n",
    "        \n",
    "mean_dist = sum(dists)/len(dists)\n",
    "\n",
    "# Make it symmetric\n",
    "for i in range(n_nodes):\n",
    "    for j in range(n_nodes):\n",
    "        if weighted_matrix_inv[i][j] != 0:\n",
    "            weighted_matrix_inv[j][i] = weighted_matrix_inv[i][j]"
   ]
  },
  {
   "cell_type": "code",
   "execution_count": 17,
   "metadata": {},
   "outputs": [
    {
     "data": {
      "text/plain": [
       "1751.1430666840702"
      ]
     },
     "execution_count": 17,
     "metadata": {},
     "output_type": "execute_result"
    }
   ],
   "source": [
    "mean_dist"
   ]
  },
  {
   "cell_type": "markdown",
   "metadata": {},
   "source": [
    "*Create weighted matrix for heat kernel for biggest cluster*"
   ]
  },
  {
   "cell_type": "code",
   "execution_count": 18,
   "metadata": {},
   "outputs": [],
   "source": [
    "df_biggest_cluster = pd.read_csv(\"df_biggest_cluster.csv\")\n",
    "df_biggest_cluster.set_index(\"airport_id\", inplace=True)"
   ]
  },
  {
   "cell_type": "code",
   "execution_count": 19,
   "metadata": {},
   "outputs": [],
   "source": [
    "airport_in_bg = np.array(df_biggest_cluster.columns)\n",
    "\n",
    "#Check Latitude and Longitude are known. Not considered if not\n",
    "airport_in_bg = np.array([int(airport_in_bg[i]) for i in range(len(airport_in_bg)) if int(airport_in_bg[i]) in airport_id2idx.index])"
   ]
  },
  {
   "cell_type": "code",
   "execution_count": 20,
   "metadata": {},
   "outputs": [],
   "source": [
    "airport_in_bg_idx = []\n",
    "\n",
    "for airport_id in airport_in_bg:\n",
    "    airport_in_bg_idx.append(airport_id2idx.loc[airport_id][0])\n",
    "    \n",
    "airport_in_bg_idx = np.array(airport_in_bg_idx)"
   ]
  },
  {
   "cell_type": "code",
   "execution_count": 21,
   "metadata": {},
   "outputs": [],
   "source": [
    "bg_heat = weighted_matrix_inv[airport_in_bg_idx, :][:, airport_in_bg_idx]"
   ]
  },
  {
   "cell_type": "code",
   "execution_count": 22,
   "metadata": {},
   "outputs": [],
   "source": [
    "#Check the connected components of heat_bg\n",
    "nx_bg_heat=sorted(nx.connected_component_subgraphs(nx.from_numpy_matrix(bg_heat)), key = len, reverse=True)"
   ]
  },
  {
   "cell_type": "code",
   "execution_count": 23,
   "metadata": {},
   "outputs": [
    {
     "name": "stdout",
     "output_type": "stream",
     "text": [
      "(3154, 3154)\n",
      "(2, 2)\n",
      "(2, 2)\n",
      "(1, 1)\n",
      "(1, 1)\n",
      "(1, 1)\n"
     ]
    }
   ],
   "source": [
    "for i in range (len(nx_bg_heat)): #Still many clusters\n",
    "    print(nx.to_numpy_matrix(nx_bg_heat[i]).shape)"
   ]
  },
  {
   "cell_type": "code",
   "execution_count": 24,
   "metadata": {},
   "outputs": [
    {
     "data": {
      "text/plain": [
       "[493, 2231, 2232, 2246, 2368, 2369, 2496]"
      ]
     },
     "execution_count": 24,
     "metadata": {},
     "output_type": "execute_result"
    }
   ],
   "source": [
    "#find the idex of problematic small cluster nodes\n",
    "\n",
    "nodes_to_remove=[]\n",
    "for i in range(len(bg_heat)):\n",
    "    x = sum(bg_heat[i]>0)\n",
    "    if x==0: #cluster of size 1x1\n",
    "        #print(i)\n",
    "        nodes_to_remove.append(i)\n",
    "    if x==1: # possible cluster of size 2x2\n",
    "        for j in range(len(bg_heat)):\n",
    "            if (bg_heat[i][j]>0):\n",
    "                index=j\n",
    "        if(sum(bg_heat[index]>0)==1): #cluster of size 2x2\n",
    "            #print(i,index)\n",
    "            nodes_to_remove.append(i)\n",
    "nodes_to_remove"
   ]
  },
  {
   "cell_type": "code",
   "execution_count": 25,
   "metadata": {},
   "outputs": [],
   "source": [
    "#Creation of bg_heat2 by removing the problematic nodes\n",
    "\n",
    "bg_heat2=bg_heat.copy()\n",
    "corr=0\n",
    "for i in nodes_to_remove:\n",
    "    bg_heat2=np.delete(bg_heat2,i-corr,0) #remove line\n",
    "    bg_heat2=np.delete(bg_heat2.T,i-corr,0).T #remove column\n",
    "    corr+=1 #need to correct i because a line and a column are gone\n",
    "\n",
    "n_nodes2=bg_heat2.shape[0]"
   ]
  },
  {
   "cell_type": "code",
   "execution_count": 26,
   "metadata": {},
   "outputs": [
    {
     "data": {
      "text/plain": [
       "1"
      ]
     },
     "execution_count": 26,
     "metadata": {},
     "output_type": "execute_result"
    }
   ],
   "source": [
    "#Check the connected components of heat_bg2\n",
    "len(sorted(nx.connected_component_subgraphs(nx.from_numpy_matrix(bg_heat2)), key = len, reverse=True))"
   ]
  },
  {
   "cell_type": "markdown",
   "metadata": {},
   "source": [
    "*Little tests*"
   ]
  },
  {
   "cell_type": "code",
   "execution_count": 27,
   "metadata": {},
   "outputs": [],
   "source": [
    "def check_symmetric(a, tol=1e-8):\n",
    "    return np.allclose(a, a.T, atol=tol)"
   ]
  },
  {
   "cell_type": "code",
   "execution_count": 28,
   "metadata": {
    "scrolled": true
   },
   "outputs": [
    {
     "data": {
      "text/plain": [
       "True"
      ]
     },
     "execution_count": 28,
     "metadata": {},
     "output_type": "execute_result"
    }
   ],
   "source": [
    "check_symmetric(bg_heat2)"
   ]
  },
  {
   "cell_type": "code",
   "execution_count": 29,
   "metadata": {
    "scrolled": true
   },
   "outputs": [
    {
     "data": {
      "text/plain": [
       "<matplotlib.colorbar.Colorbar at 0x7f3987a278d0>"
      ]
     },
     "execution_count": 29,
     "metadata": {},
     "output_type": "execute_result"
    },
    {
     "data": {
      "image/png": "[encoded data removed]",
      "text/plain": [
       "<Figure size 432x288 with 2 Axes>"
      ]
     },
     "metadata": {},
     "output_type": "display_data"
    }
   ],
   "source": [
    "#Plot of the distances\n",
    "plt.imshow(np.log(bg_heat2 + 1),cmap = 'Greys')\n",
    "plt.colorbar()"
   ]
  },
  {
   "cell_type": "code",
   "execution_count": 30,
   "metadata": {},
   "outputs": [
    {
     "data": {
      "image/png": "[encoded data removed]",
      "text/plain": [
       "<Figure size 432x288 with 1 Axes>"
      ]
     },
     "metadata": {},
     "output_type": "display_data"
    }
   ],
   "source": [
    "# Plot distribution of inverse distances\n",
    "values = []\n",
    "\n",
    "for i in range(n_nodes2):\n",
    "    for j in range(n_nodes2):\n",
    "        if bg_heat2[i][j] != 0:\n",
    "            values.append(bg_heat2[i][j])\n",
    "            \n",
    "plt.hist(values, bins = int(np.sqrt(n_nodes2)));"
   ]
  },
  {
   "cell_type": "code",
   "execution_count": 31,
   "metadata": {},
   "outputs": [],
   "source": [
    "#ground truth\n",
    "dic = {\"America\":1, \"Asia\":2,\"Europe\":3,\"Africa\":4,\"Pacific\":5,\"Australia\":6,\"Atlantic\":7,\"Indian\":8,\"Arctic\":9,\"\\\\N\":10,np.nan:10}\n",
    "\n",
    "labels = nodes.Continent\n",
    "labels = np.array(labels.replace(dic).tolist())"
   ]
  },
  {
   "cell_type": "code",
   "execution_count": 32,
   "metadata": {},
   "outputs": [],
   "source": [
    "#https://sashat.me/2017/01/11/list-of-20-simple-distinct-colors/\n",
    "dic_color = {0: '#e6194b',\n",
    "             1: '#3cb44b',\n",
    "             2: '#ffe119',\n",
    "             3: '#4363d8',\n",
    "             4: '#f58231',\n",
    "             5: '#911eb4',\n",
    "             6: '#46f0f0',\n",
    "             7: '#f032e6',\n",
    "             8: '#bcf60c',\n",
    "             9: '#fabebe',\n",
    "             10: '#008080',\n",
    "             11: '#e6beff',\n",
    "             12: '#9a6324',\n",
    "             13: '#000000',\n",
    "             14: '#800000',\n",
    "             15: '#aaffc3',\n",
    "             16: '#808000',\n",
    "             17: '#ffd8b1',\n",
    "             18: '#000075',\n",
    "             19: '#808080'\n",
    "}"
   ]
  },
  {
   "cell_type": "code",
   "execution_count": 33,
   "metadata": {},
   "outputs": [],
   "source": [
    "#labels for bg_heat2, c'est faux comme méthode faudrait faire un airport_in_bg2_idx\n",
    "#avec ça il y a environ 20 neuds mal faits\n",
    "\n",
    "labels2=[]\n",
    "for i in airport_in_bg_idx.tolist():\n",
    "    if i not in nodes_to_remove:\n",
    "        labels2.append(labels[i])\n",
    "        \n",
    "ground_truth = [dic_color[labels[airport_in_bg_idx.tolist()[i]]] for i in range(len(airport_in_bg_idx.tolist()))]"
   ]
  },
  {
   "cell_type": "code",
   "execution_count": 34,
   "metadata": {},
   "outputs": [],
   "source": [
    "#nan are changed to the color of the nearest neighbour\n",
    "\n",
    "gt_without_nan = ground_truth.copy()\n",
    "for i in range(len(ground_truth)):\n",
    "    if gt_without_nan[i] == '#008080': #nan color\n",
    "        weight = 0\n",
    "        index_min = 0\n",
    "        for j in range(len(ground_truth)-1):\n",
    "            if (gt_without_nan[j]!='#008080') and bg_heat[i][j]>weight:\n",
    "                weight = bg_heat[i][j]\n",
    "                index_min = j\n",
    "        gt_without_nan[i] = gt_without_nan[index_min]"
   ]
  },
  {
   "cell_type": "code",
   "execution_count": 35,
   "metadata": {},
   "outputs": [
    {
     "name": "stdout",
     "output_type": "stream",
     "text": [
      "[(1, 1225), (2, 769), (3, 561), (4, 258), (5, 175), (6, 112), (7, 32), (8, 29), (9, 1), (10, 24)]\n"
     ]
    }
   ],
   "source": [
    "print([(i, labels.tolist().count(i)) for i in set(labels)]) #label repartition for weighted_matrix_inv"
   ]
  },
  {
   "cell_type": "code",
   "execution_count": 36,
   "metadata": {},
   "outputs": [
    {
     "name": "stdout",
     "output_type": "stream",
     "text": [
      "[(1, 1211), (2, 765), (3, 561), (4, 254), (5, 165), (6, 112), (7, 32), (8, 29), (9, 1), (10, 24)]\n"
     ]
    }
   ],
   "source": [
    "print([(i, labels2.count(i)) for i in set(labels2)]) #label repartition for bg_heat2"
   ]
  },
  {
   "cell_type": "markdown",
   "metadata": {},
   "source": [
    "### Laplacian eigenmaps tests"
   ]
  },
  {
   "cell_type": "code",
   "execution_count": 37,
   "metadata": {},
   "outputs": [],
   "source": [
    "# #Test with \"eigenvectors\" L*u = lambda*D*u\n",
    "\n",
    "# laplacian_norm, D = sparse.csgraph.laplacian(weighted_matrix_inv, normed=True, return_diag=True)\n",
    "# D = np.diag(D)\n",
    "\n",
    "# computation_norm =  scipy.linalg.eigh(laplacian_norm)  #Compute orthonormale basis\n",
    "# eigenvectors_norm = computation_norm[1]\n",
    "# eigenvalues_norm =  computation_norm[0]\n",
    "\n",
    "# #Sort to have ordered eigenvalues\n",
    "# idx_norm = eigenvalues_norm.argsort()  \n",
    "# eigenvalues_norm = np.round_(np.real(eigenvalues_norm[idx_norm]), 13)\n",
    "# eigenvectors_norm = np.real(eigenvectors_norm[:,idx_norm])\n",
    "\n",
    "# eigenvectors_u = np.linalg.inv(D)@eigenvectors_norm\n",
    "# eigenvalues_u = eigenvalues_norm"
   ]
  },
  {
   "cell_type": "code",
   "execution_count": 38,
   "metadata": {},
   "outputs": [],
   "source": [
    "#Test with \"eigenvectors\" L*u = lambda*D*u\n",
    "#Laplacian norm for bg_heat\n",
    "\n",
    "laplacian_norm_bg, D = sparse.csgraph.laplacian(bg_heat, normed=True, return_diag=True)\n",
    "D = np.diag(D)\n",
    "\n",
    "computation_norm_bg =  scipy.linalg.eigh(laplacian_norm_bg)  #Compute orthonormale basis\n",
    "eigenvectors_norm_bg = computation_norm_bg[1]\n",
    "eigenvalues_norm_bg =  computation_norm_bg[0]\n",
    "\n",
    "#Sort to have ordered eigenvalues\n",
    "idx_norm_bg = eigenvalues_norm_bg.argsort()  \n",
    "eigenvalues_norm_bg = np.round_(np.real(eigenvalues_norm_bg[idx_norm_bg]), 13)\n",
    "eigenvectors_norm_bg = np.real(eigenvectors_norm_bg[:,idx_norm_bg])\n",
    "\n",
    "eigenvectors_u_bg = np.linalg.inv(D)@eigenvectors_norm_bg\n",
    "eigenvalues_u_bg = eigenvalues_norm_bg"
   ]
  },
  {
   "cell_type": "code",
   "execution_count": 39,
   "metadata": {},
   "outputs": [],
   "source": [
    "#Test with \"eigenvectors\" L*u = lambda*D*u\n",
    "#Laplacian norm for bg_heat2\n",
    "\n",
    "laplacian_norm_bg2, D2 = sparse.csgraph.laplacian(bg_heat2, normed=True, return_diag=True)\n",
    "D2 = np.diag(D2)\n",
    "\n",
    "computation_norm_bg2 =  scipy.linalg.eigh(laplacian_norm_bg2)  #Compute orthonormale basis\n",
    "eigenvectors_norm_bg2 = computation_norm_bg2[1]\n",
    "eigenvalues_norm_bg2 =  computation_norm_bg2[0]\n",
    "\n",
    "#Sort to have ordered eigenvalues\n",
    "idx_norm_bg2 = eigenvalues_norm_bg2.argsort()  \n",
    "eigenvalues_norm_bg2 = np.round_(np.real(eigenvalues_norm_bg2[idx_norm_bg2]), 13)\n",
    "eigenvectors_norm_bg2 = np.real(eigenvectors_norm_bg2[:,idx_norm_bg2])\n",
    "\n",
    "eigenvectors_u_bg2 = np.linalg.inv(D2)@eigenvectors_norm_bg2\n",
    "eigenvalues_u_bg2 = eigenvalues_norm_bg2"
   ]
  },
  {
   "cell_type": "code",
   "execution_count": 40,
   "metadata": {},
   "outputs": [],
   "source": [
    "#eigenvalues_u_bg2.tolist()"
   ]
  },
  {
   "cell_type": "code",
   "execution_count": 41,
   "metadata": {},
   "outputs": [],
   "source": [
    "#Find the max degree node of each label\n",
    "\n",
    "max_degree = np.zeros(10, dtype = int)\n",
    "node_rank = np.zeros(10, dtype = int)\n",
    "\n",
    "for i in range(len(labels2)):\n",
    "    degree = sum(bg_heat2[i]>0)\n",
    "    if degree > max_degree[labels2[i]-1]:\n",
    "        max_degree[labels2[i]-1] = degree\n",
    "        node_rank[labels2[i]-1] = i"
   ]
  },
  {
   "cell_type": "code",
   "execution_count": 42,
   "metadata": {},
   "outputs": [
    {
     "data": {
      "text/plain": [
       "array([ 186,  291,  211,  216, 1152,  296,   54, 1476, 1991,  244])"
      ]
     },
     "execution_count": 42,
     "metadata": {},
     "output_type": "execute_result"
    }
   ],
   "source": [
    "node_rank"
   ]
  },
  {
   "cell_type": "code",
   "execution_count": 43,
   "metadata": {},
   "outputs": [],
   "source": [
    "Y = eigenvectors_u_bg2[:, 1:3] #Could be more than 2 eigenvectors"
   ]
  },
  {
   "cell_type": "code",
   "execution_count": 44,
   "metadata": {},
   "outputs": [],
   "source": [
    "#\"America\":1, \"Asia\":2,\"Europe\":3,\"Africa\":4,\"Pacific\":5,\"Australia\":6,\"Atlantic\":7,\"Indian\":8,\"Arctic\":9,\"nan\":10\n",
    "\n",
    "node_tuned = node_rank.copy()\n",
    "\n",
    "#node_tuned[1] = 1061\n",
    "#node_tuned[3] = 225\n",
    "#node_tuned[4] = 1859\n",
    "node_tuned[5] = 2299 #validé\n",
    "node_tuned[6] = 2292 #validé\n",
    "#node_tuned[7] = 2494"
   ]
  },
  {
   "cell_type": "code",
   "execution_count": 45,
   "metadata": {},
   "outputs": [],
   "source": [
    "Y_init = np.array([Y[node_tuned[i]].tolist() for i in range(8)])"
   ]
  },
  {
   "cell_type": "code",
   "execution_count": 46,
   "metadata": {},
   "outputs": [
    {
     "name": "stderr",
     "output_type": "stream",
     "text": [
      "/home/baptiste/miniconda3/envs/ntds_2018/lib/python3.6/site-packages/sklearn/cluster/k_means_.py:968: RuntimeWarning: Explicit initial center position passed: performing only one init in k-means instead of n_init=10\n",
      "  return_n_iter=True)\n"
     ]
    },
    {
     "data": {
      "text/plain": [
       "KMeans(algorithm='auto', copy_x=True,\n",
       "    init=array([[-0.0096 ,  0.00078],\n",
       "       [ 0.00688,  0.00046],\n",
       "       [ 0.00333, -0.00361],\n",
       "       [ 0.00338, -0.00365],\n",
       "       [-0.00668,  0.00462],\n",
       "       [ 0.00669,  0.00032],\n",
       "       [ 0.00292, -0.00355],\n",
       "       [ 0.00481, -0.00309]]),\n",
       "    max_iter=300, n_clusters=8, n_init=10, n_jobs=None,\n",
       "    precompute_distances='auto', random_state=None, tol=0.0001, verbose=0)"
      ]
     },
     "execution_count": 46,
     "metadata": {},
     "output_type": "execute_result"
    }
   ],
   "source": [
    "#Clustering\n",
    "#Il est possible de donner les centres initiaux des clusters, ça ne marche pas top actuellement car\n",
    "#labels2 est faux, pas sûr que ça marche bien pour autant par la suite.\n",
    "kmeans = KMeans(n_clusters=8, init=Y_init) \n",
    "kmeans.fit(Y)"
   ]
  },
  {
   "cell_type": "code",
   "execution_count": 47,
   "metadata": {},
   "outputs": [],
   "source": [
    "lab = kmeans.labels_"
   ]
  },
  {
   "cell_type": "code",
   "execution_count": 48,
   "metadata": {},
   "outputs": [],
   "source": [
    "lab_color = [dic_color[lab[i]] for i in range(len(lab))]"
   ]
  },
  {
   "cell_type": "code",
   "execution_count": 49,
   "metadata": {},
   "outputs": [],
   "source": [
    "#label to plot one point on the map\n",
    "\n",
    "lab_empty = np.zeros(len(labels2))\n",
    "lab_empty[225] = 1 #number of the node you want to see\n",
    "lab_test = [dic_color[lab_empty[i]] for i in range(len(lab_empty))]"
   ]
  },
  {
   "cell_type": "code",
   "execution_count": 50,
   "metadata": {},
   "outputs": [
    {
     "data": {
      "image/png": "[encoded data removed]",
      "text/plain": [
       "<Figure size 1080x720 with 1 Axes>"
      ]
     },
     "metadata": {},
     "output_type": "display_data"
    }
   ],
   "source": [
    "#Plot on the first two eigenvectors\n",
    "plt.figure(figsize=(15,10))\n",
    "plt.scatter(Y[:,0],Y[:,1], s=10, c=lab_color, cmap='rainbow')  \n",
    "plt.show()"
   ]
  },
  {
   "cell_type": "code",
   "execution_count": 51,
   "metadata": {
    "scrolled": true
   },
   "outputs": [],
   "source": [
    "nodes_bg = nodes.loc[airport_in_bg]   #get nodes in biggest_cluster"
   ]
  },
  {
   "cell_type": "code",
   "execution_count": 52,
   "metadata": {},
   "outputs": [],
   "source": [
    "#Creation of the map (called mapit). You can visualize it by opening the file on Internet\n",
    "mapit = folium.Map(tiles=\"Mapbox Bright\")\n",
    "j = 0\n",
    "corr = 0\n",
    "\n",
    "\n",
    "\n",
    "#C'est faux comme code pour ploter bg_heat2, faudrait refaire nodes_bg en un nouveau nodes_bg2 qui va bien\n",
    "#plot nodes\n",
    "for i in nodes_bg.iterrows():\n",
    "    coord = [i[1].Latitude, i[1].Longitude]\n",
    "    if j not in nodes_to_remove:\n",
    "        folium.CircleMarker( location=coord, radius=1, color=lab_color[j-corr], fill=True).add_to( mapit )\n",
    "    else:\n",
    "        corr += 1\n",
    "#     folium.CircleMarker( location=coord, radius=1, color=ground_truth[j], fill=True).add_to( mapit )\n",
    "    j += 1\n",
    "\n",
    "# #plot edges. Comment t go faster\n",
    "# coords = np.zeros((max(nodes.index)+1,2))\n",
    "# for i in nodes.iterrows():\n",
    "#     coords[i[0]] = (i[1].Latitude, i[1].Longitude)\n",
    "\n",
    "# #plot edges \n",
    "# for i in edges.iloc[:].iterrows():\n",
    "#     my_edge = [coords[i[1].source_airport_id], coords[i[1].destination_airport_id]]\n",
    "#     folium.vector_layers.PolyLine(my_edge, color=\"black\", weight=0.5, opacity=0.5).add_to( mapit )              "
   ]
  },
  {
   "cell_type": "code",
   "execution_count": 53,
   "metadata": {},
   "outputs": [],
   "source": [
    "mapit.save('mapit.html')"
   ]
  },
  {
   "cell_type": "markdown",
   "metadata": {},
   "source": [
    "### Computing the error between ground truth and our prediction"
   ]
  },
  {
   "cell_type": "markdown",
   "metadata": {},
   "source": [
    "The idea is to compute the percentage of good predictions we can get from our model compared to the ground truth labels i.e how many airports are correclty labelled in percentage.\n",
    "Correctly labelled means that the cluster in which the airport is attributed is the true continent label of the airport."
   ]
  },
  {
   "cell_type": "markdown",
   "metadata": {},
   "source": [
    "The problem is that K-Means produce several clusters randomly : if we compute 10 clusters, we cannot easily associate each one to a continent to compare.\n",
    "For example : if a cluster is formed on the basis of Europe and Africa, what continent should it be associated to ?\n",
    "\n",
    "One possible idea is to choose keys of the continents that will represent their clusters. We can say that if we take Paris as the key to Europe, we compare the cluster in which Paris is, and the continent Europe. This method is not flawless, but can serve as a way to begin the experiments on finding a good loss function for our optimization. The aim is to automatize this process which is time-consuming and imprecise."
   ]
  },
  {
   "cell_type": "markdown",
   "metadata": {},
   "source": [
    "The continent labels we have are : \n",
    "\"America\":1, \"Asia\":2,\"Europe\":3,\"Africa\":4,\"Pacific\":5,\"Australia\":6,\"Atlantic\":7,\"Indian\":8,\"Arctic\":9,\"\\\\N\":10"
   ]
  },
  {
   "cell_type": "markdown",
   "metadata": {},
   "source": [
    "Keys for the continents :\n",
    "\n",
    "America = Minneapolis\n",
    "\n",
    "Asia = Seoul\n",
    "\n",
    "Europe = Geneva (très bizarre, ça ne marche ni pour Toulouse, ni pour Paris :()\n",
    "\n",
    "Africa = Cape Town\n",
    "\n",
    "Pacific = Papeete\n",
    "\n",
    "Australia = Brisbane\n",
    "\n",
    "Atlantic = Ponta Delgada\n",
    "\n",
    "Indian = Mumbai\n",
    "\n",
    "Arctic = Svalbard (the only one in Arctic)\n",
    "\n",
    "\\N = Agartha TMTC\n"
   ]
  },
  {
   "cell_type": "code",
   "execution_count": 54,
   "metadata": {},
   "outputs": [],
   "source": [
    "# Finding the keys for the continents\n",
    "\n",
    "key_city = [\"Minneapolis\", \"Seoul\", \"Geneva\", \"Cape Town\", \"Papeete\", \"Sydney\", \"Ponta Delgada\", \"Mumbai\", \"Svalbard\"]\n",
    "name_continent = [\"America\", \"Asia\", \"Europe\", \"Africa\", \"Pacific\", \"Australia\", \"Atlantic\", \"Indian\", \"Arctic\"]\n",
    "n_continent = len(key_city)\n",
    "key_index = np.zeros(n_continent)\n",
    "\n",
    "# Let us find the keys of the index cities\n",
    "\n",
    "for i in range(len(airports.City)):\n",
    "    for continent in range(n_continent):\n",
    "        if (airports.City[i] == key_city[continent]):\n",
    "            key_index[continent] = i"
   ]
  },
  {
   "cell_type": "code",
   "execution_count": 55,
   "metadata": {},
   "outputs": [
    {
     "data": {
      "text/plain": [
       "3638.0        America/Chicago\n",
       "3705.0             Asia/Seoul\n",
       "1621.0           Europe/Paris\n",
       "780.0     Africa/Johannesburg\n",
       "3833.0         Pacific/Tahiti\n",
       "3155.0       Australia/Sydney\n",
       "1590.0        Atlantic/Azores\n",
       "2837.0          Asia/Calcutta\n",
       "649.0     Arctic/Longyearbyen\n",
       "Name: TzDatabase, dtype: object"
      ]
     },
     "execution_count": 55,
     "metadata": {},
     "output_type": "execute_result"
    }
   ],
   "source": [
    "airports.TzDatabase[key_index]"
   ]
  },
  {
   "cell_type": "code",
   "execution_count": 56,
   "metadata": {},
   "outputs": [
    {
     "data": {
      "text/plain": [
       "array([3638., 3705., 1621.,  780., 3833., 3155., 1590., 2837.,  649.])"
      ]
     },
     "execution_count": 56,
     "metadata": {},
     "output_type": "execute_result"
    }
   ],
   "source": [
    "key_index"
   ]
  },
  {
   "cell_type": "code",
   "execution_count": 57,
   "metadata": {},
   "outputs": [],
   "source": [
    "latitude_R = airports.Latitude[key_index]\n",
    "longitude_R = airports.Longitude[key_index]\n",
    "\n",
    "# Finding the corresponding indexes in the new eigenmaps\n",
    "\n",
    "indexes2 = np.arange(0,len(bg_heat))\n",
    "corr=0\n",
    "for i in nodes_to_remove:\n",
    "    indexes2=np.delete(indexes2,i-corr,0)\n",
    "    corr+=1\n",
    "\n",
    "new_index = np.empty(n_continent)\n",
    "\n",
    "for i in range(n_nodes2):\n",
    "    for c, key_idx in enumerate(key_index):\n",
    "        if ((round(nodes.Latitude.values[airport_in_bg_idx[indexes2[i]]],2) == round(latitude_R[key_idx], 2)) and (round(nodes.Longitude.values[airport_in_bg_idx[indexes2[i]]],2) == round(longitude_R[key_idx], 2))):\n",
    "            new_index[c] = i\n",
    "            \n",
    "new_index = new_index.astype(int)"
   ]
  },
  {
   "cell_type": "code",
   "execution_count": 58,
   "metadata": {},
   "outputs": [
    {
     "data": {
      "text/plain": [
       "array([3, 3, 2, ..., 2, 1, 1])"
      ]
     },
     "execution_count": 58,
     "metadata": {},
     "output_type": "execute_result"
    }
   ],
   "source": [
    "# Ne marche pas encore bien\n",
    "labels"
   ]
  },
  {
   "cell_type": "code",
   "execution_count": 59,
   "metadata": {},
   "outputs": [],
   "source": [
    "labels = lab[new_index]\n",
    "# We can now compare the airports in the cluster associated with the true labels\n",
    "\n",
    "# Percentage of the European airports that are well recognized :\n",
    "total_airports = np.zeros(n_continent)\n",
    "score_airports = np.zeros(n_continent)\n",
    "\n",
    "for i in range(len(indexes2)):\n",
    "    for continent, continent_idx in enumerate(new_index):\n",
    "        if(nodes.Continent.values[airport_in_bg_idx[indexes2[i]]] == name_continent[continent]):\n",
    "            total_airports[continent]+=1\n",
    "            if(lab[i] == labels[continent]):\n",
    "                score_airports[continent]+=1"
   ]
  },
  {
   "cell_type": "code",
   "execution_count": 60,
   "metadata": {},
   "outputs": [],
   "source": [
    "Arctic = [i for i in range(n_nodes2) if(nodes.Continent.values[i] == \"Arctic\")]"
   ]
  },
  {
   "cell_type": "code",
   "execution_count": 61,
   "metadata": {},
   "outputs": [
    {
     "name": "stdout",
     "output_type": "stream",
     "text": [
      "Score for  America  :  98.0\n",
      "Score for  Asia  :  57.99999999999999\n",
      "Score for  Europe  :  96.0\n",
      "Score for  Africa  :  56.99999999999999\n",
      "Score for  Pacific  :  18.0\n",
      "Score for  Australia  :  99.0\n",
      "Score for  Atlantic  :  53.0\n",
      "Score for  Indian  :  21.0\n",
      "Score for  Arctic  :  100.0\n"
     ]
    }
   ],
   "source": [
    "#Percentage of correct guesses :\n",
    "(score_airports/total_airports)*100\n",
    "final_score = np.zeros(n_continent)\n",
    "\n",
    "for i in range(n_continent):\n",
    "    final_score[i] = round(score_airports[i]/total_airports[i], 2)*100\n",
    "    print(\"Score for \", name_continent[i], \" : \",final_score[i])"
   ]
  },
  {
   "cell_type": "code",
   "execution_count": 62,
   "metadata": {},
   "outputs": [
    {
     "data": {
      "image/png": "[encoded data removed]",
      "text/plain": [
       "<Figure size 432x288 with 1 Axes>"
      ]
     },
     "metadata": {},
     "output_type": "display_data"
    }
   ],
   "source": [
    "plt.bar(name_continent, final_score, width = 0.5);"
   ]
  },
  {
   "cell_type": "markdown",
   "metadata": {},
   "source": [
    "### Plot graph with networkx"
   ]
  },
  {
   "cell_type": "code",
   "execution_count": 63,
   "metadata": {
    "scrolled": false
   },
   "outputs": [
    {
     "name": "stderr",
     "output_type": "stream",
     "text": [
      "/home/baptiste/miniconda3/envs/ntds_2018/lib/python3.6/site-packages/networkx/drawing/nx_pylab.py:611: MatplotlibDeprecationWarning: isinstance(..., numbers.Number)\n",
      "  if cb.is_numlike(alpha):\n"
     ]
    },
    {
     "data": {
      "image/png": "[encoded data removed]",
      "text/plain": [
       "<Figure size 720x504 with 1 Axes>"
      ]
     },
     "metadata": {},
     "output_type": "display_data"
    }
   ],
   "source": [
    "graph = nx.from_numpy_matrix(bg_heat2)\n",
    "coords = nx.spring_layout(graph)\n",
    "\n",
    "plt.figure(figsize=(10,7))\n",
    "nc = nx.draw_networkx_nodes(graph, coords, node_size=20, cmap=plt.cm.jet)\n",
    "nx.draw_networkx_edges(graph, coords, alpha=0.3)\n",
    "plt.title(\"Labelled airports\");"
   ]
  },
  {
   "cell_type": "code",
   "execution_count": null,
   "metadata": {},
   "outputs": [],
   "source": []
  },
  {
   "cell_type": "code",
   "execution_count": null,
   "metadata": {},
   "outputs": [],
   "source": []
  }
 ],
 "metadata": {
  "kernelspec": {
   "display_name": "Python 3",
   "language": "python",
   "name": "python3"
  },
  "language_info": {
   "codemirror_mode": {
    "name": "ipython",
    "version": 3
   },
   "file_extension": ".py",
   "mimetype": "text/x-python",
   "name": "python",
   "nbconvert_exporter": "python",
   "pygments_lexer": "ipython3",
   "version": "3.6.6"
  }
 },
 "nbformat": 4,
 "nbformat_minor": 2
}
