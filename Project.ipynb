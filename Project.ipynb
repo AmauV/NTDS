{
 "cells": [
  {
   "cell_type": "markdown",
   "metadata": {},
   "source": [
    "lien pas mal sur eigenmaps: https://www.youtube.com/watch?v=BgMFBqrtCwo"
   ]
  },
  {
   "cell_type": "markdown",
   "metadata": {},
   "source": [
    "# [NTDS'18] Project\n",
    "[ntds'18]: https://github.com/mdeff/ntds_2018\n",
    "\n",
    "[Rodrigo Pena](https://people.epfl.ch/254838), [EPFL LTS2](http://lts2.epfl.ch)"
   ]
  },
  {
   "cell_type": "markdown",
   "metadata": {},
   "source": [
    "## Students\n",
    "\n",
    "* Team: 3\n",
    "* Students: Baptiste Hériard-Dubreuil, Jean-Baptiste Membrado, Guilhem Noiraud, Amaury Véron\n",
    "* Dataset: Flight routes"
   ]
  },
  {
   "cell_type": "code",
   "execution_count": 1,
   "metadata": {},
   "outputs": [],
   "source": [
    "%matplotlib inline"
   ]
  },
  {
   "cell_type": "code",
   "execution_count": 2,
   "metadata": {},
   "outputs": [],
   "source": [
    "import numpy as np\n",
    "import matplotlib.pyplot as plt\n",
    "import pandas as pd\n",
    "from geopy import distance\n",
    "from scipy import sparse\n",
    "import scipy.sparse.linalg\n",
    "from pyunlocbox import functions, solvers\n",
    "import networkx as nx\n",
    "from sklearn.cluster import KMeans\n",
    "import folium"
   ]
  },
  {
   "cell_type": "markdown",
   "metadata": {},
   "source": [
    "### Add geographic coordinates to our features"
   ]
  },
  {
   "cell_type": "markdown",
   "metadata": {},
   "source": [
    "*Dataset of routes*"
   ]
  },
  {
   "cell_type": "code",
   "execution_count": 3,
   "metadata": {},
   "outputs": [
    {
     "data": {
      "text/html": [
       "<div>\n",
       "<style scoped>\n",
       "    .dataframe tbody tr th:only-of-type {\n",
       "        vertical-align: middle;\n",
       "    }\n",
       "\n",
       "    .dataframe tbody tr th {\n",
       "        vertical-align: top;\n",
       "    }\n",
       "\n",
       "    .dataframe thead th {\n",
       "        text-align: right;\n",
       "    }\n",
       "</style>\n",
       "<table border=\"1\" class=\"dataframe\">\n",
       "  <thead>\n",
       "    <tr style=\"text-align: right;\">\n",
       "      <th></th>\n",
       "      <th>airline</th>\n",
       "      <th>airline_id</th>\n",
       "      <th>source_airport</th>\n",
       "      <th>source_airport_id</th>\n",
       "      <th>destination_airport</th>\n",
       "      <th>destination_airport_id</th>\n",
       "      <th>codeshare</th>\n",
       "      <th>stops</th>\n",
       "      <th>equipment</th>\n",
       "    </tr>\n",
       "  </thead>\n",
       "  <tbody>\n",
       "    <tr>\n",
       "      <th>0</th>\n",
       "      <td>2B</td>\n",
       "      <td>410</td>\n",
       "      <td>AER</td>\n",
       "      <td>2965</td>\n",
       "      <td>KZN</td>\n",
       "      <td>2990</td>\n",
       "      <td>NaN</td>\n",
       "      <td>0</td>\n",
       "      <td>CR2</td>\n",
       "    </tr>\n",
       "    <tr>\n",
       "      <th>1</th>\n",
       "      <td>2B</td>\n",
       "      <td>410</td>\n",
       "      <td>ASF</td>\n",
       "      <td>2966</td>\n",
       "      <td>KZN</td>\n",
       "      <td>2990</td>\n",
       "      <td>NaN</td>\n",
       "      <td>0</td>\n",
       "      <td>CR2</td>\n",
       "    </tr>\n",
       "    <tr>\n",
       "      <th>2</th>\n",
       "      <td>2B</td>\n",
       "      <td>410</td>\n",
       "      <td>ASF</td>\n",
       "      <td>2966</td>\n",
       "      <td>MRV</td>\n",
       "      <td>2962</td>\n",
       "      <td>NaN</td>\n",
       "      <td>0</td>\n",
       "      <td>CR2</td>\n",
       "    </tr>\n",
       "    <tr>\n",
       "      <th>3</th>\n",
       "      <td>2B</td>\n",
       "      <td>410</td>\n",
       "      <td>CEK</td>\n",
       "      <td>2968</td>\n",
       "      <td>KZN</td>\n",
       "      <td>2990</td>\n",
       "      <td>NaN</td>\n",
       "      <td>0</td>\n",
       "      <td>CR2</td>\n",
       "    </tr>\n",
       "    <tr>\n",
       "      <th>4</th>\n",
       "      <td>2B</td>\n",
       "      <td>410</td>\n",
       "      <td>CEK</td>\n",
       "      <td>2968</td>\n",
       "      <td>OVB</td>\n",
       "      <td>4078</td>\n",
       "      <td>NaN</td>\n",
       "      <td>0</td>\n",
       "      <td>CR2</td>\n",
       "    </tr>\n",
       "  </tbody>\n",
       "</table>\n",
       "</div>"
      ],
      "text/plain": [
       "  airline airline_id source_airport source_airport_id destination_airport  \\\n",
       "0      2B        410            AER              2965                 KZN   \n",
       "1      2B        410            ASF              2966                 KZN   \n",
       "2      2B        410            ASF              2966                 MRV   \n",
       "3      2B        410            CEK              2968                 KZN   \n",
       "4      2B        410            CEK              2968                 OVB   \n",
       "\n",
       "  destination_airport_id codeshare  stops equipment  \n",
       "0                   2990       NaN      0       CR2  \n",
       "1                   2990       NaN      0       CR2  \n",
       "2                   2962       NaN      0       CR2  \n",
       "3                   2990       NaN      0       CR2  \n",
       "4                   4078       NaN      0       CR2  "
      ]
     },
     "execution_count": 3,
     "metadata": {},
     "output_type": "execute_result"
    }
   ],
   "source": [
    "features = pd.read_csv(\"routes.dat\", names = [\"airline\",\n",
    "                                              \"airline_id\",\n",
    "                                              \"source_airport\",\n",
    "                                              \"source_airport_id\",\n",
    "                                              \"destination_airport\",\n",
    "                                              \"destination_airport_id\",\n",
    "                                              \"codeshare\",\n",
    "                                              \"stops\",\n",
    "                                              \"equipment\"])\n",
    "features.head()"
   ]
  },
  {
   "cell_type": "markdown",
   "metadata": {},
   "source": [
    "*Get nodes and edges*"
   ]
  },
  {
   "cell_type": "code",
   "execution_count": 4,
   "metadata": {},
   "outputs": [
    {
     "data": {
      "text/html": [
       "<div>\n",
       "<style scoped>\n",
       "    .dataframe tbody tr th:only-of-type {\n",
       "        vertical-align: middle;\n",
       "    }\n",
       "\n",
       "    .dataframe tbody tr th {\n",
       "        vertical-align: top;\n",
       "    }\n",
       "\n",
       "    .dataframe thead th {\n",
       "        text-align: right;\n",
       "    }\n",
       "</style>\n",
       "<table border=\"1\" class=\"dataframe\">\n",
       "  <thead>\n",
       "    <tr style=\"text-align: right;\">\n",
       "      <th></th>\n",
       "      <th>airport_id</th>\n",
       "      <th>airport</th>\n",
       "    </tr>\n",
       "  </thead>\n",
       "  <tbody>\n",
       "    <tr>\n",
       "      <th>0</th>\n",
       "      <td>2965</td>\n",
       "      <td>AER</td>\n",
       "    </tr>\n",
       "    <tr>\n",
       "      <th>1</th>\n",
       "      <td>2966</td>\n",
       "      <td>ASF</td>\n",
       "    </tr>\n",
       "    <tr>\n",
       "      <th>3</th>\n",
       "      <td>2968</td>\n",
       "      <td>CEK</td>\n",
       "    </tr>\n",
       "    <tr>\n",
       "      <th>5</th>\n",
       "      <td>4029</td>\n",
       "      <td>DME</td>\n",
       "    </tr>\n",
       "    <tr>\n",
       "      <th>9</th>\n",
       "      <td>6156</td>\n",
       "      <td>EGO</td>\n",
       "    </tr>\n",
       "  </tbody>\n",
       "</table>\n",
       "</div>"
      ],
      "text/plain": [
       "   airport_id airport\n",
       "0        2965     AER\n",
       "1        2966     ASF\n",
       "3        2968     CEK\n",
       "5        4029     DME\n",
       "9        6156     EGO"
      ]
     },
     "execution_count": 4,
     "metadata": {},
     "output_type": "execute_result"
    }
   ],
   "source": [
    "source_airports = features[[\"source_airport_id\", \"source_airport\"]]\n",
    "source_airports.columns = [\"airport_id\", \"airport\"]\n",
    "\n",
    "destination_airports =  features[[\"destination_airport_id\", \"destination_airport\"]]\n",
    "destination_airports.columns = [\"airport_id\", \"airport\"]\n",
    "\n",
    "nodes = pd.concat([source_airports,destination_airports], axis = 0).drop_duplicates()\n",
    "nodes.replace(to_replace='\\\\N', value=np.NaN, inplace=True)\n",
    "nodes.dropna(axis=0, inplace=True)\n",
    "nodes[\"airport_id\"] = nodes[\"airport_id\"].apply(int)   #Convert IDs to int to allow merge\n",
    "\n",
    "edges = features[[\"source_airport_id\", \"destination_airport_id\"]]\n",
    "edges = edges.replace(to_replace='\\\\N', value=np.NaN)\n",
    "edges = edges.dropna(axis=0)\n",
    "edges[\"source_airport_id\"] = edges[\"source_airport_id\"].apply(int)   #Convert IDs to int to allow merge\n",
    "edges[\"destination_airport_id\"] = edges[\"destination_airport_id\"].apply(int)   #Convert IDs to int to allow merge\n",
    "\n",
    "nodes.head()"
   ]
  },
  {
   "cell_type": "code",
   "execution_count": 5,
   "metadata": {},
   "outputs": [
    {
     "data": {
      "text/html": [
       "<div>\n",
       "<style scoped>\n",
       "    .dataframe tbody tr th:only-of-type {\n",
       "        vertical-align: middle;\n",
       "    }\n",
       "\n",
       "    .dataframe tbody tr th {\n",
       "        vertical-align: top;\n",
       "    }\n",
       "\n",
       "    .dataframe thead th {\n",
       "        text-align: right;\n",
       "    }\n",
       "</style>\n",
       "<table border=\"1\" class=\"dataframe\">\n",
       "  <thead>\n",
       "    <tr style=\"text-align: right;\">\n",
       "      <th></th>\n",
       "      <th>source_airport_id</th>\n",
       "      <th>destination_airport_id</th>\n",
       "    </tr>\n",
       "  </thead>\n",
       "  <tbody>\n",
       "    <tr>\n",
       "      <th>0</th>\n",
       "      <td>2965</td>\n",
       "      <td>2990</td>\n",
       "    </tr>\n",
       "    <tr>\n",
       "      <th>1</th>\n",
       "      <td>2966</td>\n",
       "      <td>2990</td>\n",
       "    </tr>\n",
       "    <tr>\n",
       "      <th>2</th>\n",
       "      <td>2966</td>\n",
       "      <td>2962</td>\n",
       "    </tr>\n",
       "    <tr>\n",
       "      <th>3</th>\n",
       "      <td>2968</td>\n",
       "      <td>2990</td>\n",
       "    </tr>\n",
       "    <tr>\n",
       "      <th>4</th>\n",
       "      <td>2968</td>\n",
       "      <td>4078</td>\n",
       "    </tr>\n",
       "  </tbody>\n",
       "</table>\n",
       "</div>"
      ],
      "text/plain": [
       "   source_airport_id  destination_airport_id\n",
       "0               2965                    2990\n",
       "1               2966                    2990\n",
       "2               2966                    2962\n",
       "3               2968                    2990\n",
       "4               2968                    4078"
      ]
     },
     "execution_count": 5,
     "metadata": {},
     "output_type": "execute_result"
    }
   ],
   "source": [
    "edges.head()"
   ]
  },
  {
   "cell_type": "markdown",
   "metadata": {},
   "source": [
    "*Dataset of information about airports*"
   ]
  },
  {
   "cell_type": "code",
   "execution_count": 6,
   "metadata": {},
   "outputs": [],
   "source": [
    "airports = pd.read_csv(\"airports.dat\", names = [\"airport_id\", \"Name\", \"City\", \"Country\", \"IATA\", \"ICAO\", \"Latitude\", \"Longitude\", \"Altitude\", \"Timezone\", \"DST\", \"TzDatabase\", \"Type\", \"Source\"])"
   ]
  },
  {
   "cell_type": "code",
   "execution_count": 7,
   "metadata": {},
   "outputs": [
    {
     "data": {
      "text/html": [
       "<div>\n",
       "<style scoped>\n",
       "    .dataframe tbody tr th:only-of-type {\n",
       "        vertical-align: middle;\n",
       "    }\n",
       "\n",
       "    .dataframe tbody tr th {\n",
       "        vertical-align: top;\n",
       "    }\n",
       "\n",
       "    .dataframe thead th {\n",
       "        text-align: right;\n",
       "    }\n",
       "</style>\n",
       "<table border=\"1\" class=\"dataframe\">\n",
       "  <thead>\n",
       "    <tr style=\"text-align: right;\">\n",
       "      <th></th>\n",
       "      <th>airport_id</th>\n",
       "      <th>Name</th>\n",
       "      <th>City</th>\n",
       "      <th>Country</th>\n",
       "      <th>IATA</th>\n",
       "      <th>ICAO</th>\n",
       "      <th>Latitude</th>\n",
       "      <th>Longitude</th>\n",
       "      <th>Altitude</th>\n",
       "      <th>Timezone</th>\n",
       "      <th>DST</th>\n",
       "      <th>TzDatabase</th>\n",
       "      <th>Type</th>\n",
       "      <th>Source</th>\n",
       "    </tr>\n",
       "  </thead>\n",
       "  <tbody>\n",
       "    <tr>\n",
       "      <th>0</th>\n",
       "      <td>1</td>\n",
       "      <td>Goroka Airport</td>\n",
       "      <td>Goroka</td>\n",
       "      <td>Papua New Guinea</td>\n",
       "      <td>GKA</td>\n",
       "      <td>AYGA</td>\n",
       "      <td>-6.081690</td>\n",
       "      <td>145.391998</td>\n",
       "      <td>5282</td>\n",
       "      <td>10</td>\n",
       "      <td>U</td>\n",
       "      <td>Pacific/Port_Moresby</td>\n",
       "      <td>airport</td>\n",
       "      <td>OurAirports</td>\n",
       "    </tr>\n",
       "    <tr>\n",
       "      <th>1</th>\n",
       "      <td>2</td>\n",
       "      <td>Madang Airport</td>\n",
       "      <td>Madang</td>\n",
       "      <td>Papua New Guinea</td>\n",
       "      <td>MAG</td>\n",
       "      <td>AYMD</td>\n",
       "      <td>-5.207080</td>\n",
       "      <td>145.789001</td>\n",
       "      <td>20</td>\n",
       "      <td>10</td>\n",
       "      <td>U</td>\n",
       "      <td>Pacific/Port_Moresby</td>\n",
       "      <td>airport</td>\n",
       "      <td>OurAirports</td>\n",
       "    </tr>\n",
       "    <tr>\n",
       "      <th>2</th>\n",
       "      <td>3</td>\n",
       "      <td>Mount Hagen Kagamuga Airport</td>\n",
       "      <td>Mount Hagen</td>\n",
       "      <td>Papua New Guinea</td>\n",
       "      <td>HGU</td>\n",
       "      <td>AYMH</td>\n",
       "      <td>-5.826790</td>\n",
       "      <td>144.296005</td>\n",
       "      <td>5388</td>\n",
       "      <td>10</td>\n",
       "      <td>U</td>\n",
       "      <td>Pacific/Port_Moresby</td>\n",
       "      <td>airport</td>\n",
       "      <td>OurAirports</td>\n",
       "    </tr>\n",
       "    <tr>\n",
       "      <th>3</th>\n",
       "      <td>4</td>\n",
       "      <td>Nadzab Airport</td>\n",
       "      <td>Nadzab</td>\n",
       "      <td>Papua New Guinea</td>\n",
       "      <td>LAE</td>\n",
       "      <td>AYNZ</td>\n",
       "      <td>-6.569803</td>\n",
       "      <td>146.725977</td>\n",
       "      <td>239</td>\n",
       "      <td>10</td>\n",
       "      <td>U</td>\n",
       "      <td>Pacific/Port_Moresby</td>\n",
       "      <td>airport</td>\n",
       "      <td>OurAirports</td>\n",
       "    </tr>\n",
       "    <tr>\n",
       "      <th>4</th>\n",
       "      <td>5</td>\n",
       "      <td>Port Moresby Jacksons International Airport</td>\n",
       "      <td>Port Moresby</td>\n",
       "      <td>Papua New Guinea</td>\n",
       "      <td>POM</td>\n",
       "      <td>AYPY</td>\n",
       "      <td>-9.443380</td>\n",
       "      <td>147.220001</td>\n",
       "      <td>146</td>\n",
       "      <td>10</td>\n",
       "      <td>U</td>\n",
       "      <td>Pacific/Port_Moresby</td>\n",
       "      <td>airport</td>\n",
       "      <td>OurAirports</td>\n",
       "    </tr>\n",
       "  </tbody>\n",
       "</table>\n",
       "</div>"
      ],
      "text/plain": [
       "   airport_id                                         Name          City  \\\n",
       "0           1                               Goroka Airport        Goroka   \n",
       "1           2                               Madang Airport        Madang   \n",
       "2           3                 Mount Hagen Kagamuga Airport   Mount Hagen   \n",
       "3           4                               Nadzab Airport        Nadzab   \n",
       "4           5  Port Moresby Jacksons International Airport  Port Moresby   \n",
       "\n",
       "            Country IATA  ICAO  Latitude   Longitude  Altitude Timezone DST  \\\n",
       "0  Papua New Guinea  GKA  AYGA -6.081690  145.391998      5282       10   U   \n",
       "1  Papua New Guinea  MAG  AYMD -5.207080  145.789001        20       10   U   \n",
       "2  Papua New Guinea  HGU  AYMH -5.826790  144.296005      5388       10   U   \n",
       "3  Papua New Guinea  LAE  AYNZ -6.569803  146.725977       239       10   U   \n",
       "4  Papua New Guinea  POM  AYPY -9.443380  147.220001       146       10   U   \n",
       "\n",
       "             TzDatabase     Type       Source  \n",
       "0  Pacific/Port_Moresby  airport  OurAirports  \n",
       "1  Pacific/Port_Moresby  airport  OurAirports  \n",
       "2  Pacific/Port_Moresby  airport  OurAirports  \n",
       "3  Pacific/Port_Moresby  airport  OurAirports  \n",
       "4  Pacific/Port_Moresby  airport  OurAirports  "
      ]
     },
     "execution_count": 7,
     "metadata": {},
     "output_type": "execute_result"
    }
   ],
   "source": [
    "airports.head()"
   ]
  },
  {
   "cell_type": "code",
   "execution_count": 8,
   "metadata": {},
   "outputs": [],
   "source": [
    "tous_les_Rome = []\n",
    "\n",
    "for i in range(len(airports.City)):\n",
    "    if (airports.City[i] == \"Roma\"):\n",
    "        tous_les_Rome.append(i)\n"
   ]
  },
  {
   "cell_type": "code",
   "execution_count": 9,
   "metadata": {},
   "outputs": [
    {
     "data": {
      "text/plain": [
       "[4928]"
      ]
     },
     "execution_count": 9,
     "metadata": {},
     "output_type": "execute_result"
    }
   ],
   "source": [
    "tous_les_Rome"
   ]
  },
  {
   "cell_type": "markdown",
   "metadata": {},
   "source": [
    "*Add Latitudes and Longitudes to nodes DataFrame*"
   ]
  },
  {
   "cell_type": "code",
   "execution_count": 10,
   "metadata": {},
   "outputs": [],
   "source": [
    "nodes = nodes.merge(airports[[\"airport_id\", \"Latitude\", \"Longitude\", \"TzDatabase\"]], how='left', on='airport_id')\n",
    "nodes[\"TzDatabase\"] = nodes[\"TzDatabase\"].apply(lambda x: str(x).split(\"/\")[0])\n",
    "nodes.columns = [\"airport_id\", \"airport\", \"Latitude\", \"Longitude\", \"Continent\"]\n",
    "nodes.set_index(\"airport_id\", inplace=True)"
   ]
  },
  {
   "cell_type": "code",
   "execution_count": 11,
   "metadata": {},
   "outputs": [
    {
     "data": {
      "text/html": [
       "<div>\n",
       "<style scoped>\n",
       "    .dataframe tbody tr th:only-of-type {\n",
       "        vertical-align: middle;\n",
       "    }\n",
       "\n",
       "    .dataframe tbody tr th {\n",
       "        vertical-align: top;\n",
       "    }\n",
       "\n",
       "    .dataframe thead th {\n",
       "        text-align: right;\n",
       "    }\n",
       "</style>\n",
       "<table border=\"1\" class=\"dataframe\">\n",
       "  <thead>\n",
       "    <tr style=\"text-align: right;\">\n",
       "      <th></th>\n",
       "      <th>airport</th>\n",
       "      <th>Latitude</th>\n",
       "      <th>Longitude</th>\n",
       "      <th>Continent</th>\n",
       "    </tr>\n",
       "    <tr>\n",
       "      <th>airport_id</th>\n",
       "      <th></th>\n",
       "      <th></th>\n",
       "      <th></th>\n",
       "      <th></th>\n",
       "    </tr>\n",
       "  </thead>\n",
       "  <tbody>\n",
       "    <tr>\n",
       "      <th>2965</th>\n",
       "      <td>AER</td>\n",
       "      <td>43.449902</td>\n",
       "      <td>39.956600</td>\n",
       "      <td>Europe</td>\n",
       "    </tr>\n",
       "    <tr>\n",
       "      <th>2966</th>\n",
       "      <td>ASF</td>\n",
       "      <td>46.283298</td>\n",
       "      <td>48.006302</td>\n",
       "      <td>Europe</td>\n",
       "    </tr>\n",
       "    <tr>\n",
       "      <th>2968</th>\n",
       "      <td>CEK</td>\n",
       "      <td>55.305801</td>\n",
       "      <td>61.503300</td>\n",
       "      <td>Asia</td>\n",
       "    </tr>\n",
       "    <tr>\n",
       "      <th>4029</th>\n",
       "      <td>DME</td>\n",
       "      <td>55.408798</td>\n",
       "      <td>37.906300</td>\n",
       "      <td>Europe</td>\n",
       "    </tr>\n",
       "    <tr>\n",
       "      <th>6156</th>\n",
       "      <td>EGO</td>\n",
       "      <td>50.643799</td>\n",
       "      <td>36.590099</td>\n",
       "      <td>Europe</td>\n",
       "    </tr>\n",
       "  </tbody>\n",
       "</table>\n",
       "</div>"
      ],
      "text/plain": [
       "           airport   Latitude  Longitude Continent\n",
       "airport_id                                        \n",
       "2965           AER  43.449902  39.956600    Europe\n",
       "2966           ASF  46.283298  48.006302    Europe\n",
       "2968           CEK  55.305801  61.503300      Asia\n",
       "4029           DME  55.408798  37.906300    Europe\n",
       "6156           EGO  50.643799  36.590099    Europe"
      ]
     },
     "execution_count": 11,
     "metadata": {},
     "output_type": "execute_result"
    }
   ],
   "source": [
    "nodes.head()"
   ]
  },
  {
   "cell_type": "code",
   "execution_count": 12,
   "metadata": {},
   "outputs": [],
   "source": [
    "#REVOIR PTETRE MIEUX\n",
    "\n",
    "nodes.dropna(inplace=True)"
   ]
  },
  {
   "cell_type": "markdown",
   "metadata": {},
   "source": [
    "*Convert airports IDs to node index*"
   ]
  },
  {
   "cell_type": "code",
   "execution_count": 13,
   "metadata": {},
   "outputs": [
    {
     "data": {
      "text/html": [
       "<div>\n",
       "<style scoped>\n",
       "    .dataframe tbody tr th:only-of-type {\n",
       "        vertical-align: middle;\n",
       "    }\n",
       "\n",
       "    .dataframe tbody tr th {\n",
       "        vertical-align: top;\n",
       "    }\n",
       "\n",
       "    .dataframe thead th {\n",
       "        text-align: right;\n",
       "    }\n",
       "</style>\n",
       "<table border=\"1\" class=\"dataframe\">\n",
       "  <thead>\n",
       "    <tr style=\"text-align: right;\">\n",
       "      <th></th>\n",
       "      <th>node_idx</th>\n",
       "    </tr>\n",
       "    <tr>\n",
       "      <th>airport_id</th>\n",
       "      <th></th>\n",
       "    </tr>\n",
       "  </thead>\n",
       "  <tbody>\n",
       "    <tr>\n",
       "      <th>2965</th>\n",
       "      <td>0</td>\n",
       "    </tr>\n",
       "    <tr>\n",
       "      <th>2966</th>\n",
       "      <td>1</td>\n",
       "    </tr>\n",
       "    <tr>\n",
       "      <th>2968</th>\n",
       "      <td>2</td>\n",
       "    </tr>\n",
       "    <tr>\n",
       "      <th>4029</th>\n",
       "      <td>3</td>\n",
       "    </tr>\n",
       "    <tr>\n",
       "      <th>6156</th>\n",
       "      <td>4</td>\n",
       "    </tr>\n",
       "  </tbody>\n",
       "</table>\n",
       "</div>"
      ],
      "text/plain": [
       "            node_idx\n",
       "airport_id          \n",
       "2965               0\n",
       "2966               1\n",
       "2968               2\n",
       "4029               3\n",
       "6156               4"
      ]
     },
     "execution_count": 13,
     "metadata": {},
     "output_type": "execute_result"
    }
   ],
   "source": [
    "# Conversion table from airport_id to node index.\n",
    "airport_id2idx = pd.DataFrame(nodes.index.unique())\n",
    "airport_id2idx.reset_index(level = 0, inplace = True)\n",
    "airport_id2idx.columns = [\"node_idx\", \"airport_id\"]\n",
    "airport_id2idx.set_index(\"airport_id\", inplace = True)\n",
    "airport_id2idx.head()"
   ]
  },
  {
   "cell_type": "code",
   "execution_count": 14,
   "metadata": {},
   "outputs": [],
   "source": [
    "edges = pd.merge(edges, airport_id2idx,\n",
    "                 left_on = \"source_airport_id\",\n",
    "                 right_index = True,\n",
    "                 sort = False)"
   ]
  },
  {
   "cell_type": "code",
   "execution_count": 15,
   "metadata": {},
   "outputs": [],
   "source": [
    "edges = pd.merge(edges, airport_id2idx,\n",
    "                 left_on = \"destination_airport_id\",\n",
    "                 right_index = True,\n",
    "                 sort = False,\n",
    "                 suffixes = (\"_source\", \"_destination\"))\n",
    "\n",
    "edges = edges.drop_duplicates()  # Avoid multilinks"
   ]
  },
  {
   "cell_type": "code",
   "execution_count": 16,
   "metadata": {},
   "outputs": [
    {
     "data": {
      "text/html": [
       "<div>\n",
       "<style scoped>\n",
       "    .dataframe tbody tr th:only-of-type {\n",
       "        vertical-align: middle;\n",
       "    }\n",
       "\n",
       "    .dataframe tbody tr th {\n",
       "        vertical-align: top;\n",
       "    }\n",
       "\n",
       "    .dataframe thead th {\n",
       "        text-align: right;\n",
       "    }\n",
       "</style>\n",
       "<table border=\"1\" class=\"dataframe\">\n",
       "  <thead>\n",
       "    <tr style=\"text-align: right;\">\n",
       "      <th></th>\n",
       "      <th>source_airport_id</th>\n",
       "      <th>destination_airport_id</th>\n",
       "      <th>node_idx_source</th>\n",
       "      <th>node_idx_destination</th>\n",
       "    </tr>\n",
       "  </thead>\n",
       "  <tbody>\n",
       "    <tr>\n",
       "      <th>0</th>\n",
       "      <td>2965</td>\n",
       "      <td>2990</td>\n",
       "      <td>0</td>\n",
       "      <td>7</td>\n",
       "    </tr>\n",
       "    <tr>\n",
       "      <th>1</th>\n",
       "      <td>2966</td>\n",
       "      <td>2990</td>\n",
       "      <td>1</td>\n",
       "      <td>7</td>\n",
       "    </tr>\n",
       "    <tr>\n",
       "      <th>3</th>\n",
       "      <td>2968</td>\n",
       "      <td>2990</td>\n",
       "      <td>2</td>\n",
       "      <td>7</td>\n",
       "    </tr>\n",
       "    <tr>\n",
       "      <th>5</th>\n",
       "      <td>4029</td>\n",
       "      <td>2990</td>\n",
       "      <td>3</td>\n",
       "      <td>7</td>\n",
       "    </tr>\n",
       "    <tr>\n",
       "      <th>10</th>\n",
       "      <td>6156</td>\n",
       "      <td>2990</td>\n",
       "      <td>4</td>\n",
       "      <td>7</td>\n",
       "    </tr>\n",
       "  </tbody>\n",
       "</table>\n",
       "</div>"
      ],
      "text/plain": [
       "    source_airport_id  destination_airport_id  node_idx_source  \\\n",
       "0                2965                    2990                0   \n",
       "1                2966                    2990                1   \n",
       "3                2968                    2990                2   \n",
       "5                4029                    2990                3   \n",
       "10               6156                    2990                4   \n",
       "\n",
       "    node_idx_destination  \n",
       "0                      7  \n",
       "1                      7  \n",
       "3                      7  \n",
       "5                      7  \n",
       "10                     7  "
      ]
     },
     "execution_count": 16,
     "metadata": {},
     "output_type": "execute_result"
    }
   ],
   "source": [
    "edges.head()"
   ]
  },
  {
   "cell_type": "markdown",
   "metadata": {},
   "source": [
    "*Create adjacency matrix*"
   ]
  },
  {
   "cell_type": "code",
   "execution_count": 17,
   "metadata": {},
   "outputs": [],
   "source": [
    "n_nodes = nodes.shape[0]"
   ]
  },
  {
   "cell_type": "markdown",
   "metadata": {},
   "source": [
    "*Create weighted matrix*"
   ]
  },
  {
   "cell_type": "code",
   "execution_count": 18,
   "metadata": {},
   "outputs": [],
   "source": [
    "weighted_matrix = np.zeros((n_nodes, n_nodes), dtype = int)\n",
    "\n",
    "for idx, row in edges.iterrows():\n",
    "    i, j = int(row.node_idx_source), int(row.node_idx_destination)\n",
    "    \n",
    "    #Compute distances\n",
    "    source_coords = (nodes.loc[row.source_airport_id][\"Latitude\"], nodes.loc[row.source_airport_id][\"Longitude\"])    \n",
    "    dest_coords = (nodes.loc[row.destination_airport_id][\"Latitude\"], nodes.loc[row.destination_airport_id][\"Longitude\"])\n",
    "    \n",
    "    weighted_matrix[i, j] = distance.geodesic(source_coords, dest_coords).km\n",
    "    \n",
    "# Make it symmetric\n",
    "for i in range(n_nodes):\n",
    "    for j in range(n_nodes):\n",
    "        if weighted_matrix[i][j] != 0:\n",
    "            weighted_matrix[j][i] = weighted_matrix[i][j]"
   ]
  },
  {
   "cell_type": "code",
   "execution_count": 19,
   "metadata": {},
   "outputs": [
    {
     "data": {
      "text/plain": [
       "1758.4818972926514"
      ]
     },
     "execution_count": 19,
     "metadata": {},
     "output_type": "execute_result"
    }
   ],
   "source": [
    "#Compute mean distance between airports\n",
    "val = []\n",
    "\n",
    "for i in range(n_nodes):\n",
    "    for j in range(n_nodes):\n",
    "        if weighted_matrix[i][j] != 0:\n",
    "            val.append(weighted_matrix[i][j])\n",
    "sum(val)/len(val)"
   ]
  },
  {
   "cell_type": "code",
   "execution_count": 20,
   "metadata": {},
   "outputs": [],
   "source": [
    "#Weihted_matrix with heat kernel as weights, that is more useful\n",
    "\n",
    "sigma = 1758 #1758 = mean distance, sigma is tunable and changes the results\n",
    "weighted_matrix_inv = np.zeros((n_nodes, n_nodes))\n",
    "\n",
    "for idx, row in edges.iterrows():\n",
    "    i, j = int(row.node_idx_source), int(row.node_idx_destination)\n",
    "    \n",
    "    if i != j:\n",
    "        source_coords = (nodes.loc[row.source_airport_id][\"Latitude\"], nodes.loc[row.source_airport_id][\"Longitude\"])    \n",
    "        dest_coords = (nodes.loc[row.destination_airport_id][\"Latitude\"], nodes.loc[row.destination_airport_id][\"Longitude\"])\n",
    "\n",
    "        weighted_matrix_inv[i, j] = np.exp(-distance.geodesic(source_coords, dest_coords).km/sigma)\n",
    "        \n",
    "\n",
    "# Make it symmetric\n",
    "for i in range(n_nodes):\n",
    "    for j in range(n_nodes):\n",
    "        if weighted_matrix_inv[i][j] != 0:\n",
    "            weighted_matrix_inv[j][i] = weighted_matrix_inv[i][j]"
   ]
  },
  {
   "cell_type": "code",
   "execution_count": 21,
   "metadata": {},
   "outputs": [],
   "source": [
    "def check_symmetric(a, tol=1e-8):\n",
    "    return np.allclose(a, a.T, atol=tol)"
   ]
  },
  {
   "cell_type": "code",
   "execution_count": 22,
   "metadata": {
    "scrolled": true
   },
   "outputs": [
    {
     "data": {
      "text/plain": [
       "True"
      ]
     },
     "execution_count": 22,
     "metadata": {},
     "output_type": "execute_result"
    }
   ],
   "source": [
    "check_symmetric(weighted_matrix_inv)"
   ]
  },
  {
   "cell_type": "code",
   "execution_count": 23,
   "metadata": {},
   "outputs": [
    {
     "data": {
      "text/plain": [
       "<matplotlib.colorbar.Colorbar at 0x11f055278>"
      ]
     },
     "execution_count": 23,
     "metadata": {},
     "output_type": "execute_result"
    },
    {
     "data": {
      "image/png": "[encoded data removed]",
      "text/plain": [
       "<Figure size 432x288 with 2 Axes>"
      ]
     },
     "metadata": {},
     "output_type": "display_data"
    }
   ],
   "source": [
    "plt.imshow(np.log(weighted_matrix + 1),cmap = 'Greys')\n",
    "plt.colorbar()"
   ]
  },
  {
   "cell_type": "code",
   "execution_count": 24,
   "metadata": {},
   "outputs": [],
   "source": [
    "# Plot distribution of inverse distances\n",
    "values = []\n",
    "\n",
    "for i in range(n_nodes):\n",
    "    for j in range(n_nodes):\n",
    "        if weighted_matrix_inv[i][j] != 0:\n",
    "            values.append(weighted_matrix_inv[i][j])"
   ]
  },
  {
   "cell_type": "code",
   "execution_count": 25,
   "metadata": {},
   "outputs": [
    {
     "data": {
      "image/png": "[encoded data removed]",
      "text/plain": [
       "<Figure size 432x288 with 1 Axes>"
      ]
     },
     "metadata": {},
     "output_type": "display_data"
    }
   ],
   "source": [
    "plt.hist(values, bins = int(np.sqrt(n_nodes)));"
   ]
  },
  {
   "cell_type": "code",
   "execution_count": 26,
   "metadata": {},
   "outputs": [],
   "source": [
    "#ground truth\n",
    "dic = {\"America\":1, \"Asia\":2,\"Europe\":3,\"Africa\":4,\"Pacific\":5,\"Australia\":6,\"Atlantic\":7,\"Indian\":8,\"Arctic\":9,\"\\\\N\":10,np.nan:10}\n",
    "\n",
    "labels = nodes.Continent\n",
    "labels = np.array(labels.replace(dic).tolist())"
   ]
  },
  {
   "cell_type": "code",
   "execution_count": 27,
   "metadata": {},
   "outputs": [
    {
     "name": "stdout",
     "output_type": "stream",
     "text": [
      "[(1, 1225), (2, 769), (3, 561), (4, 258), (5, 175), (6, 112), (7, 32), (8, 29), (9, 1), (10, 24)]\n"
     ]
    }
   ],
   "source": [
    "print([(i, labels.tolist().count(i)) for i in set(labels)])"
   ]
  },
  {
   "cell_type": "markdown",
   "metadata": {},
   "source": [
    "### Laplacian eigenmaps tests"
   ]
  },
  {
   "cell_type": "code",
   "execution_count": 28,
   "metadata": {},
   "outputs": [],
   "source": [
    "#Useless so far for the code\n",
    "\n",
    "sparse_weighted_matrix = sparse.csr_matrix(weighted_matrix)\n",
    "laplacian = sparse.csgraph.laplacian(weighted_matrix)\n",
    "\n",
    "computation =  scipy.linalg.eigh(laplacian)  #Compute orthonormale basis\n",
    "eigenvectors = computation[1]\n",
    "eigenvalues =  computation[0]\n",
    "\n",
    "#Sort to have ordered eigenvalues\n",
    "idx = eigenvalues.argsort()  \n",
    "eigenvalues = np.real(eigenvalues[idx])\n",
    "eigenvectors = np.real(eigenvectors[:,idx])"
   ]
  },
  {
   "cell_type": "code",
   "execution_count": 29,
   "metadata": {},
   "outputs": [],
   "source": [
    "#inv weighted matrix, Useless so far for the code\n",
    "\n",
    "laplacian_inv = sparse.csgraph.laplacian(weighted_matrix_inv)\n",
    "\n",
    "computation_inv =  scipy.linalg.eigh(laplacian_inv)  #Compute orthonormale basis\n",
    "eigenvectors_inv = computation_inv[1]\n",
    "eigenvalues_inv =  computation_inv[0]\n",
    "\n",
    "#Sort to have ordered eigenvalues\n",
    "idx_inv = eigenvalues_inv.argsort()  \n",
    "eigenvalues_inv = np.round_(np.real(eigenvalues_inv[idx_inv]), 13)\n",
    "eigenvectors_inv = np.real(eigenvectors_inv[:,idx_inv])"
   ]
  },
  {
   "cell_type": "code",
   "execution_count": null,
   "metadata": {},
   "outputs": [],
   "source": [
    "#Test with \"eigenvectors\" L*u = lambda*D*u\n",
    "\n",
    "laplacian_norm, D = sparse.csgraph.laplacian(weighted_matrix_inv, normed=True, return_diag=True)\n",
    "D = np.diag(D)\n",
    "\n",
    "computation_norm =  scipy.linalg.eigh(laplacian_norm)  #Compute orthonormale basis\n",
    "eigenvectors_norm = computation_norm[1]\n",
    "eigenvalues_norm =  computation_norm[0]\n",
    "\n",
    "#Sort to have ordered eigenvalues\n",
    "idx_norm = eigenvalues_norm.argsort()  \n",
    "eigenvalues_norm = np.round_(np.real(eigenvalues_norm[idx_norm]), 13)\n",
    "eigenvectors_norm = np.real(eigenvectors_norm[:,idx_norm])\n",
    "\n",
    "eigenvectors_u = np.linalg.inv(D)@eigenvectors_norm\n",
    "eigenvalues_u = eigenvalues_norm"
   ]
  },
  {
   "cell_type": "code",
   "execution_count": null,
   "metadata": {},
   "outputs": [],
   "source": [
    "Y = eigenvectors_u[:, 14:16] #Could be more than 2 eigenvectors"
   ]
  },
  {
   "cell_type": "code",
   "execution_count": null,
   "metadata": {},
   "outputs": [],
   "source": [
    "#Clustering\n",
    "kmeans = KMeans(n_clusters=20)\n",
    "kmeans.fit(Y)"
   ]
  },
  {
   "cell_type": "code",
   "execution_count": null,
   "metadata": {},
   "outputs": [],
   "source": [
    "lab = kmeans.labels_"
   ]
  },
  {
   "cell_type": "code",
   "execution_count": null,
   "metadata": {},
   "outputs": [],
   "source": [
    "# dic_color = {0: \"BLUE\",\n",
    "#              1: \"TEAL\",\n",
    "#              2: \"GREEN\",\n",
    "#              3: \"YELLOW\",\n",
    "#              4: \"RED\",\n",
    "#              5: \"FUCHSIA\",\n",
    "#              6: \"BLACK\",\n",
    "#              7: \"SILVER\",\n",
    "#              8: \"OLIVE\",\n",
    "#              9: \"ORANGE\"\n",
    "# }"
   ]
  },
  {
   "cell_type": "code",
   "execution_count": null,
   "metadata": {},
   "outputs": [],
   "source": [
    "dic_color = {0: '#e6194b',\n",
    "             1: '#3cb44b',\n",
    "             2: '#ffe119',\n",
    "             3: '#4363d8',\n",
    "             4: '#f58231',\n",
    "             5: '#911eb4',\n",
    "             6: '#46f0f0',\n",
    "             7: '#f032e6',\n",
    "             8: '#bcf60c',\n",
    "             9: '#fabebe',\n",
    "             10: '#008080',\n",
    "             11: '#e6beff',\n",
    "             12: '#9a6324',\n",
    "             13: '#fffac8',\n",
    "             14: '#800000',\n",
    "             15: '#aaffc3',\n",
    "             16: '#808000',\n",
    "             17: '#ffd8b1',\n",
    "             18: '#000075',\n",
    "             19: '#808080',\n",
    "             20: '#000000'\n",
    "}"
   ]
  },
  {
   "cell_type": "code",
   "execution_count": null,
   "metadata": {},
   "outputs": [],
   "source": [
    "lab_color = [dic_color[lab[i]] for i in range(len(lab))]"
   ]
  },
  {
   "cell_type": "code",
   "execution_count": null,
   "metadata": {},
   "outputs": [],
   "source": [
    "#Plot on the first two eigenvectors\n",
    "plt.scatter(Y[:,0],Y[:,1], c=lab_color, cmap='rainbow')  \n",
    "plt.show()"
   ]
  },
  {
   "cell_type": "code",
   "execution_count": null,
   "metadata": {},
   "outputs": [],
   "source": [
    "#Creation of the map (called mapit). You can visualize it by opening the file on Internet\n",
    "mapit = folium.Map(tiles=\"Mapbox Bright\")\n",
    "j=0\n",
    "\n",
    "#plot nodes\n",
    "for i in nodes.iterrows():\n",
    "    coord = [i[1].Latitude, i[1].Longitude]\n",
    "    folium.CircleMarker( location=coord, radius=1, color=lab_color[j], fill=True).add_to( mapit )\n",
    "    j += 1\n",
    "    \n",
    "#plot edges\n",
    "# for i in edges.iloc[:].iterrows():\n",
    "#     my_edge = [coord[i[1].source_airport_id], coord[i[1].destination_airport_id]]\n",
    "#     folium.vector_layers.PolyLine(my_edge, color=\"black\", weight=0.5, opacity=0.5).add_to( mapit )\n",
    "               "
   ]
  },
  {
   "cell_type": "code",
   "execution_count": null,
   "metadata": {},
   "outputs": [],
   "source": [
    "mapit.save('mapit_JB.html')"
   ]
  },
  {
   "cell_type": "markdown",
   "metadata": {},
   "source": [
    "### Computing the error between ground truth and our prediction"
   ]
  },
  {
   "cell_type": "markdown",
   "metadata": {},
   "source": [
    "The idea is to compute the percentage of good predictions we can get from our model compared to the ground truth labels i.e how many airports are correclty labelled in percentage.\n",
    "Correctly labelled means that the cluster in which the airport is attributed is the true continent label of the airport."
   ]
  },
  {
   "cell_type": "markdown",
   "metadata": {},
   "source": [
    "The problem is that K-Means produce several clusters randomly : if we compute 10 clusters, we cannot easily associate each one to a continent to compare.\n",
    "For example : if a cluster is formed on the basis of Europe and Africa, what continent should it be associated to ?\n",
    "\n",
    "One possible idea is to choose keys of the continents that will represent their clusters. We can say that if we take Paris as the key to Europe, we compare the cluster in which Paris is, and the continent Europe. This method is not flawless, but can serve as a way to begin the experiments on finding a good loss function for our optimization. The aim is to automatize this process which is time-consuming and imprecise."
   ]
  },
  {
   "cell_type": "markdown",
   "metadata": {},
   "source": [
    "The continent labels we have are : \n",
    "\"America\":1, \"Asia\":2,\"Europe\":3,\"Africa\":4,\"Pacific\":5,\"Australia\":6,\"Atlantic\":7,\"Indian\":8,\"Arctic\":9,\"\\\\N\":10"
   ]
  },
  {
   "cell_type": "markdown",
   "metadata": {},
   "source": [
    "Keys for the continents :\n",
    "America =\n",
    "Asia = \n",
    "Europe = Rome\n",
    "Africa = \n",
    "Pacific = \n",
    "Australia = \n",
    "Atlantic = \n",
    "Indian = \n",
    "Arctic = \n",
    "\\N = Agartha TMTC"
   ]
  },
  {
   "cell_type": "code",
   "execution_count": null,
   "metadata": {},
   "outputs": [],
   "source": [
    "# Just for Europe and Roma\n",
    "\n",
    "Roma_index = []\n",
    "\n",
    "for i in range(len(airports.City)):\n",
    "    if (airports.City[i] == \"Roma\"):\n",
    "        Roma_index.append(i)"
   ]
  },
  {
   "cell_type": "code",
   "execution_count": null,
   "metadata": {},
   "outputs": [],
   "source": [
    "current_index = Roma_index[0]\n",
    "latitude_R = airports.Latitude[current_index]\n",
    "longitude_R = airports.Longitude[current_index]"
   ]
  },
  {
   "cell_type": "code",
   "execution_count": null,
   "metadata": {},
   "outputs": [],
   "source": [
    "# Finding the index of the key in the nodes\n",
    "key_index = -1\n",
    "for i in range(n_nodes):\n",
    "    if ((nodes.Latitude.values[i] == latitude_R) and (nodes.Longitude.values[i] == longitude_R)):\n",
    "        key_index = i"
   ]
  },
  {
   "cell_type": "code",
   "execution_count": null,
   "metadata": {},
   "outputs": [],
   "source": [
    "label_Europe = lab[key_index]\n",
    "# We can now compare the airports in the cluster associated with label_Europe\n",
    "\n",
    "# Percentage of the European airports that are well recognized :\n",
    "total_eu = 0\n",
    "score_eu = 0\n",
    "for i in range(n_nodes):\n",
    "    if(nodes.Continent.values[i] == \"Europe\"):\n",
    "        total_eu+=1\n",
    "        if(lab[i] == label_Europe):\n",
    "            score_eu+=1"
   ]
  },
  {
   "cell_type": "code",
   "execution_count": null,
   "metadata": {},
   "outputs": [],
   "source": [
    "sum([1 for i in range(n_nodes) if(lab[i]==label_Europe)])"
   ]
  },
  {
   "cell_type": "code",
   "execution_count": null,
   "metadata": {},
   "outputs": [],
   "source": [
    "score_eu"
   ]
  },
  {
   "cell_type": "code",
   "execution_count": null,
   "metadata": {},
   "outputs": [],
   "source": []
  },
  {
   "cell_type": "markdown",
   "metadata": {},
   "source": [
    "### Plot graph with networkx"
   ]
  },
  {
   "cell_type": "code",
   "execution_count": null,
   "metadata": {
    "scrolled": false
   },
   "outputs": [],
   "source": [
    "graph = nx.from_numpy_matrix(weighted_matrix_inv)\n",
    "coords = nx.spring_layout(graph)\n",
    "\n",
    "plt.figure(figsize=(10,7))\n",
    "nc = nx.draw_networkx_nodes(graph, coords, node_size=20, cmap=plt.cm.jet)\n",
    "nx.draw_networkx_edges(graph, coords, alpha=0.3)\n",
    "plt.title(\"Labelled airports\");"
   ]
  },
  {
   "cell_type": "code",
   "execution_count": null,
   "metadata": {},
   "outputs": [],
   "source": []
  }
 ],
 "metadata": {
  "kernelspec": {
   "display_name": "Python 3",
   "language": "python",
   "name": "python3"
  },
  "language_info": {
   "codemirror_mode": {
    "name": "ipython",
    "version": 3
   },
   "file_extension": ".py",
   "mimetype": "text/x-python",
   "name": "python",
   "nbconvert_exporter": "python",
   "pygments_lexer": "ipython3",
   "version": "3.6.6"
  }
 },
 "nbformat": 4,
 "nbformat_minor": 2
}
