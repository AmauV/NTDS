{
 "cells": [
  {
   "cell_type": "markdown",
   "metadata": {},
   "source": [
    "# [NTDS'18] milestone 3: spectral graph theory\n",
    "[ntds'18]: https://github.com/mdeff/ntds_2018\n",
    "\n",
    "[Michaël Defferrard](http://deff.ch), [EPFL LTS2](https://lts2.epfl.ch)"
   ]
  },
  {
   "cell_type": "markdown",
   "metadata": {},
   "source": [
    "## Students\n",
    "\n",
    "* Team: 3\n",
    "* Students: Baptiste Hériard-Dubreuil, Jean-Baptiste Membrado, Guilhem Noiraud, Amaury Véron \n",
    "* Dataset: Flight routes"
   ]
  },
  {
   "cell_type": "markdown",
   "metadata": {},
   "source": [
    "## Rules\n",
    "\n",
    "* Milestones have to be completed by teams. No collaboration between teams is allowed.\n",
    "* Textual answers shall be short. Typically one to two sentences.\n",
    "* Code has to be clean.\n",
    "* You cannot import any other library than we imported.\n",
    "* When submitting, the notebook is executed and the results are stored. I.e., if you open the notebook again it should show numerical results and plots. We won't be able to execute your notebooks.\n",
    "* The notebook is re-executed from a blank state before submission. That is to be sure it is reproducible. You can click \"Kernel\" then \"Restart & Run All\" in Jupyter."
   ]
  },
  {
   "cell_type": "markdown",
   "metadata": {},
   "source": [
    "## Objective\n",
    "\n",
    "The goal of this milestone is to get familiar with the graph Laplacian and its spectral decomposition."
   ]
  },
  {
   "cell_type": "markdown",
   "metadata": {},
   "source": [
    "## 0 Load your network"
   ]
  },
  {
   "cell_type": "code",
   "execution_count": 1,
   "metadata": {},
   "outputs": [],
   "source": [
    "%matplotlib inline"
   ]
  },
  {
   "cell_type": "markdown",
   "metadata": {},
   "source": [
    "If you get a `No module named 'sklearn'` error when running the below cell, install [scikit-learn](https://scikit-learn.org) with `conda install scikit-learn` (after activating the `ntds_2018` environment)."
   ]
  },
  {
   "cell_type": "code",
   "execution_count": 2,
   "metadata": {},
   "outputs": [],
   "source": [
    "import numpy as np\n",
    "from scipy import sparse\n",
    "import scipy.sparse.linalg\n",
    "import matplotlib.pyplot as plt\n",
    "from sklearn.cluster import KMeans"
   ]
  },
  {
   "cell_type": "markdown",
   "metadata": {},
   "source": [
    "Let's denote your graph as $\\mathcal{G} = (\\mathcal{V}, \\mathcal{E}, A)$, where $\\mathcal{V}$ is the set of nodes, $\\mathcal{E}$ is the set of edges, $A \\in \\mathbb{R}^{N \\times N}$ is the (weighted) adjacency matrix, and $N = |\\mathcal{V}|$ is the number of nodes.\n",
    "\n",
    "Import the adjacency matrix $A$ that you constructed in the first milestone.\n",
    "(You're allowed to update it between milestones if you want to.)"
   ]
  },
  {
   "cell_type": "code",
   "execution_count": 3,
   "metadata": {},
   "outputs": [],
   "source": [
    "adjacency =  np.load(\"adjacency.npy\")\n",
    "n_nodes =  len(adjacency[0])"
   ]
  },
  {
   "cell_type": "markdown",
   "metadata": {},
   "source": [
    "## 1 Graph Laplacian"
   ]
  },
  {
   "cell_type": "markdown",
   "metadata": {},
   "source": [
    "### Question 1\n",
    "\n",
    "From the (weighted) adjacency matrix $A$, compute both the combinatorial (also called unnormalized) and the normalized graph Laplacian matrices.\n",
    "\n",
    "Note: if your graph is weighted, use the weighted adjacency matrix. If not, use the binary adjacency matrix.\n",
    "\n",
    "For efficient storage and computation, store these sparse matrices in a [compressed sparse row (CSR) format](https://en.wikipedia.org/wiki/Sparse_matrix#Compressed_sparse_row_.28CSR.2C_CRS_or_Yale_format.29)."
   ]
  },
  {
   "cell_type": "code",
   "execution_count": 4,
   "metadata": {},
   "outputs": [],
   "source": [
    "sparse_adjacency = sparse.csr_matrix(adjacency)\n",
    "\n",
    "laplacian_combinatorial =  sparse.csgraph.laplacian(sparse_adjacency)\n",
    "laplacian_normalized =  sparse.csgraph.laplacian(sparse_adjacency, normed = True)"
   ]
  },
  {
   "cell_type": "markdown",
   "metadata": {},
   "source": [
    "Use one of them as the graph Laplacian $L$ for the rest of the milestone.\n",
    "We however encourage you to run the code with both to get a sense of the difference!"
   ]
  },
  {
   "cell_type": "code",
   "execution_count": 5,
   "metadata": {},
   "outputs": [],
   "source": [
    "laplacian =  laplacian_combinatorial"
   ]
  },
  {
   "cell_type": "markdown",
   "metadata": {},
   "source": [
    "### Question 2\n",
    "\n",
    "Compute the eigendecomposition of the Laplacian $L = U \\Lambda U^\\top$, where the columns $u_k \\in \\mathbb{R}^N$ of $U = [u_1, \\dots, u_N] \\in \\mathbb{R}^{N \\times N}$ are the eigenvectors and the diagonal elements $\\lambda_k = \\Lambda_{kk}$ are the corresponding eigenvalues.\n",
    "\n",
    "Make sure that the eigenvalues are ordered, i.e., $0 = \\lambda_1 \\leq \\lambda_2 \\leq \\dots \\leq \\lambda_N$."
   ]
  },
  {
   "cell_type": "code",
   "execution_count": 6,
   "metadata": {},
   "outputs": [],
   "source": [
    "computation =  scipy.linalg.eig(laplacian.toarray(), left = True)\n",
    "eigenvectors = computation[1]\n",
    "eigenvalues =  computation[0]\n",
    "\n",
    "#Sort to have ordered eigenvalues\n",
    "idx = eigenvalues.argsort()  \n",
    "eigenvalues = np.clip(np.real(eigenvalues[idx]), 1e-10, np.Inf) - 1e-10 #corrects the computation approximations\n",
    "eigenvectors = np.real(eigenvectors[:,idx])\n",
    "\n",
    "#print(eigenvalues)\n",
    "\n",
    "assert eigenvectors.shape == (n_nodes, n_nodes)"
   ]
  },
  {
   "cell_type": "code",
   "execution_count": 7,
   "metadata": {},
   "outputs": [
    {
     "data": {
      "text/plain": [
       "array([0.        , 0.        , 0.        , 0.        , 0.        ,\n",
       "       0.        , 0.        , 0.        , 0.        , 0.        ,\n",
       "       0.03909034, 0.05542375, 0.0600207 , 0.06635115, 0.06818503,\n",
       "       0.08202385, 0.08870359, 0.10449155, 0.10522678, 0.10791315])"
      ]
     },
     "execution_count": 7,
     "metadata": {},
     "output_type": "execute_result"
    }
   ],
   "source": [
    "eigenvalues[0:20]"
   ]
  },
  {
   "cell_type": "markdown",
   "metadata": {},
   "source": [
    "Justify your choice of eigensolver."
   ]
  },
  {
   "cell_type": "markdown",
   "metadata": {},
   "source": [
    "**We cannot use the sparse.linalg eigenvector solver, as it only computes a part of eigenvalues and eigenvectors. Instead, we use the scipy.linalg solver that does the whole computation.**"
   ]
  },
  {
   "cell_type": "markdown",
   "metadata": {},
   "source": [
    "### Question 3\n",
    "\n",
    "We can write $L = S S^\\top$. What is the matrix $S$? What does $S^\\top x$, with $x \\in \\mathbb{R}^N$, compute?"
   ]
  },
  {
   "cell_type": "markdown",
   "metadata": {},
   "source": [
    "**S is the incidence matrix of size $N \\times M$.**\n",
    "\n",
    "**$S^T$ is a matrix with $M$ lines and $N$ columns : on each line $j$ corresponding to the edge $j$, all the coefficients are null, except for the column corresponding to the output node where the value is $+1$, and for the input node, where the value is $-1$. If we consider $x \\in \\mathbb{R}^N$, then $S^T x$ is the vector with each coefficient being $x[i] - x[k]$, with $i$ being the output node for edge $j$, and $k$ being the input node.**\n",
    "\n",
    "**If we see $x$ as a function from $V$ to $\\mathbb{R}^N$, then each component $j$ of $S^T x$ is the derivative of the function along edge $j$. Globally, $S^T x$ is thus the gradient of the function.**"
   ]
  },
  {
   "cell_type": "markdown",
   "metadata": {},
   "source": [
    "### Question 4\n",
    "\n",
    "Show that $\\lambda_k = \\| S^\\top u_k \\|_2^2$, where $\\| \\cdot \\|_2^2$ denotes the squared Euclidean norm (a.k.a. squared $L^2$ norm)."
   ]
  },
  {
   "cell_type": "markdown",
   "metadata": {},
   "source": [
    "**We can express the squared Euclidian norm as follow :**\n",
    "\n",
    "**$\\| S^\\top u_k \\|_2^2 = (S^\\top u_k)^\\top S^\\top u_k = u_k^\\top S S^\\top u_k$**\n",
    "\n",
    "**And $S S^\\top = L$ so that : $\\| S^\\top u_k \\|_2^2 = u_k^\\top L u_k$**\n",
    "\n",
    "**As $u_k$ is an eigenvector, we have : $L u_k = \\lambda_k u_k$**\n",
    "\n",
    "**And finally, $\\| S^\\top u_k \\|_2^2 = \\lambda_k \\| u_k \\|_2^2 = \\lambda_k$**\n",
    "\n",
    "**As the $u_k$ eigenvectors are of norm 1.**"
   ]
  },
  {
   "cell_type": "markdown",
   "metadata": {},
   "source": [
    "What does the quantity $\\| S^\\top x \\|_2^2$ tell us about $x$?"
   ]
  },
  {
   "cell_type": "markdown",
   "metadata": {},
   "source": [
    "**This squared norm is the squared norm of the gradient of $x$ if we consider $x$ as a function.**"
   ]
  },
  {
   "cell_type": "markdown",
   "metadata": {},
   "source": [
    "### Question 5\n",
    "\n",
    "What is the value of $u_0$, both for the combinatorial and normalized Laplacians?"
   ]
  },
  {
   "cell_type": "markdown",
   "metadata": {},
   "source": [
    "**The sum of all the coefficients of a line or column is equal to zero by nature of the matrix construction. So $u_0$, composed of ones, is the trivial eigenvector of each Laplacian and its eigenvalue is zero.**"
   ]
  },
  {
   "cell_type": "code",
   "execution_count": 8,
   "metadata": {},
   "outputs": [
    {
     "data": {
      "text/plain": [
       "0.0"
      ]
     },
     "execution_count": 8,
     "metadata": {},
     "output_type": "execute_result"
    }
   ],
   "source": [
    "#Verification : computation of the norm of A*1. If we get zero, it means that A*1=0.\n",
    "np.linalg.norm(np.dot(laplacian.toarray(),np.ones(3333).T))"
   ]
  },
  {
   "cell_type": "markdown",
   "metadata": {},
   "source": [
    "### Question 6\n",
    "\n",
    "Look at the spectrum of the Laplacian by plotting the eigenvalues.\n",
    "Comment on what you observe."
   ]
  },
  {
   "cell_type": "code",
   "execution_count": 9,
   "metadata": {
    "scrolled": true
   },
   "outputs": [
    {
     "data": {
      "image/png": "[encoded data removed]",
      "text/plain": [
       "<Figure size 1080x360 with 1 Axes>"
      ]
     },
     "metadata": {},
     "output_type": "display_data"
    }
   ],
   "source": [
    "plt.figure(figsize=(15,5))\n",
    "plt.plot(eigenvalues)\n",
    "plt.title('Spectrum of the Laplacian')\n",
    "plt.xlabel('Sorted nodes')\n",
    "plt.ylabel('Eigenvalue')\n",
    "plt.show()"
   ]
  },
  {
   "cell_type": "markdown",
   "metadata": {},
   "source": [
    "**We have a lot of small eigenvalues, and only a few high ones. It seems to increase exponentially.**"
   ]
  },
  {
   "cell_type": "markdown",
   "metadata": {},
   "source": [
    "How many connected components are there in your graph? Answer using the eigenvalues only."
   ]
  },
  {
   "cell_type": "code",
   "execution_count": 10,
   "metadata": {},
   "outputs": [
    {
     "name": "stdout",
     "output_type": "stream",
     "text": [
      "There are 10 connected components.\n"
     ]
    }
   ],
   "source": [
    "#The number of connected components is equal to the multiplicity of the eigenvalue zero.\n",
    "connected_components=len(eigenvalues)-np.count_nonzero(eigenvalues)\n",
    "print('There are',connected_components,'connected components.')"
   ]
  },
  {
   "cell_type": "markdown",
   "metadata": {},
   "source": [
    "Is there an upper bound on the eigenvalues, i.e., what is the largest possible eigenvalue? Answer for both the combinatorial and normalized Laplacians."
   ]
  },
  {
   "cell_type": "code",
   "execution_count": 11,
   "metadata": {},
   "outputs": [],
   "source": [
    "#Computation of the eigenvalues and eigenvectors for the normalized Laplacian\n",
    "computation_norm =  scipy.linalg.eig(laplacian_normalized.toarray(), left = True)\n",
    "eigenvectors_norm = computation_norm[1]\n",
    "eigenvalues_norm =  computation_norm[0]\n",
    "\n",
    "#Sort to have ordered eigenvalues\n",
    "idx = eigenvalues_norm.argsort()  \n",
    "eigenvalues_norm = np.real(eigenvalues_norm[idx])\n",
    "eigenvectors_norm = np.real(eigenvectors_norm[:,idx])"
   ]
  },
  {
   "cell_type": "code",
   "execution_count": 12,
   "metadata": {},
   "outputs": [
    {
     "name": "stdout",
     "output_type": "stream",
     "text": [
      "Largest possible eigenvalue for combinatorial Laplacian is equal to 249.217\n",
      "Largest possible eigenvalue for normalized Laplacian is equal to 2.000\n"
     ]
    }
   ],
   "source": [
    "#Largest eigenvalues\n",
    "print('Largest possible eigenvalue for combinatorial Laplacian is equal to %.3f'%eigenvalues[len(eigenvalues)-1])\n",
    "print('Largest possible eigenvalue for normalized Laplacian is equal to %.3f'%eigenvalues_norm[len(eigenvalues_norm)-1])"
   ]
  },
  {
   "cell_type": "markdown",
   "metadata": {},
   "source": [
    "**For the combinatorial Laplacian, there is no upper bound for the eigenvalues. In our case, the highest lambda is equal to 249.217.**\n",
    "\n",
    "**For the normalized Laplacian, eigenvalues are bounded by the upper bound 2, which is normal because we have a bipartite graph (departure nodes and arrival nodes).**"
   ]
  },
  {
   "cell_type": "markdown",
   "metadata": {},
   "source": [
    "## 2 Laplacian eigenmaps\n",
    "\n",
    "*Laplacian eigenmaps* is a method to embed a graph $\\mathcal{G}$ in a $d$-dimensional Euclidean space.\n",
    "That is, it associates a vector $z_i \\in \\mathbb{R}^d$ to every node $v_i \\in \\mathcal{V}$.\n",
    "The graph $\\mathcal{G}$ is thus embedded as $Z \\in \\mathbb{R}^{N \\times d}$."
   ]
  },
  {
   "cell_type": "code",
   "execution_count": 13,
   "metadata": {},
   "outputs": [
    {
     "data": {
      "text/plain": [
       "3304"
      ]
     },
     "execution_count": 13,
     "metadata": {},
     "output_type": "execute_result"
    }
   ],
   "source": [
    "#Biggest cluster, it is allowed to use networkx for this\n",
    "import networkx as nx\n",
    "\n",
    "connected = sorted(nx.connected_component_subgraphs(nx.from_numpy_matrix(adjacency)), key = len, reverse=True)\n",
    "biggest_cluster = connected[0]\n",
    "biggest_cluster_matrix = nx.to_numpy_matrix(biggest_cluster)\n",
    "sparse_cluster = sparse.csr_matrix(biggest_cluster_matrix)\n",
    "len(biggest_cluster_matrix)"
   ]
  },
  {
   "cell_type": "markdown",
   "metadata": {},
   "source": [
    "### Question 7\n",
    "\n",
    "What do we use Laplacian eigenmaps for? (Or more generally, graph embeddings.)"
   ]
  },
  {
   "cell_type": "markdown",
   "metadata": {},
   "source": [
    "**The main idea behind eigenmaps is to drastically reduce the number of dimensions we are working on with the original graph while losing the least information.**"
   ]
  },
  {
   "cell_type": "markdown",
   "metadata": {},
   "source": [
    "### Question 8\n",
    "\n",
    "Embed your graph in $d=2$ dimensions with Laplacian eigenmaps.\n",
    "Try with and without re-normalizing the eigenvectors by the degrees, then keep the one your prefer.\n",
    "\n",
    "**Recompute** the eigenvectors you need with a partial eigendecomposition method for sparse matrices.\n",
    "When $k \\ll N$ eigenvectors are needed, partial eigendecompositions are much more efficient than complete eigendecompositions.\n",
    "A partial eigendecomposition scales as $\\Omega(k |\\mathcal{E}|$), while a complete eigendecomposition costs $\\mathcal{O}(N^3)$ operations."
   ]
  },
  {
   "cell_type": "code",
   "execution_count": 14,
   "metadata": {},
   "outputs": [],
   "source": [
    "# Construct a matrix of similarities \n",
    "# (ex: take the neighbours which distance d is smaller than epsilon, and put a weight of exp(-d^2/t), with t a parameter)\n",
    "\n",
    "def construct_similarities_by_neighbourhood(adjacency, eps, t):\n",
    "    n_nodes = adjacency.shape[0]\n",
    "    W = np.zeros((n_nodes, n_nodes))\n",
    "    distances = sparse.csgraph.shortest_path(adjacency, directed=False)\n",
    "\n",
    "    for i in range(n_nodes):\n",
    "        for j in range(n_nodes):\n",
    "            if 0<distances[i,j] <= eps:\n",
    "                W[i,j] = np.exp(-distances[i,j]**2/t)\n",
    "                \n",
    "    return sparse.csr_matrix(W)\n",
    "\n",
    "\n",
    "W = construct_similarities_by_neighbourhood(sparse_cluster,5,1)"
   ]
  },
  {
   "cell_type": "code",
   "execution_count": 15,
   "metadata": {},
   "outputs": [],
   "source": [
    "def eigenmaps_from_similarities(W, d, renormed=False):\n",
    "\n",
    "    # Step 1: Compute the laplacian from the similarities as weight matrix\n",
    "    lap, degrees = sparse.csgraph.laplacian(W, normed=True, return_diag=True)\n",
    "\n",
    "    # Step 2: Compute the d eigenvectors associated to the d smallest eigenvalues (except for u0).\n",
    "    # For this, use a PARTIAL eigendecomposition\n",
    "    _, v = sparse.linalg.eigs(lap, k=d, which='SM')\n",
    "    \n",
    "    \n",
    "    # Step 4: Y is the concatenation of those eigenvectors multiplied by a parameter lambda so that Y'DY = eye.\n",
    "    # We have 1/lambda_i = u_i'(D)u_i, and each column of Y is u_i\n",
    "    # Then, the rows of Y are simply the coordonates for each node\n",
    "    factors = v.T.dot(np.diag(degrees).dot(v))\n",
    "    Y = np.real(v.dot(1/factors))\n",
    "\n",
    "    # optionnal : renorm the eigenvectors by the degrees\n",
    "    if renormed == True:\n",
    "        for i in range(d):\n",
    "            Y[:,i] = Y[:,i]/np.linalg.norm(Y[:,i])\n",
    "    \n",
    "    return Y, degrees\n",
    "\n",
    "Y, D = eigenmaps_from_similarities(W, 2, renormed=True)"
   ]
  },
  {
   "cell_type": "markdown",
   "metadata": {},
   "source": [
    "Plot the nodes embedded in 2D. Comment on what you see."
   ]
  },
  {
   "cell_type": "code",
   "execution_count": 16,
   "metadata": {},
   "outputs": [
    {
     "data": {
      "image/png": "[encoded data removed]",
      "text/plain": [
       "<Figure size 432x288 with 2 Axes>"
      ]
     },
     "metadata": {},
     "output_type": "display_data"
    }
   ],
   "source": [
    "# Plot\n",
    "cm = plt.cm.get_cmap('RdYlBu')\n",
    "plt.scatter(Y[:,0], Y[:,1], c=D, cmap=cm, vmin=min(D), vmax=max(D))\n",
    "cbar= plt.colorbar()\n",
    "cbar.set_label(\"degree (normalized)\")\n",
    "plt.show()"
   ]
  },
  {
   "cell_type": "markdown",
   "metadata": {},
   "source": [
    "**We see that we have a great proportion of airports that are situated on the left part and another part situated on the rightmost part. In the left vertical part, we can distinguish the points associated to degrees higher than 5 and the others. Also, we can define a group with the rightmost points. In the middle of those two groups, we see another possible cluster grouping the points in the elbow-shaped area.**"
   ]
  },
  {
   "cell_type": "markdown",
   "metadata": {},
   "source": [
    "### Question 9"
   ]
  },
  {
   "cell_type": "markdown",
   "metadata": {},
   "source": [
    "What does the embedding $Z \\in \\mathbb{R}^{N \\times d}$ preserve?"
   ]
  },
  {
   "cell_type": "markdown",
   "metadata": {},
   "source": [
    "**The $Z$ embedding preserves the similarity between nodes. This function from the space of the nodes to a $d$-dimension space will map similar points close to each other.**"
   ]
  },
  {
   "cell_type": "markdown",
   "metadata": {},
   "source": [
    "## 3 Spectral clustering\n",
    "\n",
    "*Spectral clustering* is a method to partition a graph into distinct clusters.\n",
    "The method associates a feature vector $z_i \\in \\mathbb{R}^d$ to every node $v_i \\in \\mathcal{V}$, then runs [$k$-means](https://en.wikipedia.org/wiki/K-means_clustering) in the embedding space $\\mathbb{R}^d$ to assign each node $v_i \\in \\mathcal{V}$ to a cluster $c_j \\in \\mathcal{C}$, where $k = |\\mathcal{C}|$ is the number of desired clusters."
   ]
  },
  {
   "cell_type": "markdown",
   "metadata": {},
   "source": [
    "### Question 10\n",
    "\n",
    "Choose $k$ and $d$. How did you get to those numbers?"
   ]
  },
  {
   "cell_type": "markdown",
   "metadata": {},
   "source": [
    "**d=2 as we want to have a 2D plot. k is chosen from the Question 8 analysis : we believe we can separate our data into 3 groups, the great airports, the medium-sized airports, that form a great part of the data, and the smallest airports.**"
   ]
  },
  {
   "cell_type": "markdown",
   "metadata": {},
   "source": [
    "### Question 11\n",
    "\n",
    "1. Embed your graph in $\\mathbb{R}^d$ as $Z \\in \\mathbb{R}^{N \\times d}$.\n",
    "   Try with and without re-normalizing the eigenvectors by the degrees, then keep the one your prefer.\n",
    "1. If you want $k=2$ clusters, partition with the Fiedler vector. For $k > 2$ clusters, run $k$-means on $Z$. Don't implement $k$-means, use the `KMeans` class imported from scikit-learn."
   ]
  },
  {
   "cell_type": "code",
   "execution_count": 17,
   "metadata": {
    "scrolled": true
   },
   "outputs": [
    {
     "data": {
      "text/plain": [
       "KMeans(algorithm='auto', copy_x=True, init='k-means++', max_iter=300,\n",
       "    n_clusters=3, n_init=10, n_jobs=None, precompute_distances='auto',\n",
       "    random_state=None, tol=0.0001, verbose=0)"
      ]
     },
     "execution_count": 17,
     "metadata": {},
     "output_type": "execute_result"
    }
   ],
   "source": [
    "kmeans = KMeans(n_clusters=3)\n",
    "kmeans.fit(Y)"
   ]
  },
  {
   "cell_type": "markdown",
   "metadata": {},
   "source": [
    "### Question 12\n",
    "\n",
    "Use the computed cluster assignment to reorder the adjacency matrix $A$.\n",
    "What do you expect? What do you observe?"
   ]
  },
  {
   "cell_type": "code",
   "execution_count": 18,
   "metadata": {},
   "outputs": [
    {
     "data": {
      "image/png": "[encoded data removed]",
      "text/plain": [
       "<Figure size 432x288 with 1 Axes>"
      ]
     },
     "metadata": {},
     "output_type": "display_data"
    }
   ],
   "source": [
    "kmeans.labels_.tolist()\n",
    "\n",
    "idx2 = kmeans.labels_.argsort()  \n",
    "plt.spy(adjacency[idx2,:][:,idx2], markersize = 0.7)\n",
    "plt.show()"
   ]
  },
  {
   "cell_type": "markdown",
   "metadata": {},
   "source": [
    "**We expected a block diagonal matrix. We can see the three blocks but there are many points out of those blocks. It's probably because big airports are also connected with smaller ones.**"
   ]
  },
  {
   "cell_type": "markdown",
   "metadata": {},
   "source": [
    "### Question 13\n",
    "\n",
    "If you have ground truth clusters for your dataset, compare the cluster assignment from spectral clustering to the ground truth.\n",
    "A simple quantitative measure is to compute the percentage of nodes that have been correctly categorized.\n",
    "If you don't have a ground truth, qualitatively assess the quality of the clustering.\n",
    "\n",
    "Ground truth clusters are the \"real clusters\".\n",
    "For example, the genre of musical tracks in FMA, the category of Wikipedia articles, the spammer status of individuals, etc.\n",
    "Look for the `labels` in the [dataset descriptions](https://github.com/mdeff/ntds_2018/tree/master/projects/README.md)."
   ]
  },
  {
   "cell_type": "markdown",
   "metadata": {},
   "source": [
    "**We can identify three areas on our matrix. ~600 nodes are highly connected, with others from the same area and from different areas. They would correspond to major hubs. The biggest part (~2600 nodes) are medium-sized airports, mostly connected to the major hubs. The remaining ~50 airports are very low-connected nodes. It seems that we are close to the ground truth even if it is difficult to make an estimation because of the many points out of the diagonale.**"
   ]
  },
  {
   "cell_type": "markdown",
   "metadata": {},
   "source": [
    "### Question 14\n",
    "\n",
    "Plot the cluster assignment (one color per cluster) on the 2D embedding you computed above with Laplacian eigenmaps."
   ]
  },
  {
   "cell_type": "code",
   "execution_count": 19,
   "metadata": {},
   "outputs": [
    {
     "data": {
      "image/png": "[encoded data removed]",
      "text/plain": [
       "<Figure size 432x288 with 1 Axes>"
      ]
     },
     "metadata": {},
     "output_type": "display_data"
    }
   ],
   "source": [
    "plt.scatter(Y[:,0],Y[:,1], c=kmeans.labels_, cmap='rainbow')  \n",
    "plt.show()"
   ]
  },
  {
   "cell_type": "markdown",
   "metadata": {},
   "source": [
    "### Question 15\n",
    "\n",
    "Why did we use the eigenvectors of the graph Laplacian as features? Could we use other features for clustering?"
   ]
  },
  {
   "cell_type": "markdown",
   "metadata": {},
   "source": [
    "**We used the eigenvectors of the graph laplacian as it is the optimal solution for minimizing the sum of the distances weighted by the similarities (given the orthonormality of the features). This allow us to make similar points be close.**\n",
    "\n",
    "**We could have used other features, if they generate a space where some information is not constant. The best features are the one with the higher variation of similarities. In our case, we could have used directly the degree to have a not so different result.**"
   ]
  },
  {
   "cell_type": "code",
   "execution_count": null,
   "metadata": {},
   "outputs": [],
   "source": []
  }
 ],
 "metadata": {
  "kernelspec": {
   "display_name": "Python 3",
   "language": "python",
   "name": "python3"
  },
  "language_info": {
   "codemirror_mode": {
    "name": "ipython",
    "version": 3
   },
   "file_extension": ".py",
   "mimetype": "text/x-python",
   "name": "python",
   "nbconvert_exporter": "python",
   "pygments_lexer": "ipython3",
   "version": "3.7.0"
  }
 },
 "nbformat": 4,
 "nbformat_minor": 2
}
